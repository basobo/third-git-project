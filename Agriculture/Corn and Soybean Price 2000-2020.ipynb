{
 "cells": [
  {
   "cell_type": "markdown",
   "metadata": {},
   "source": [
    "The U. S. Department of Agriculture (USDA) issues a monthly World Agricultural Supply and Demand Estimate (WASDE) report which includes projections for the Supply and Demand for various U. S. crops. The data in the reports indicates (amongst other things) projected scarcity of crop supplies - which affects price movements on the commodity markets. (Python Kernel to follow shortly.)"
   ]
  },
  {
   "cell_type": "code",
   "execution_count": null,
   "metadata": {},
   "outputs": [],
   "source": []
  }
 ],
 "metadata": {
  "kernelspec": {
   "display_name": "Python 3",
   "language": "python",
   "name": "python3"
  },
  "language_info": {
   "codemirror_mode": {
    "name": "ipython",
    "version": 3
   },
   "file_extension": ".py",
   "mimetype": "text/x-python",
   "name": "python",
   "nbconvert_exporter": "python",
   "pygments_lexer": "ipython3",
   "version": "3.7.6"
  }
 },
 "nbformat": 4,
 "nbformat_minor": 4
}
