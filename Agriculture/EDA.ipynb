{
 "cells": [
  {
   "cell_type": "code",
   "execution_count": 1,
   "metadata": {},
   "outputs": [],
   "source": [
    "# project"
   ]
  },
  {
   "cell_type": "code",
   "execution_count": 2,
   "metadata": {},
   "outputs": [],
   "source": [
    "# For DataFrame\n",
    "import pandas as pd\n",
    "import numpy as np"
   ]
  },
  {
   "cell_type": "code",
   "execution_count": 3,
   "metadata": {},
   "outputs": [],
   "source": [
    "# For Analysis\n",
    "import matplotlib.pyplot as plt\n",
    "import seaborn as sns"
   ]
  },
  {
   "cell_type": "code",
   "execution_count": 6,
   "metadata": {},
   "outputs": [],
   "source": [
    "# Load dataset\n",
    "df=pd.read_csv('datasets_25853_33055_USDAProj_Corn_2007to2008.csv')"
   ]
  },
  {
   "cell_type": "code",
   "execution_count": 7,
   "metadata": {},
   "outputs": [
    {
     "data": {
      "text/html": [
       "<div>\n",
       "<style scoped>\n",
       "    .dataframe tbody tr th:only-of-type {\n",
       "        vertical-align: middle;\n",
       "    }\n",
       "\n",
       "    .dataframe tbody tr th {\n",
       "        vertical-align: top;\n",
       "    }\n",
       "\n",
       "    .dataframe thead th {\n",
       "        text-align: right;\n",
       "    }\n",
       "</style>\n",
       "<table border=\"1\" class=\"dataframe\">\n",
       "  <thead>\n",
       "    <tr style=\"text-align: right;\">\n",
       "      <th></th>\n",
       "      <th>Date</th>\n",
       "      <th>Area Planted</th>\n",
       "      <th>Area Harvested</th>\n",
       "      <th>Yield</th>\n",
       "      <th>Beginning Stocks</th>\n",
       "      <th>Production</th>\n",
       "      <th>Imports</th>\n",
       "      <th>Total Supply</th>\n",
       "      <th>Feed and Residual</th>\n",
       "      <th>FSI</th>\n",
       "      <th>...</th>\n",
       "      <th>Southeast Asia DomesticTotal</th>\n",
       "      <th>Southeast Asia Exports</th>\n",
       "      <th>Southeast Asia EndingStocks</th>\n",
       "      <th>European Union BeginningStocks</th>\n",
       "      <th>European Union Production</th>\n",
       "      <th>European Union Imports</th>\n",
       "      <th>European Union DomesticFeed</th>\n",
       "      <th>European Union DomesticTotal</th>\n",
       "      <th>European Union Exports</th>\n",
       "      <th>European Union EndingStocks</th>\n",
       "    </tr>\n",
       "  </thead>\n",
       "  <tbody>\n",
       "    <tr>\n",
       "      <th>0</th>\n",
       "      <td>2007/05/11</td>\n",
       "      <td>90.5</td>\n",
       "      <td>82.9</td>\n",
       "      <td>150.3</td>\n",
       "      <td>937.0</td>\n",
       "      <td>12460.0</td>\n",
       "      <td>15.0</td>\n",
       "      <td>13412.0</td>\n",
       "      <td>5700.0</td>\n",
       "      <td>4790.0</td>\n",
       "      <td>...</td>\n",
       "      <td>21.35</td>\n",
       "      <td>0.24</td>\n",
       "      <td>1.95</td>\n",
       "      <td>10.42</td>\n",
       "      <td>55.37</td>\n",
       "      <td>3.5</td>\n",
       "      <td>45.3</td>\n",
       "      <td>60.3</td>\n",
       "      <td>0.3</td>\n",
       "      <td>8.69</td>\n",
       "    </tr>\n",
       "    <tr>\n",
       "      <th>1</th>\n",
       "      <td>2007/06/11</td>\n",
       "      <td>90.5</td>\n",
       "      <td>82.9</td>\n",
       "      <td>150.3</td>\n",
       "      <td>987.0</td>\n",
       "      <td>12460.0</td>\n",
       "      <td>15.0</td>\n",
       "      <td>13462.0</td>\n",
       "      <td>5700.0</td>\n",
       "      <td>4790.0</td>\n",
       "      <td>...</td>\n",
       "      <td>21.35</td>\n",
       "      <td>0.24</td>\n",
       "      <td>1.95</td>\n",
       "      <td>10.72</td>\n",
       "      <td>55.72</td>\n",
       "      <td>3.5</td>\n",
       "      <td>45.8</td>\n",
       "      <td>60.8</td>\n",
       "      <td>0.3</td>\n",
       "      <td>8.84</td>\n",
       "    </tr>\n",
       "    <tr>\n",
       "      <th>2</th>\n",
       "      <td>2007/07/12</td>\n",
       "      <td>92.9</td>\n",
       "      <td>85.4</td>\n",
       "      <td>150.3</td>\n",
       "      <td>1137.0</td>\n",
       "      <td>12840.0</td>\n",
       "      <td>15.0</td>\n",
       "      <td>13992.0</td>\n",
       "      <td>5700.0</td>\n",
       "      <td>4790.0</td>\n",
       "      <td>...</td>\n",
       "      <td>21.35</td>\n",
       "      <td>0.24</td>\n",
       "      <td>1.97</td>\n",
       "      <td>10.72</td>\n",
       "      <td>55.23</td>\n",
       "      <td>3.5</td>\n",
       "      <td>45.8</td>\n",
       "      <td>60.8</td>\n",
       "      <td>0.3</td>\n",
       "      <td>8.35</td>\n",
       "    </tr>\n",
       "    <tr>\n",
       "      <th>3</th>\n",
       "      <td>2007/08/10</td>\n",
       "      <td>92.9</td>\n",
       "      <td>85.4</td>\n",
       "      <td>152.8</td>\n",
       "      <td>1137.0</td>\n",
       "      <td>13054.0</td>\n",
       "      <td>15.0</td>\n",
       "      <td>14206.0</td>\n",
       "      <td>5750.0</td>\n",
       "      <td>4790.0</td>\n",
       "      <td>...</td>\n",
       "      <td>21.35</td>\n",
       "      <td>0.24</td>\n",
       "      <td>1.92</td>\n",
       "      <td>10.72</td>\n",
       "      <td>48.43</td>\n",
       "      <td>6.0</td>\n",
       "      <td>45.8</td>\n",
       "      <td>60.8</td>\n",
       "      <td>0.3</td>\n",
       "      <td>4.05</td>\n",
       "    </tr>\n",
       "    <tr>\n",
       "      <th>4</th>\n",
       "      <td>2007/09/12</td>\n",
       "      <td>92.9</td>\n",
       "      <td>85.4</td>\n",
       "      <td>155.8</td>\n",
       "      <td>1142.0</td>\n",
       "      <td>13308.0</td>\n",
       "      <td>15.0</td>\n",
       "      <td>14465.0</td>\n",
       "      <td>5850.0</td>\n",
       "      <td>4690.0</td>\n",
       "      <td>...</td>\n",
       "      <td>21.35</td>\n",
       "      <td>0.24</td>\n",
       "      <td>1.77</td>\n",
       "      <td>10.62</td>\n",
       "      <td>46.94</td>\n",
       "      <td>8.0</td>\n",
       "      <td>46.5</td>\n",
       "      <td>61.5</td>\n",
       "      <td>0.3</td>\n",
       "      <td>3.76</td>\n",
       "    </tr>\n",
       "  </tbody>\n",
       "</table>\n",
       "<p>5 rows × 113 columns</p>\n",
       "</div>"
      ],
      "text/plain": [
       "         Date  Area Planted  Area Harvested  Yield  Beginning Stocks  \\\n",
       "0  2007/05/11          90.5            82.9  150.3             937.0   \n",
       "1  2007/06/11          90.5            82.9  150.3             987.0   \n",
       "2  2007/07/12          92.9            85.4  150.3            1137.0   \n",
       "3  2007/08/10          92.9            85.4  152.8            1137.0   \n",
       "4  2007/09/12          92.9            85.4  155.8            1142.0   \n",
       "\n",
       "   Production  Imports  Total Supply  Feed and Residual     FSI  ...  \\\n",
       "0     12460.0     15.0       13412.0             5700.0  4790.0  ...   \n",
       "1     12460.0     15.0       13462.0             5700.0  4790.0  ...   \n",
       "2     12840.0     15.0       13992.0             5700.0  4790.0  ...   \n",
       "3     13054.0     15.0       14206.0             5750.0  4790.0  ...   \n",
       "4     13308.0     15.0       14465.0             5850.0  4690.0  ...   \n",
       "\n",
       "   Southeast Asia DomesticTotal  Southeast Asia Exports  \\\n",
       "0                         21.35                    0.24   \n",
       "1                         21.35                    0.24   \n",
       "2                         21.35                    0.24   \n",
       "3                         21.35                    0.24   \n",
       "4                         21.35                    0.24   \n",
       "\n",
       "   Southeast Asia EndingStocks  European Union BeginningStocks  \\\n",
       "0                         1.95                           10.42   \n",
       "1                         1.95                           10.72   \n",
       "2                         1.97                           10.72   \n",
       "3                         1.92                           10.72   \n",
       "4                         1.77                           10.62   \n",
       "\n",
       "   European Union Production  European Union Imports  \\\n",
       "0                      55.37                     3.5   \n",
       "1                      55.72                     3.5   \n",
       "2                      55.23                     3.5   \n",
       "3                      48.43                     6.0   \n",
       "4                      46.94                     8.0   \n",
       "\n",
       "   European Union DomesticFeed  European Union DomesticTotal  \\\n",
       "0                         45.3                          60.3   \n",
       "1                         45.8                          60.8   \n",
       "2                         45.8                          60.8   \n",
       "3                         45.8                          60.8   \n",
       "4                         46.5                          61.5   \n",
       "\n",
       "   European Union Exports  European Union EndingStocks  \n",
       "0                     0.3                         8.69  \n",
       "1                     0.3                         8.84  \n",
       "2                     0.3                         8.35  \n",
       "3                     0.3                         4.05  \n",
       "4                     0.3                         3.76  \n",
       "\n",
       "[5 rows x 113 columns]"
      ]
     },
     "execution_count": 7,
     "metadata": {},
     "output_type": "execute_result"
    }
   ],
   "source": [
    "df.head()"
   ]
  },
  {
   "cell_type": "code",
   "execution_count": 8,
   "metadata": {},
   "outputs": [
    {
     "data": {
      "text/plain": [
       "(24, 113)"
      ]
     },
     "execution_count": 8,
     "metadata": {},
     "output_type": "execute_result"
    }
   ],
   "source": [
    "df.shape"
   ]
  },
  {
   "cell_type": "code",
   "execution_count": 9,
   "metadata": {},
   "outputs": [
    {
     "name": "stdout",
     "output_type": "stream",
     "text": [
      "<class 'pandas.core.frame.DataFrame'>\n",
      "RangeIndex: 24 entries, 0 to 23\n",
      "Columns: 113 entries, Date to European Union EndingStocks\n",
      "dtypes: float64(112), object(1)\n",
      "memory usage: 21.3+ KB\n"
     ]
    }
   ],
   "source": [
    "df.info()"
   ]
  },
  {
   "cell_type": "code",
   "execution_count": 10,
   "metadata": {},
   "outputs": [
    {
     "data": {
      "text/html": [
       "<div>\n",
       "<style scoped>\n",
       "    .dataframe tbody tr th:only-of-type {\n",
       "        vertical-align: middle;\n",
       "    }\n",
       "\n",
       "    .dataframe tbody tr th {\n",
       "        vertical-align: top;\n",
       "    }\n",
       "\n",
       "    .dataframe thead th {\n",
       "        text-align: right;\n",
       "    }\n",
       "</style>\n",
       "<table border=\"1\" class=\"dataframe\">\n",
       "  <thead>\n",
       "    <tr style=\"text-align: right;\">\n",
       "      <th></th>\n",
       "      <th>Area Planted</th>\n",
       "      <th>Area Harvested</th>\n",
       "      <th>Yield</th>\n",
       "      <th>Beginning Stocks</th>\n",
       "      <th>Production</th>\n",
       "      <th>Imports</th>\n",
       "      <th>Total Supply</th>\n",
       "      <th>Feed and Residual</th>\n",
       "      <th>FSI</th>\n",
       "      <th>Ethanol</th>\n",
       "      <th>...</th>\n",
       "      <th>Southeast Asia DomesticTotal</th>\n",
       "      <th>Southeast Asia Exports</th>\n",
       "      <th>Southeast Asia EndingStocks</th>\n",
       "      <th>European Union BeginningStocks</th>\n",
       "      <th>European Union Production</th>\n",
       "      <th>European Union Imports</th>\n",
       "      <th>European Union DomesticFeed</th>\n",
       "      <th>European Union DomesticTotal</th>\n",
       "      <th>European Union Exports</th>\n",
       "      <th>European Union EndingStocks</th>\n",
       "    </tr>\n",
       "  </thead>\n",
       "  <tbody>\n",
       "    <tr>\n",
       "      <th>count</th>\n",
       "      <td>24.000000</td>\n",
       "      <td>24.000000</td>\n",
       "      <td>24.000000</td>\n",
       "      <td>24.000000</td>\n",
       "      <td>24.000000</td>\n",
       "      <td>24.00000</td>\n",
       "      <td>24.000000</td>\n",
       "      <td>24.000000</td>\n",
       "      <td>24.000000</td>\n",
       "      <td>24.000000</td>\n",
       "      <td>...</td>\n",
       "      <td>24.000000</td>\n",
       "      <td>24.000000</td>\n",
       "      <td>24.000000</td>\n",
       "      <td>24.000000</td>\n",
       "      <td>24.000000</td>\n",
       "      <td>24.000000</td>\n",
       "      <td>24.000000</td>\n",
       "      <td>24.000000</td>\n",
       "      <td>24.000000</td>\n",
       "      <td>24.000000</td>\n",
       "    </tr>\n",
       "    <tr>\n",
       "      <th>mean</th>\n",
       "      <td>93.237500</td>\n",
       "      <td>86.012500</td>\n",
       "      <td>151.508333</td>\n",
       "      <td>1254.833333</td>\n",
       "      <td>13034.000000</td>\n",
       "      <td>16.62500</td>\n",
       "      <td>14305.458333</td>\n",
       "      <td>5910.375000</td>\n",
       "      <td>4498.666667</td>\n",
       "      <td>3137.750000</td>\n",
       "      <td>...</td>\n",
       "      <td>21.327083</td>\n",
       "      <td>0.388333</td>\n",
       "      <td>1.772083</td>\n",
       "      <td>9.003750</td>\n",
       "      <td>48.550417</td>\n",
       "      <td>10.690833</td>\n",
       "      <td>47.941667</td>\n",
       "      <td>61.916667</td>\n",
       "      <td>0.402500</td>\n",
       "      <td>5.925000</td>\n",
       "    </tr>\n",
       "    <tr>\n",
       "      <th>std</th>\n",
       "      <td>0.874177</td>\n",
       "      <td>1.028427</td>\n",
       "      <td>1.378694</td>\n",
       "      <td>106.154795</td>\n",
       "      <td>198.679992</td>\n",
       "      <td>2.22266</td>\n",
       "      <td>289.473282</td>\n",
       "      <td>161.035457</td>\n",
       "      <td>171.314526</td>\n",
       "      <td>151.966029</td>\n",
       "      <td>...</td>\n",
       "      <td>0.145198</td>\n",
       "      <td>0.152591</td>\n",
       "      <td>0.098289</td>\n",
       "      <td>1.397289</td>\n",
       "      <td>2.704564</td>\n",
       "      <td>3.519743</td>\n",
       "      <td>1.844125</td>\n",
       "      <td>1.009807</td>\n",
       "      <td>0.119646</td>\n",
       "      <td>1.493196</td>\n",
       "    </tr>\n",
       "    <tr>\n",
       "      <th>min</th>\n",
       "      <td>90.500000</td>\n",
       "      <td>82.900000</td>\n",
       "      <td>150.300000</td>\n",
       "      <td>937.000000</td>\n",
       "      <td>12460.000000</td>\n",
       "      <td>15.00000</td>\n",
       "      <td>13412.000000</td>\n",
       "      <td>5650.000000</td>\n",
       "      <td>4295.000000</td>\n",
       "      <td>2950.000000</td>\n",
       "      <td>...</td>\n",
       "      <td>20.950000</td>\n",
       "      <td>0.240000</td>\n",
       "      <td>1.560000</td>\n",
       "      <td>7.380000</td>\n",
       "      <td>46.390000</td>\n",
       "      <td>3.500000</td>\n",
       "      <td>45.300000</td>\n",
       "      <td>60.300000</td>\n",
       "      <td>0.300000</td>\n",
       "      <td>3.760000</td>\n",
       "    </tr>\n",
       "    <tr>\n",
       "      <th>25%</th>\n",
       "      <td>93.500000</td>\n",
       "      <td>86.100000</td>\n",
       "      <td>150.700000</td>\n",
       "      <td>1304.000000</td>\n",
       "      <td>13038.000000</td>\n",
       "      <td>15.00000</td>\n",
       "      <td>14362.000000</td>\n",
       "      <td>5737.500000</td>\n",
       "      <td>4362.250000</td>\n",
       "      <td>3019.500000</td>\n",
       "      <td>...</td>\n",
       "      <td>21.300000</td>\n",
       "      <td>0.240000</td>\n",
       "      <td>1.720000</td>\n",
       "      <td>7.380000</td>\n",
       "      <td>47.357500</td>\n",
       "      <td>9.500000</td>\n",
       "      <td>46.000000</td>\n",
       "      <td>61.000000</td>\n",
       "      <td>0.300000</td>\n",
       "      <td>4.967500</td>\n",
       "    </tr>\n",
       "    <tr>\n",
       "      <th>50%</th>\n",
       "      <td>93.600000</td>\n",
       "      <td>86.500000</td>\n",
       "      <td>151.100000</td>\n",
       "      <td>1304.000000</td>\n",
       "      <td>13074.000000</td>\n",
       "      <td>15.00000</td>\n",
       "      <td>14393.000000</td>\n",
       "      <td>5944.000000</td>\n",
       "      <td>4412.000000</td>\n",
       "      <td>3063.000000</td>\n",
       "      <td>...</td>\n",
       "      <td>21.325000</td>\n",
       "      <td>0.375000</td>\n",
       "      <td>1.760000</td>\n",
       "      <td>9.295000</td>\n",
       "      <td>47.595000</td>\n",
       "      <td>12.250000</td>\n",
       "      <td>48.300000</td>\n",
       "      <td>61.700000</td>\n",
       "      <td>0.325000</td>\n",
       "      <td>5.505000</td>\n",
       "    </tr>\n",
       "    <tr>\n",
       "      <th>75%</th>\n",
       "      <td>93.600000</td>\n",
       "      <td>86.500000</td>\n",
       "      <td>151.100000</td>\n",
       "      <td>1304.000000</td>\n",
       "      <td>13074.000000</td>\n",
       "      <td>18.50000</td>\n",
       "      <td>14396.500000</td>\n",
       "      <td>6011.750000</td>\n",
       "      <td>4590.000000</td>\n",
       "      <td>3200.000000</td>\n",
       "      <td>...</td>\n",
       "      <td>21.350000</td>\n",
       "      <td>0.550000</td>\n",
       "      <td>1.820000</td>\n",
       "      <td>10.152500</td>\n",
       "      <td>48.390000</td>\n",
       "      <td>13.500000</td>\n",
       "      <td>49.250000</td>\n",
       "      <td>63.000000</td>\n",
       "      <td>0.500000</td>\n",
       "      <td>6.390000</td>\n",
       "    </tr>\n",
       "    <tr>\n",
       "      <th>max</th>\n",
       "      <td>93.600000</td>\n",
       "      <td>86.500000</td>\n",
       "      <td>155.800000</td>\n",
       "      <td>1304.000000</td>\n",
       "      <td>13318.000000</td>\n",
       "      <td>20.00000</td>\n",
       "      <td>14637.000000</td>\n",
       "      <td>6150.000000</td>\n",
       "      <td>4790.000000</td>\n",
       "      <td>3400.000000</td>\n",
       "      <td>...</td>\n",
       "      <td>21.700000</td>\n",
       "      <td>0.590000</td>\n",
       "      <td>1.970000</td>\n",
       "      <td>10.720000</td>\n",
       "      <td>55.720000</td>\n",
       "      <td>14.020000</td>\n",
       "      <td>50.500000</td>\n",
       "      <td>63.500000</td>\n",
       "      <td>0.590000</td>\n",
       "      <td>8.840000</td>\n",
       "    </tr>\n",
       "  </tbody>\n",
       "</table>\n",
       "<p>8 rows × 112 columns</p>\n",
       "</div>"
      ],
      "text/plain": [
       "       Area Planted  Area Harvested       Yield  Beginning Stocks  \\\n",
       "count     24.000000       24.000000   24.000000         24.000000   \n",
       "mean      93.237500       86.012500  151.508333       1254.833333   \n",
       "std        0.874177        1.028427    1.378694        106.154795   \n",
       "min       90.500000       82.900000  150.300000        937.000000   \n",
       "25%       93.500000       86.100000  150.700000       1304.000000   \n",
       "50%       93.600000       86.500000  151.100000       1304.000000   \n",
       "75%       93.600000       86.500000  151.100000       1304.000000   \n",
       "max       93.600000       86.500000  155.800000       1304.000000   \n",
       "\n",
       "         Production   Imports  Total Supply  Feed and Residual          FSI  \\\n",
       "count     24.000000  24.00000     24.000000          24.000000    24.000000   \n",
       "mean   13034.000000  16.62500  14305.458333        5910.375000  4498.666667   \n",
       "std      198.679992   2.22266    289.473282         161.035457   171.314526   \n",
       "min    12460.000000  15.00000  13412.000000        5650.000000  4295.000000   \n",
       "25%    13038.000000  15.00000  14362.000000        5737.500000  4362.250000   \n",
       "50%    13074.000000  15.00000  14393.000000        5944.000000  4412.000000   \n",
       "75%    13074.000000  18.50000  14396.500000        6011.750000  4590.000000   \n",
       "max    13318.000000  20.00000  14637.000000        6150.000000  4790.000000   \n",
       "\n",
       "           Ethanol  ...  Southeast Asia DomesticTotal  Southeast Asia Exports  \\\n",
       "count    24.000000  ...                     24.000000               24.000000   \n",
       "mean   3137.750000  ...                     21.327083                0.388333   \n",
       "std     151.966029  ...                      0.145198                0.152591   \n",
       "min    2950.000000  ...                     20.950000                0.240000   \n",
       "25%    3019.500000  ...                     21.300000                0.240000   \n",
       "50%    3063.000000  ...                     21.325000                0.375000   \n",
       "75%    3200.000000  ...                     21.350000                0.550000   \n",
       "max    3400.000000  ...                     21.700000                0.590000   \n",
       "\n",
       "       Southeast Asia EndingStocks  European Union BeginningStocks  \\\n",
       "count                    24.000000                       24.000000   \n",
       "mean                      1.772083                        9.003750   \n",
       "std                       0.098289                        1.397289   \n",
       "min                       1.560000                        7.380000   \n",
       "25%                       1.720000                        7.380000   \n",
       "50%                       1.760000                        9.295000   \n",
       "75%                       1.820000                       10.152500   \n",
       "max                       1.970000                       10.720000   \n",
       "\n",
       "       European Union Production  European Union Imports  \\\n",
       "count                  24.000000               24.000000   \n",
       "mean                   48.550417               10.690833   \n",
       "std                     2.704564                3.519743   \n",
       "min                    46.390000                3.500000   \n",
       "25%                    47.357500                9.500000   \n",
       "50%                    47.595000               12.250000   \n",
       "75%                    48.390000               13.500000   \n",
       "max                    55.720000               14.020000   \n",
       "\n",
       "       European Union DomesticFeed  European Union DomesticTotal  \\\n",
       "count                    24.000000                     24.000000   \n",
       "mean                     47.941667                     61.916667   \n",
       "std                       1.844125                      1.009807   \n",
       "min                      45.300000                     60.300000   \n",
       "25%                      46.000000                     61.000000   \n",
       "50%                      48.300000                     61.700000   \n",
       "75%                      49.250000                     63.000000   \n",
       "max                      50.500000                     63.500000   \n",
       "\n",
       "       European Union Exports  European Union EndingStocks  \n",
       "count               24.000000                    24.000000  \n",
       "mean                 0.402500                     5.925000  \n",
       "std                  0.119646                     1.493196  \n",
       "min                  0.300000                     3.760000  \n",
       "25%                  0.300000                     4.967500  \n",
       "50%                  0.325000                     5.505000  \n",
       "75%                  0.500000                     6.390000  \n",
       "max                  0.590000                     8.840000  \n",
       "\n",
       "[8 rows x 112 columns]"
      ]
     },
     "execution_count": 10,
     "metadata": {},
     "output_type": "execute_result"
    }
   ],
   "source": [
    "df.describe()"
   ]
  },
  {
   "cell_type": "code",
   "execution_count": 11,
   "metadata": {},
   "outputs": [
    {
     "data": {
      "text/plain": [
       "Date                            0\n",
       "Area Planted                    0\n",
       "Area Harvested                  0\n",
       "Yield                           0\n",
       "Beginning Stocks                0\n",
       "                               ..\n",
       "European Union Imports          0\n",
       "European Union DomesticFeed     0\n",
       "European Union DomesticTotal    0\n",
       "European Union Exports          0\n",
       "European Union EndingStocks     0\n",
       "Length: 113, dtype: int64"
      ]
     },
     "execution_count": 11,
     "metadata": {},
     "output_type": "execute_result"
    }
   ],
   "source": [
    "# Exploratory Data Analysis\n",
    "df.isnull().sum()"
   ]
  },
  {
   "cell_type": "code",
   "execution_count": 14,
   "metadata": {},
   "outputs": [
    {
     "data": {
      "text/plain": [
       "<matplotlib.axes._subplots.AxesSubplot at 0x1c6c8b7ad88>"
      ]
     },
     "execution_count": 14,
     "metadata": {},
     "output_type": "execute_result"
    },
    {
     "data": {
      "image/png": "[encoded data removed]",
      "text/plain": [
       "<Figure size 1080x540 with 2 Axes>"
      ]
     },
     "metadata": {
      "needs_background": "light"
     },
     "output_type": "display_data"
    }
   ],
   "source": [
    "fig, ax=plt.subplots(figsize=(15,7.5))\n",
    "sns.heatmap(df.isnull(),yticklabels=False, ax=ax)"
   ]
  },
  {
   "cell_type": "code",
   "execution_count": 17,
   "metadata": {},
   "outputs": [
    {
     "data": {
      "text/html": [
       "<div>\n",
       "<style scoped>\n",
       "    .dataframe tbody tr th:only-of-type {\n",
       "        vertical-align: middle;\n",
       "    }\n",
       "\n",
       "    .dataframe tbody tr th {\n",
       "        vertical-align: top;\n",
       "    }\n",
       "\n",
       "    .dataframe thead th {\n",
       "        text-align: right;\n",
       "    }\n",
       "</style>\n",
       "<table border=\"1\" class=\"dataframe\">\n",
       "  <thead>\n",
       "    <tr style=\"text-align: right;\">\n",
       "      <th></th>\n",
       "      <th>Area Planted</th>\n",
       "      <th>Area Harvested</th>\n",
       "      <th>Yield</th>\n",
       "      <th>Beginning Stocks</th>\n",
       "      <th>Production</th>\n",
       "      <th>Imports</th>\n",
       "      <th>Total Supply</th>\n",
       "      <th>Feed and Residual</th>\n",
       "      <th>FSI</th>\n",
       "      <th>Ethanol</th>\n",
       "      <th>...</th>\n",
       "      <th>Southeast Asia DomesticTotal</th>\n",
       "      <th>Southeast Asia Exports</th>\n",
       "      <th>Southeast Asia EndingStocks</th>\n",
       "      <th>European Union BeginningStocks</th>\n",
       "      <th>European Union Production</th>\n",
       "      <th>European Union Imports</th>\n",
       "      <th>European Union DomesticFeed</th>\n",
       "      <th>European Union DomesticTotal</th>\n",
       "      <th>European Union Exports</th>\n",
       "      <th>European Union EndingStocks</th>\n",
       "    </tr>\n",
       "    <tr>\n",
       "      <th>Date</th>\n",
       "      <th></th>\n",
       "      <th></th>\n",
       "      <th></th>\n",
       "      <th></th>\n",
       "      <th></th>\n",
       "      <th></th>\n",
       "      <th></th>\n",
       "      <th></th>\n",
       "      <th></th>\n",
       "      <th></th>\n",
       "      <th></th>\n",
       "      <th></th>\n",
       "      <th></th>\n",
       "      <th></th>\n",
       "      <th></th>\n",
       "      <th></th>\n",
       "      <th></th>\n",
       "      <th></th>\n",
       "      <th></th>\n",
       "      <th></th>\n",
       "      <th></th>\n",
       "    </tr>\n",
       "  </thead>\n",
       "  <tbody>\n",
       "    <tr>\n",
       "      <th>2007/05/11</th>\n",
       "      <td>1</td>\n",
       "      <td>1</td>\n",
       "      <td>1</td>\n",
       "      <td>1</td>\n",
       "      <td>1</td>\n",
       "      <td>1</td>\n",
       "      <td>1</td>\n",
       "      <td>1</td>\n",
       "      <td>1</td>\n",
       "      <td>1</td>\n",
       "      <td>...</td>\n",
       "      <td>1</td>\n",
       "      <td>1</td>\n",
       "      <td>1</td>\n",
       "      <td>1</td>\n",
       "      <td>1</td>\n",
       "      <td>1</td>\n",
       "      <td>1</td>\n",
       "      <td>1</td>\n",
       "      <td>1</td>\n",
       "      <td>1</td>\n",
       "    </tr>\n",
       "    <tr>\n",
       "      <th>2007/06/11</th>\n",
       "      <td>1</td>\n",
       "      <td>1</td>\n",
       "      <td>1</td>\n",
       "      <td>1</td>\n",
       "      <td>1</td>\n",
       "      <td>1</td>\n",
       "      <td>1</td>\n",
       "      <td>1</td>\n",
       "      <td>1</td>\n",
       "      <td>1</td>\n",
       "      <td>...</td>\n",
       "      <td>1</td>\n",
       "      <td>1</td>\n",
       "      <td>1</td>\n",
       "      <td>1</td>\n",
       "      <td>1</td>\n",
       "      <td>1</td>\n",
       "      <td>1</td>\n",
       "      <td>1</td>\n",
       "      <td>1</td>\n",
       "      <td>1</td>\n",
       "    </tr>\n",
       "  </tbody>\n",
       "</table>\n",
       "<p>2 rows × 112 columns</p>\n",
       "</div>"
      ],
      "text/plain": [
       "            Area Planted  Area Harvested  Yield  Beginning Stocks  Production  \\\n",
       "Date                                                                            \n",
       "2007/05/11             1               1      1                 1           1   \n",
       "2007/06/11             1               1      1                 1           1   \n",
       "\n",
       "            Imports  Total Supply  Feed and Residual  FSI  Ethanol  ...  \\\n",
       "Date                                                                ...   \n",
       "2007/05/11        1             1                  1    1        1  ...   \n",
       "2007/06/11        1             1                  1    1        1  ...   \n",
       "\n",
       "            Southeast Asia DomesticTotal  Southeast Asia Exports  \\\n",
       "Date                                                               \n",
       "2007/05/11                             1                       1   \n",
       "2007/06/11                             1                       1   \n",
       "\n",
       "            Southeast Asia EndingStocks  European Union BeginningStocks  \\\n",
       "Date                                                                      \n",
       "2007/05/11                            1                               1   \n",
       "2007/06/11                            1                               1   \n",
       "\n",
       "            European Union Production  European Union Imports  \\\n",
       "Date                                                            \n",
       "2007/05/11                          1                       1   \n",
       "2007/06/11                          1                       1   \n",
       "\n",
       "            European Union DomesticFeed  European Union DomesticTotal  \\\n",
       "Date                                                                    \n",
       "2007/05/11                            1                             1   \n",
       "2007/06/11                            1                             1   \n",
       "\n",
       "            European Union Exports  European Union EndingStocks  \n",
       "Date                                                             \n",
       "2007/05/11                       1                            1  \n",
       "2007/06/11                       1                            1  \n",
       "\n",
       "[2 rows x 112 columns]"
      ]
     },
     "execution_count": 17,
     "metadata": {},
     "output_type": "execute_result"
    }
   ],
   "source": [
    "df.groupby('Date').count().head(2)"
   ]
  },
  {
   "cell_type": "code",
   "execution_count": 20,
   "metadata": {},
   "outputs": [
    {
     "data": {
      "text/plain": [
       "93.6    15\n",
       "93.5     4\n",
       "92.9     3\n",
       "90.5     2\n",
       "Name: Area Planted, dtype: int64"
      ]
     },
     "execution_count": 20,
     "metadata": {},
     "output_type": "execute_result"
    }
   ],
   "source": [
    "df['Area Planted'].value_counts()"
   ]
  },
  {
   "cell_type": "code",
   "execution_count": 21,
   "metadata": {},
   "outputs": [
    {
     "data": {
      "text/plain": [
       "86.5    16\n",
       "86.1     3\n",
       "85.4     3\n",
       "82.9     2\n",
       "Name: Area Harvested, dtype: int64"
      ]
     },
     "execution_count": 21,
     "metadata": {},
     "output_type": "execute_result"
    }
   ],
   "source": [
    "df['Area Harvested'].value_counts()"
   ]
  },
  {
   "cell_type": "code",
   "execution_count": 22,
   "metadata": {},
   "outputs": [
    {
     "data": {
      "text/plain": [
       "13074.0    12\n",
       "13038.0     4\n",
       "13168.0     2\n",
       "12460.0     2\n",
       "13318.0     1\n",
       "13054.0     1\n",
       "13308.0     1\n",
       "12840.0     1\n",
       "Name: Production, dtype: int64"
      ]
     },
     "execution_count": 22,
     "metadata": {},
     "output_type": "execute_result"
    }
   ],
   "source": [
    "df['Production'].value_counts()"
   ]
  },
  {
   "cell_type": "code",
   "execution_count": 24,
   "metadata": {},
   "outputs": [],
   "source": [
    "df['Year']=pd.to_datetime(df.Date)"
   ]
  },
  {
   "cell_type": "code",
   "execution_count": 26,
   "metadata": {},
   "outputs": [
    {
     "data": {
      "text/html": [
       "<div>\n",
       "<style scoped>\n",
       "    .dataframe tbody tr th:only-of-type {\n",
       "        vertical-align: middle;\n",
       "    }\n",
       "\n",
       "    .dataframe tbody tr th {\n",
       "        vertical-align: top;\n",
       "    }\n",
       "\n",
       "    .dataframe thead th {\n",
       "        text-align: right;\n",
       "    }\n",
       "</style>\n",
       "<table border=\"1\" class=\"dataframe\">\n",
       "  <thead>\n",
       "    <tr style=\"text-align: right;\">\n",
       "      <th></th>\n",
       "      <th>Date</th>\n",
       "      <th>Area Planted</th>\n",
       "      <th>Area Harvested</th>\n",
       "      <th>Yield</th>\n",
       "      <th>Beginning Stocks</th>\n",
       "      <th>Production</th>\n",
       "      <th>Imports</th>\n",
       "      <th>Total Supply</th>\n",
       "      <th>Feed and Residual</th>\n",
       "      <th>FSI</th>\n",
       "      <th>...</th>\n",
       "      <th>Southeast Asia Exports</th>\n",
       "      <th>Southeast Asia EndingStocks</th>\n",
       "      <th>European Union BeginningStocks</th>\n",
       "      <th>European Union Production</th>\n",
       "      <th>European Union Imports</th>\n",
       "      <th>European Union DomesticFeed</th>\n",
       "      <th>European Union DomesticTotal</th>\n",
       "      <th>European Union Exports</th>\n",
       "      <th>European Union EndingStocks</th>\n",
       "      <th>Year</th>\n",
       "    </tr>\n",
       "  </thead>\n",
       "  <tbody>\n",
       "    <tr>\n",
       "      <th>0</th>\n",
       "      <td>2007/05/11</td>\n",
       "      <td>90.5</td>\n",
       "      <td>82.9</td>\n",
       "      <td>150.3</td>\n",
       "      <td>937.0</td>\n",
       "      <td>12460.0</td>\n",
       "      <td>15.0</td>\n",
       "      <td>13412.0</td>\n",
       "      <td>5700.0</td>\n",
       "      <td>4790.0</td>\n",
       "      <td>...</td>\n",
       "      <td>0.24</td>\n",
       "      <td>1.95</td>\n",
       "      <td>10.42</td>\n",
       "      <td>55.37</td>\n",
       "      <td>3.5</td>\n",
       "      <td>45.3</td>\n",
       "      <td>60.3</td>\n",
       "      <td>0.3</td>\n",
       "      <td>8.69</td>\n",
       "      <td>2007-05-11</td>\n",
       "    </tr>\n",
       "    <tr>\n",
       "      <th>1</th>\n",
       "      <td>2007/06/11</td>\n",
       "      <td>90.5</td>\n",
       "      <td>82.9</td>\n",
       "      <td>150.3</td>\n",
       "      <td>987.0</td>\n",
       "      <td>12460.0</td>\n",
       "      <td>15.0</td>\n",
       "      <td>13462.0</td>\n",
       "      <td>5700.0</td>\n",
       "      <td>4790.0</td>\n",
       "      <td>...</td>\n",
       "      <td>0.24</td>\n",
       "      <td>1.95</td>\n",
       "      <td>10.72</td>\n",
       "      <td>55.72</td>\n",
       "      <td>3.5</td>\n",
       "      <td>45.8</td>\n",
       "      <td>60.8</td>\n",
       "      <td>0.3</td>\n",
       "      <td>8.84</td>\n",
       "      <td>2007-06-11</td>\n",
       "    </tr>\n",
       "  </tbody>\n",
       "</table>\n",
       "<p>2 rows × 114 columns</p>\n",
       "</div>"
      ],
      "text/plain": [
       "         Date  Area Planted  Area Harvested  Yield  Beginning Stocks  \\\n",
       "0  2007/05/11          90.5            82.9  150.3             937.0   \n",
       "1  2007/06/11          90.5            82.9  150.3             987.0   \n",
       "\n",
       "   Production  Imports  Total Supply  Feed and Residual     FSI  ...  \\\n",
       "0     12460.0     15.0       13412.0             5700.0  4790.0  ...   \n",
       "1     12460.0     15.0       13462.0             5700.0  4790.0  ...   \n",
       "\n",
       "   Southeast Asia Exports  Southeast Asia EndingStocks  \\\n",
       "0                    0.24                         1.95   \n",
       "1                    0.24                         1.95   \n",
       "\n",
       "   European Union BeginningStocks  European Union Production  \\\n",
       "0                           10.42                      55.37   \n",
       "1                           10.72                      55.72   \n",
       "\n",
       "   European Union Imports  European Union DomesticFeed  \\\n",
       "0                     3.5                         45.3   \n",
       "1                     3.5                         45.8   \n",
       "\n",
       "   European Union DomesticTotal  European Union Exports  \\\n",
       "0                          60.3                     0.3   \n",
       "1                          60.8                     0.3   \n",
       "\n",
       "   European Union EndingStocks       Year  \n",
       "0                         8.69 2007-05-11  \n",
       "1                         8.84 2007-06-11  \n",
       "\n",
       "[2 rows x 114 columns]"
      ]
     },
     "execution_count": 26,
     "metadata": {},
     "output_type": "execute_result"
    }
   ],
   "source": [
    "df.head(2)"
   ]
  },
  {
   "cell_type": "code",
   "execution_count": 30,
   "metadata": {},
   "outputs": [],
   "source": [
    "df['Year']=df.Year.dt.year"
   ]
  },
  {
   "cell_type": "code",
   "execution_count": 31,
   "metadata": {},
   "outputs": [
    {
     "data": {
      "text/html": [
       "<div>\n",
       "<style scoped>\n",
       "    .dataframe tbody tr th:only-of-type {\n",
       "        vertical-align: middle;\n",
       "    }\n",
       "\n",
       "    .dataframe tbody tr th {\n",
       "        vertical-align: top;\n",
       "    }\n",
       "\n",
       "    .dataframe thead th {\n",
       "        text-align: right;\n",
       "    }\n",
       "</style>\n",
       "<table border=\"1\" class=\"dataframe\">\n",
       "  <thead>\n",
       "    <tr style=\"text-align: right;\">\n",
       "      <th></th>\n",
       "      <th>Date</th>\n",
       "      <th>Area Planted</th>\n",
       "      <th>Area Harvested</th>\n",
       "      <th>Yield</th>\n",
       "      <th>Beginning Stocks</th>\n",
       "      <th>Production</th>\n",
       "      <th>Imports</th>\n",
       "      <th>Total Supply</th>\n",
       "      <th>Feed and Residual</th>\n",
       "      <th>FSI</th>\n",
       "      <th>...</th>\n",
       "      <th>Southeast Asia Exports</th>\n",
       "      <th>Southeast Asia EndingStocks</th>\n",
       "      <th>European Union BeginningStocks</th>\n",
       "      <th>European Union Production</th>\n",
       "      <th>European Union Imports</th>\n",
       "      <th>European Union DomesticFeed</th>\n",
       "      <th>European Union DomesticTotal</th>\n",
       "      <th>European Union Exports</th>\n",
       "      <th>European Union EndingStocks</th>\n",
       "      <th>Year</th>\n",
       "    </tr>\n",
       "  </thead>\n",
       "  <tbody>\n",
       "    <tr>\n",
       "      <th>0</th>\n",
       "      <td>2007/05/11</td>\n",
       "      <td>90.5</td>\n",
       "      <td>82.9</td>\n",
       "      <td>150.3</td>\n",
       "      <td>937.0</td>\n",
       "      <td>12460.0</td>\n",
       "      <td>15.0</td>\n",
       "      <td>13412.0</td>\n",
       "      <td>5700.0</td>\n",
       "      <td>4790.0</td>\n",
       "      <td>...</td>\n",
       "      <td>0.24</td>\n",
       "      <td>1.95</td>\n",
       "      <td>10.42</td>\n",
       "      <td>55.37</td>\n",
       "      <td>3.5</td>\n",
       "      <td>45.3</td>\n",
       "      <td>60.3</td>\n",
       "      <td>0.3</td>\n",
       "      <td>8.69</td>\n",
       "      <td>2007</td>\n",
       "    </tr>\n",
       "    <tr>\n",
       "      <th>1</th>\n",
       "      <td>2007/06/11</td>\n",
       "      <td>90.5</td>\n",
       "      <td>82.9</td>\n",
       "      <td>150.3</td>\n",
       "      <td>987.0</td>\n",
       "      <td>12460.0</td>\n",
       "      <td>15.0</td>\n",
       "      <td>13462.0</td>\n",
       "      <td>5700.0</td>\n",
       "      <td>4790.0</td>\n",
       "      <td>...</td>\n",
       "      <td>0.24</td>\n",
       "      <td>1.95</td>\n",
       "      <td>10.72</td>\n",
       "      <td>55.72</td>\n",
       "      <td>3.5</td>\n",
       "      <td>45.8</td>\n",
       "      <td>60.8</td>\n",
       "      <td>0.3</td>\n",
       "      <td>8.84</td>\n",
       "      <td>2007</td>\n",
       "    </tr>\n",
       "  </tbody>\n",
       "</table>\n",
       "<p>2 rows × 114 columns</p>\n",
       "</div>"
      ],
      "text/plain": [
       "         Date  Area Planted  Area Harvested  Yield  Beginning Stocks  \\\n",
       "0  2007/05/11          90.5            82.9  150.3             937.0   \n",
       "1  2007/06/11          90.5            82.9  150.3             987.0   \n",
       "\n",
       "   Production  Imports  Total Supply  Feed and Residual     FSI  ...  \\\n",
       "0     12460.0     15.0       13412.0             5700.0  4790.0  ...   \n",
       "1     12460.0     15.0       13462.0             5700.0  4790.0  ...   \n",
       "\n",
       "   Southeast Asia Exports  Southeast Asia EndingStocks  \\\n",
       "0                    0.24                         1.95   \n",
       "1                    0.24                         1.95   \n",
       "\n",
       "   European Union BeginningStocks  European Union Production  \\\n",
       "0                           10.42                      55.37   \n",
       "1                           10.72                      55.72   \n",
       "\n",
       "   European Union Imports  European Union DomesticFeed  \\\n",
       "0                     3.5                         45.3   \n",
       "1                     3.5                         45.8   \n",
       "\n",
       "   European Union DomesticTotal  European Union Exports  \\\n",
       "0                          60.3                     0.3   \n",
       "1                          60.8                     0.3   \n",
       "\n",
       "   European Union EndingStocks  Year  \n",
       "0                         8.69  2007  \n",
       "1                         8.84  2007  \n",
       "\n",
       "[2 rows x 114 columns]"
      ]
     },
     "execution_count": 31,
     "metadata": {},
     "output_type": "execute_result"
    }
   ],
   "source": [
    "df.head(2)"
   ]
  },
  {
   "cell_type": "code",
   "execution_count": 32,
   "metadata": {},
   "outputs": [
    {
     "data": {
      "text/plain": [
       "2008    12\n",
       "2007     8\n",
       "2009     4\n",
       "Name: Year, dtype: int64"
      ]
     },
     "execution_count": 32,
     "metadata": {},
     "output_type": "execute_result"
    }
   ],
   "source": [
    "df['Year'].value_counts()"
   ]
  },
  {
   "cell_type": "code",
   "execution_count": 33,
   "metadata": {},
   "outputs": [
    {
     "data": {
      "text/plain": [
       "47.67    4\n",
       "48.39    3\n",
       "47.37    2\n",
       "47.52    2\n",
       "55.72    1\n",
       "55.37    1\n",
       "47.26    1\n",
       "55.23    1\n",
       "46.39    1\n",
       "47.31    1\n",
       "46.91    1\n",
       "47.48    1\n",
       "46.94    1\n",
       "47.72    1\n",
       "48.43    1\n",
       "47.32    1\n",
       "47.50    1\n",
       "Name: European Union Production, dtype: int64"
      ]
     },
     "execution_count": 33,
     "metadata": {},
     "output_type": "execute_result"
    }
   ],
   "source": [
    "df['European Union Production'].value_counts()"
   ]
  },
  {
   "cell_type": "code",
   "execution_count": 35,
   "metadata": {},
   "outputs": [
    {
     "data": {
      "text/plain": [
       "<matplotlib.axes._subplots.AxesSubplot at 0x1c6c78606c8>"
      ]
     },
     "execution_count": 35,
     "metadata": {},
     "output_type": "execute_result"
    },
    {
     "data": {
      "image/png": "[encoded data removed]",
      "text/plain": [
       "<Figure size 1080x360 with 1 Axes>"
      ]
     },
     "metadata": {},
     "output_type": "display_data"
    }
   ],
   "source": [
    "# Univariable Data Analysis\n",
    "sns.set(rc={'figure.figsize':(15,5)})\n",
    "df['European Union Production'].plot.hist()"
   ]
  },
  {
   "cell_type": "code",
   "execution_count": 36,
   "metadata": {},
   "outputs": [
    {
     "data": {
      "text/plain": [
       "<matplotlib.axes._subplots.AxesSubplot at 0x1c6c78e17c8>"
      ]
     },
     "execution_count": 36,
     "metadata": {},
     "output_type": "execute_result"
    },
    {
     "data": {
      "image/png": "[encoded data removed]",
      "text/plain": [
       "<Figure size 1080x360 with 1 Axes>"
      ]
     },
     "metadata": {},
     "output_type": "display_data"
    }
   ],
   "source": [
    "sns.countplot(x='Area Planted', data=df)"
   ]
  },
  {
   "cell_type": "code",
   "execution_count": 37,
   "metadata": {},
   "outputs": [
    {
     "data": {
      "text/plain": [
       "<matplotlib.axes._subplots.AxesSubplot at 0x1c6c7922a88>"
      ]
     },
     "execution_count": 37,
     "metadata": {},
     "output_type": "execute_result"
    },
    {
     "data": {
      "image/png": "[encoded data removed]",
      "text/plain": [
       "<Figure size 1080x360 with 1 Axes>"
      ]
     },
     "metadata": {},
     "output_type": "display_data"
    }
   ],
   "source": [
    "sns.countplot(x='Area Harvested', data=df)"
   ]
  },
  {
   "cell_type": "code",
   "execution_count": 38,
   "metadata": {},
   "outputs": [
    {
     "data": {
      "text/plain": [
       "<matplotlib.axes._subplots.AxesSubplot at 0x1c6c8a82888>"
      ]
     },
     "execution_count": 38,
     "metadata": {},
     "output_type": "execute_result"
    },
    {
     "data": {
      "image/png": "[encoded data removed]",
      "text/plain": [
       "<Figure size 1080x360 with 1 Axes>"
      ]
     },
     "metadata": {},
     "output_type": "display_data"
    }
   ],
   "source": [
    "sns.countplot(x='Beginning Stocks', data=df)"
   ]
  },
  {
   "cell_type": "code",
   "execution_count": 39,
   "metadata": {},
   "outputs": [
    {
     "data": {
      "text/plain": [
       "<matplotlib.axes._subplots.AxesSubplot at 0x1c6c8aea248>"
      ]
     },
     "execution_count": 39,
     "metadata": {},
     "output_type": "execute_result"
    },
    {
     "data": {
      "image/png": "[encoded data removed]",
      "text/plain": [
       "<Figure size 1080x360 with 1 Axes>"
      ]
     },
     "metadata": {},
     "output_type": "display_data"
    }
   ],
   "source": [
    "sns.countplot(x='Production',data=df)"
   ]
  },
  {
   "cell_type": "code",
   "execution_count": 40,
   "metadata": {},
   "outputs": [
    {
     "data": {
      "text/plain": [
       "<matplotlib.axes._subplots.AxesSubplot at 0x1c6c8d39608>"
      ]
     },
     "execution_count": 40,
     "metadata": {},
     "output_type": "execute_result"
    },
    {
     "data": {
      "image/png": "[encoded data removed]",
      "text/plain": [
       "<Figure size 1080x360 with 1 Axes>"
      ]
     },
     "metadata": {},
     "output_type": "display_data"
    }
   ],
   "source": [
    "sns.countplot(x='Imports', data=df)"
   ]
  },
  {
   "cell_type": "code",
   "execution_count": 41,
   "metadata": {},
   "outputs": [
    {
     "data": {
      "text/plain": [
       "<matplotlib.axes._subplots.AxesSubplot at 0x1c6c91af648>"
      ]
     },
     "execution_count": 41,
     "metadata": {},
     "output_type": "execute_result"
    },
    {
     "data": {
      "image/png": "[encoded data removed]",
      "text/plain": [
       "<Figure size 1080x360 with 1 Axes>"
      ]
     },
     "metadata": {},
     "output_type": "display_data"
    }
   ],
   "source": [
    "sns.countplot(x='Total Supply',data=df)"
   ]
  },
  {
   "cell_type": "code",
   "execution_count": null,
   "metadata": {},
   "outputs": [],
   "source": []
  },
  {
   "cell_type": "code",
   "execution_count": 42,
   "metadata": {},
   "outputs": [
    {
     "data": {
      "text/plain": [
       "<matplotlib.axes._subplots.AxesSubplot at 0x1c6c981bc48>"
      ]
     },
     "execution_count": 42,
     "metadata": {},
     "output_type": "execute_result"
    },
    {
     "data": {
      "image/png": "[encoded data removed]",
      "text/plain": [
       "<Figure size 1080x360 with 1 Axes>"
      ]
     },
     "metadata": {},
     "output_type": "display_data"
    }
   ],
   "source": [
    "sns.countplot(x='Year',data=df)"
   ]
  },
  {
   "cell_type": "code",
   "execution_count": 45,
   "metadata": {},
   "outputs": [
    {
     "data": {
      "text/plain": [
       "<matplotlib.axes._subplots.AxesSubplot at 0x1c6ca100d08>"
      ]
     },
     "execution_count": 45,
     "metadata": {},
     "output_type": "execute_result"
    },
    {
     "data": {
      "image/png": "[encoded data removed]",
      "text/plain": [
       "<Figure size 1080x360 with 1 Axes>"
      ]
     },
     "metadata": {},
     "output_type": "display_data"
    }
   ],
   "source": [
    "sns.countplot(x='European Union Production',data=df, hue='Yield',palette='Set2')"
   ]
  },
  {
   "cell_type": "code",
   "execution_count": 48,
   "metadata": {},
   "outputs": [
    {
     "data": {
      "text/plain": [
       "<seaborn.axisgrid.JointGrid at 0x1c6cb6c4088>"
      ]
     },
     "execution_count": 48,
     "metadata": {},
     "output_type": "execute_result"
    },
    {
     "data": {
      "image/png": "[encoded data removed]",
      "text/plain": [
       "<Figure size 432x432 with 3 Axes>"
      ]
     },
     "metadata": {},
     "output_type": "display_data"
    }
   ],
   "source": [
    "# Bivariate Data Analysis by ploting\n",
    "sns.axes_style('whitegrid')\n",
    "sns.jointplot(x=df['Southeast Asia Exports'],y=df['Southeast Asia EndingStocks'],kind='hex', color='lightcoral')"
   ]
  },
  {
   "cell_type": "code",
   "execution_count": 49,
   "metadata": {},
   "outputs": [
    {
     "data": {
      "text/plain": [
       "<seaborn.axisgrid.FacetGrid at 0x1c6cb7a2388>"
      ]
     },
     "execution_count": 49,
     "metadata": {},
     "output_type": "execute_result"
    },
    {
     "data": {
      "image/png": "[encoded data removed]",
      "text/plain": [
       "<Figure size 1440x360 with 1 Axes>"
      ]
     },
     "metadata": {},
     "output_type": "display_data"
    }
   ],
   "source": [
    "sns.catplot(x='European Union Production',y='European Union EndingStocks',kind='strip', aspect=4, data=df)"
   ]
  },
  {
   "cell_type": "code",
   "execution_count": 52,
   "metadata": {},
   "outputs": [
    {
     "data": {
      "text/plain": [
       "<seaborn.axisgrid.FacetGrid at 0x1c6cc7571c8>"
      ]
     },
     "execution_count": 52,
     "metadata": {},
     "output_type": "execute_result"
    },
    {
     "data": {
      "image/png": "[encoded data removed]",
      "text/plain": [
       "<Figure size 1440x360 with 1 Axes>"
      ]
     },
     "metadata": {},
     "output_type": "display_data"
    }
   ],
   "source": [
    "sns.catplot(x='FSI',y='Imports', kind='box', data=df, aspect=4)"
   ]
  },
  {
   "cell_type": "code",
   "execution_count": null,
   "metadata": {},
   "outputs": [],
   "source": []
  }
 ],
 "metadata": {
  "kernelspec": {
   "display_name": "Python 3",
   "language": "python",
   "name": "python3"
  },
  "language_info": {
   "codemirror_mode": {
    "name": "ipython",
    "version": 3
   },
   "file_extension": ".py",
   "mimetype": "text/x-python",
   "name": "python",
   "nbconvert_exporter": "python",
   "pygments_lexer": "ipython3",
   "version": "3.7.6"
  }
 },
 "nbformat": 4,
 "nbformat_minor": 4
}
