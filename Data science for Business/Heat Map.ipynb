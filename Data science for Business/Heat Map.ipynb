{
 "cells": [
  {
   "cell_type": "code",
   "execution_count": 7,
   "metadata": {},
   "outputs": [],
   "source": [
    "import pprint as pp\n",
    "import sys\n",
    "import os\n",
    "import pymongo\n",
    "from pymongo import MongoClient\n",
    "from datetime import datetime\n",
    "import ast\n",
    "import pandas as pd\n"
   ]
  },
  {
   "cell_type": "code",
   "execution_count": 8,
   "metadata": {},
   "outputs": [],
   "source": [
    "import pandas as pd\n",
    "import seaborn as sns\n",
    "import numpy as np\n",
    "from matplotlib import pyplot as plt\n",
    "%matplotlib inline"
   ]
  },
  {
   "cell_type": "code",
   "execution_count": 9,
   "metadata": {},
   "outputs": [],
   "source": [
    "class Database:\n",
    "    def __init__(self):\n",
    "        # Read credentials from environment file.\n",
    "        self.conn = MongoClient(\n",
    "            host='my.ag.tools:27222',\n",
    "            username='prod-r7',\n",
    "            password='dfs2#sw!5wn3Tdks!',\n",
    "            authSource='dbagtoolsplus'\n",
    "        )\n",
    "\n",
    "\n",
    "\n",
    "    def collection_volume_commodities(self):\n",
    "        return self.conn.dbagtoolsplus.volume_commodities\n"
   ]
  },
  {
   "cell_type": "code",
   "execution_count": null,
   "metadata": {},
   "outputs": [],
   "source": [
    "def do_something(commodity):\n",
    "    pass \n",
    "def get_commodity_list(db):\n",
    "    \n",
    "    commodity_list_query= [\n",
    "        { '$match': {\n",
    "             \n",
    "            \n",
    "            \n",
    "            }\n",
    "\n",
    "        }\n",
    "    ]\n",
    "    db_conn=db.collection_volume_commodities()\n",
    "    result=list(db_conn.aggregate(commodity_list_query))  \n",
    "    return result\n",
    "\n",
    "db=Database()\n",
    "commodity_list=get_commodity_list(db)\n",
    "\n",
    "for commodity in commodity_list:\n",
    "    do_something(commodity)\n"
   ]
  },
  {
   "cell_type": "code",
   "execution_count": null,
   "metadata": {},
   "outputs": [],
   "source": [
    "response = list(conn.aggregate(query))\n",
    "pp.pprint(response)"
   ]
  },
  {
   "cell_type": "code",
   "execution_count": null,
   "metadata": {},
   "outputs": [],
   "source": [
    "bro_df=pd.DataFrame(commodity_list)"
   ]
  },
  {
   "cell_type": "code",
   "execution_count": null,
   "metadata": {},
   "outputs": [],
   "source": [
    "dbagtools_list=list(dbagtools_cursor)"
   ]
  },
  {
   "cell_type": "code",
   "execution_count": null,
   "metadata": {},
   "outputs": [],
   "source": [
    "dbagtools_list"
   ]
  },
  {
   "cell_type": "code",
   "execution_count": null,
   "metadata": {},
   "outputs": [],
   "source": [
    "df=pd.DataFrame(dbagtools_list)"
   ]
  },
  {
   "cell_type": "code",
   "execution_count": null,
   "metadata": {},
   "outputs": [],
   "source": []
  }
 ],
 "metadata": {
  "kernelspec": {
   "display_name": "Python 3",
   "language": "python",
   "name": "python3"
  },
  "language_info": {
   "codemirror_mode": {
    "name": "ipython",
    "version": 3
   },
   "file_extension": ".py",
   "mimetype": "text/x-python",
   "name": "python",
   "nbconvert_exporter": "python",
   "pygments_lexer": "ipython3",
   "version": "3.7.6"
  }
 },
 "nbformat": 4,
 "nbformat_minor": 4
}
