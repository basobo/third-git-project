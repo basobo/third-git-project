{
 "cells": [
  {
   "cell_type": "code",
   "execution_count": null,
   "metadata": {},
   "outputs": [],
   "source": []
  },
  {
   "cell_type": "code",
   "execution_count": 2,
   "metadata": {},
   "outputs": [],
   "source": [
    "import pprint as pp\n",
    "import sys\n",
    "import os\n",
    "import pymongo\n",
    "from pymongo import MongoClient\n",
    "from datetime import datetime\n",
    "import ast\n",
    "import pandas as pd\n"
   ]
  },
  {
   "cell_type": "code",
   "execution_count": 3,
   "metadata": {},
   "outputs": [],
   "source": [
    "import pandas as pd\n",
    "import seaborn as sns\n",
    "import numpy as np\n",
    "from matplotlib import pyplot as plt\n",
    "%matplotlib inline"
   ]
  },
  {
   "cell_type": "code",
   "execution_count": 4,
   "metadata": {},
   "outputs": [],
   "source": [
    "class Database:\n",
    "    def __init__(self):\n",
    "        # Read credentials from environment file.\n",
    "        self.conn = MongoClient(\n",
    "            host='my.ag.tools:27222',\n",
    "            username='prod-r7',\n",
    "            password='dfs2#sw!5wn3Tdks!',\n",
    "            authSource='dbagtoolsplus'\n",
    "        )\n",
    "\n",
    "\n",
    "\n",
    "    def collection_volume_commodities(self):\n",
    "        return self.conn.dbagtoolsplus.volume_commodities\n"
   ]
  },
  {
   "cell_type": "code",
   "execution_count": 7,
   "metadata": {},
   "outputs": [],
   "source": [
    "# def do_something(commodity):\n",
    "#     pass \n",
    "# def get_commodity_list(db):\n",
    "    \n",
    "#     commodity_list_query= [\n",
    "#         { '$match': {\n",
    "             \n",
    "            \n",
    "            \n",
    "#             }\n",
    "\n",
    "#         }\n",
    "#     ]\n",
    "#     db_conn=db.collection_volume_commodities()\n",
    "#     result=list(db_conn.aggregate(commodity_list_query))  \n",
    "#     return result\n",
    "\n",
    "# db=Database()\n",
    "# commodity_list=get_commodity_list(db)\n",
    "\n",
    "# for commodity in commodity_list:\n",
    "#     do_something(commodity)\n"
   ]
  },
  {
   "cell_type": "code",
   "execution_count": null,
   "metadata": {},
   "outputs": [],
   "source": [
    "# response = list(conn.aggregate(query))\n",
    "# pp.pprint(response)"
   ]
  },
  {
   "cell_type": "code",
   "execution_count": null,
   "metadata": {},
   "outputs": [],
   "source": [
    "# bro_df=pd.DataFrame(commodity_list)"
   ]
  },
  {
   "cell_type": "code",
   "execution_count": null,
   "metadata": {},
   "outputs": [],
   "source": [
    "# bro_df=pd.DataFrame(commodity_list)"
   ]
  },
  {
   "cell_type": "code",
   "execution_count": 8,
   "metadata": {},
   "outputs": [
    {
     "name": "stdout",
     "output_type": "stream",
     "text": [
      "[]\n"
     ]
    }
   ],
   "source": [
    "def collection_volume_commodities(self):\n",
    "        return self.conn.dbagtoolsplus.volume_commodities\n",
    "db = Database()\n",
    "conn = db.collection_volume_commodities()\n",
    "\n",
    "query = [\n",
    "    {\n",
    "        '$match': {'commodity': 'broccoli', 'reportDate': datetime(2020, 7, 21)}\n",
    "    }\n",
    "]\n",
    "\n",
    "response = list(conn.aggregate(query))\n",
    "pp.pprint(response)\n"
   ]
  },
  {
   "cell_type": "code",
   "execution_count": 9,
   "metadata": {},
   "outputs": [
    {
     "name": "stdout",
     "output_type": "stream",
     "text": [
      "[]\n"
     ]
    }
   ],
   "source": [
    "db = Database()\n",
    "conn = db.collection_volume_commodities()\n",
    "\n",
    "query = [\n",
    "    {\n",
    "        '$match': {\n",
    "            'commodity': 'broccoli', \n",
    "            'crawl_date': {'$gte': datetime(2020, 7, 21)}\n",
    "        }\n",
    "    }\n",
    "]\n",
    "\n",
    "response = list(conn.aggregate(query))\n",
    "pp.pprint(response)"
   ]
  },
  {
   "cell_type": "code",
   "execution_count": 18,
   "metadata": {},
   "outputs": [],
   "source": [
    "# Get the Data\n",
    "bro_df=pd.DataFrame(response)"
   ]
  },
  {
   "cell_type": "code",
   "execution_count": 19,
   "metadata": {},
   "outputs": [
    {
     "data": {
      "text/html": [
       "<div>\n",
       "<style scoped>\n",
       "    .dataframe tbody tr th:only-of-type {\n",
       "        vertical-align: middle;\n",
       "    }\n",
       "\n",
       "    .dataframe tbody tr th {\n",
       "        vertical-align: top;\n",
       "    }\n",
       "\n",
       "    .dataframe thead th {\n",
       "        text-align: right;\n",
       "    }\n",
       "</style>\n",
       "<table border=\"1\" class=\"dataframe\">\n",
       "  <thead>\n",
       "    <tr style=\"text-align: right;\">\n",
       "      <th></th>\n",
       "    </tr>\n",
       "  </thead>\n",
       "  <tbody>\n",
       "  </tbody>\n",
       "</table>\n",
       "</div>"
      ],
      "text/plain": [
       "Empty DataFrame\n",
       "Columns: []\n",
       "Index: []"
      ]
     },
     "execution_count": 19,
     "metadata": {},
     "output_type": "execute_result"
    }
   ],
   "source": [
    "# Check the head of the Data\n",
    "bro_df.head(1)"
   ]
  },
  {
   "cell_type": "code",
   "execution_count": 236,
   "metadata": {},
   "outputs": [
    {
     "name": "stdout",
     "output_type": "stream",
     "text": [
      "<class 'pandas.core.frame.DataFrame'>\n",
      "Index: 0 entries\n",
      "Empty DataFrame"
     ]
    }
   ],
   "source": [
    "# Info to describe methode\n",
    "bro_df.info()"
   ]
  },
  {
   "cell_type": "code",
   "execution_count": 237,
   "metadata": {},
   "outputs": [
    {
     "ename": "ValueError",
     "evalue": "Cannot describe a DataFrame without columns",
     "output_type": "error",
     "traceback": [
      "\u001b[1;31m---------------------------------------------------------------------------\u001b[0m",
      "\u001b[1;31mValueError\u001b[0m                                Traceback (most recent call last)",
      "\u001b[1;32m<ipython-input-237-821081c1fc02>\u001b[0m in \u001b[0;36m<module>\u001b[1;34m\u001b[0m\n\u001b[0;32m      1\u001b[0m \u001b[1;31m# Statistics\u001b[0m\u001b[1;33m\u001b[0m\u001b[1;33m\u001b[0m\u001b[1;33m\u001b[0m\u001b[0m\n\u001b[1;32m----> 2\u001b[1;33m \u001b[0mbro_df\u001b[0m\u001b[1;33m.\u001b[0m\u001b[0mdescribe\u001b[0m\u001b[1;33m(\u001b[0m\u001b[1;33m)\u001b[0m\u001b[1;33m\u001b[0m\u001b[1;33m\u001b[0m\u001b[0m\n\u001b[0m",
      "\u001b[1;32m~\\anaconda3\\lib\\site-packages\\pandas\\core\\generic.py\u001b[0m in \u001b[0;36mdescribe\u001b[1;34m(self, percentiles, include, exclude)\u001b[0m\n\u001b[0;32m   9840\u001b[0m         \"\"\"\n\u001b[0;32m   9841\u001b[0m         \u001b[1;32mif\u001b[0m \u001b[0mself\u001b[0m\u001b[1;33m.\u001b[0m\u001b[0mndim\u001b[0m \u001b[1;33m==\u001b[0m \u001b[1;36m2\u001b[0m \u001b[1;32mand\u001b[0m \u001b[0mself\u001b[0m\u001b[1;33m.\u001b[0m\u001b[0mcolumns\u001b[0m\u001b[1;33m.\u001b[0m\u001b[0msize\u001b[0m \u001b[1;33m==\u001b[0m \u001b[1;36m0\u001b[0m\u001b[1;33m:\u001b[0m\u001b[1;33m\u001b[0m\u001b[1;33m\u001b[0m\u001b[0m\n\u001b[1;32m-> 9842\u001b[1;33m             \u001b[1;32mraise\u001b[0m \u001b[0mValueError\u001b[0m\u001b[1;33m(\u001b[0m\u001b[1;34m\"Cannot describe a DataFrame without columns\"\u001b[0m\u001b[1;33m)\u001b[0m\u001b[1;33m\u001b[0m\u001b[1;33m\u001b[0m\u001b[0m\n\u001b[0m\u001b[0;32m   9843\u001b[0m \u001b[1;33m\u001b[0m\u001b[0m\n\u001b[0;32m   9844\u001b[0m         \u001b[1;32mif\u001b[0m \u001b[0mpercentiles\u001b[0m \u001b[1;32mis\u001b[0m \u001b[1;32mnot\u001b[0m \u001b[1;32mNone\u001b[0m\u001b[1;33m:\u001b[0m\u001b[1;33m\u001b[0m\u001b[1;33m\u001b[0m\u001b[0m\n",
      "\u001b[1;31mValueError\u001b[0m: Cannot describe a DataFrame without columns"
     ]
    }
   ],
   "source": [
    "# Statistics \n",
    "bro_df.describe()"
   ]
  },
  {
   "cell_type": "code",
   "execution_count": 23,
   "metadata": {},
   "outputs": [
    {
     "data": {
      "text/plain": [
       "<seaborn.axisgrid.FacetGrid at 0x156bfcf9ec8>"
      ]
     },
     "execution_count": 23,
     "metadata": {},
     "output_type": "execute_result"
    },
    {
     "data": {
      "image/png": "[encoded data removed]",
      "text/plain": [
       "<Figure size 494.125x432 with 1 Axes>"
      ]
     },
     "metadata": {
      "needs_background": "light"
     },
     "output_type": "display_data"
    }
   ],
   "source": [
    "# EDA\n",
    "# Create a scatterplot of carvanCount vs to totalWeightSum where the are colored by season\n",
    "sns.lmplot(x='commodity', y='totalWeightSum', data=bro_df, hue='organic', fit_reg=False, palette='coolwarm',size=6,aspect=1)"
   ]
  },
  {
   "cell_type": "code",
   "execution_count": 26,
   "metadata": {},
   "outputs": [
    {
     "data": {
      "text/plain": [
       "<seaborn.axisgrid.FacetGrid at 0x156bfe4c9c8>"
      ]
     },
     "execution_count": 26,
     "metadata": {},
     "output_type": "execute_result"
    },
    {
     "data": {
      "image/png": "[encoded data removed]",
      "text/plain": [
       "<Figure size 494.125x432 with 1 Axes>"
      ]
     },
     "metadata": {
      "needs_background": "light"
     },
     "output_type": "display_data"
    }
   ],
   "source": [
    "sns.lmplot(x='commodity', y='packageCntSum', data=bro_df, hue='organic', fit_reg=False,size=6,aspect=1)"
   ]
  },
  {
   "cell_type": "code",
   "execution_count": 34,
   "metadata": {},
   "outputs": [
    {
     "name": "stderr",
     "output_type": "stream",
     "text": [
      "C:\\Users\\bruno\\anaconda3\\lib\\site-packages\\seaborn\\axisgrid.py:243: UserWarning: The `size` parameter has been renamed to `height`; please update your code.\n",
      "  warnings.warn(msg, UserWarning)\n"
     ]
    },
    {
     "data": {
      "image/png": "[encoded data removed]",
      "text/plain": [
       "<Figure size 864x432 with 1 Axes>"
      ]
     },
     "metadata": {
      "needs_background": "light"
     },
     "output_type": "display_data"
    }
   ],
   "source": [
    "g=sns.FacetGrid(bro_df, hue='organic', palette='coolwarm',size=6, aspect=2)\n",
    "g=g.map(plt.hist,'totalWeightSum', bins=20,alpha=0.7)"
   ]
  },
  {
   "cell_type": "code",
   "execution_count": 38,
   "metadata": {},
   "outputs": [
    {
     "data": {
      "image/png": "[encoded data removed]",
      "text/plain": [
       "<Figure size 864x432 with 1 Axes>"
      ]
     },
     "metadata": {
      "needs_background": "light"
     },
     "output_type": "display_data"
    }
   ],
   "source": [
    "g=sns.FacetGrid(bro_df, hue='organic', palette='coolwarm',size=6, aspect=2)\n",
    "g=g.map(plt.hist,'totalWeightSum', bins=20,alpha=0.7)"
   ]
  },
  {
   "cell_type": "code",
   "execution_count": 54,
   "metadata": {},
   "outputs": [
    {
     "data": {
      "image/png": "[encoded data removed]",
      "text/plain": [
       "<Figure size 432x288 with 3 Axes>"
      ]
     },
     "metadata": {
      "needs_background": "light"
     },
     "output_type": "display_data"
    }
   ],
   "source": [
    "gender = [' 2020-07-21 05:30:02.704', '2020-07-20 20:39:03.208', '2020-07-20 20:39:03.206']\n",
    "pet = ['broccoli', 'broccoli', 'broccoli']\n",
    "data = pandas.DataFrame({'gender': gender, 'pet': pet})\n",
    "mosaic(data, ['pet', 'gender'])\n",
    "plt.show()"
   ]
  },
  {
   "cell_type": "code",
   "execution_count": 140,
   "metadata": {},
   "outputs": [],
   "source": [
    "total=(bro_df.groupby('commodity')['totalWeightSum'].count().sort_values(ascending=False).reset_index(name='crawl_date'))"
   ]
  },
  {
   "cell_type": "code",
   "execution_count": 141,
   "metadata": {},
   "outputs": [],
   "source": [
    "# bro_df.to_csv('C:/Users/bruno/Desktop/Data science for Business/broccoli_txt.csv')"
   ]
  },
  {
   "cell_type": "code",
   "execution_count": 142,
   "metadata": {},
   "outputs": [
    {
     "data": {
      "text/plain": [
       "4377"
      ]
     },
     "execution_count": 142,
     "metadata": {},
     "output_type": "execute_result"
    }
   ],
   "source": [
    "bro_df.totalWeightSum.count()"
   ]
  },
  {
   "cell_type": "code",
   "execution_count": 143,
   "metadata": {},
   "outputs": [],
   "source": [
    "bro_df['start_time_datetime'] = pd.to_datetime(bro_df['crawl_date'])\n",
    "bro_df['start_time_day_name']=bro_df.crawl_date.dt.day_name()\n",
    "bro_df['start_time_hour']=bro_df.start_time_datetime.dt.hour\n",
    "bro_df['duration_second']=bro_df.crawl_date.dt.second\n",
    "bro_df['start_time_month']=bro_df.crawl_date.dt.month"
   ]
  },
  {
   "cell_type": "code",
   "execution_count": 144,
   "metadata": {},
   "outputs": [],
   "source": [
    "result2 = pd.pivot_table(bro_df[['start_time_datetime', 'start_time_hour', 'duration_second','commodity']], index=['commodity'], aggfunc='count')"
   ]
  },
  {
   "cell_type": "code",
   "execution_count": 145,
   "metadata": {},
   "outputs": [],
   "source": [
    "# result=hmap.pivot(index='commodity',columns='crawl_date',values='totalWeightSum')\n",
    "# Unstack below puts days on the x-axis and hour of day on the y-axis.\n",
    "result3 = result2.unstack(level=0)"
   ]
  },
  {
   "cell_type": "code",
   "execution_count": 146,
   "metadata": {},
   "outputs": [],
   "source": [
    "morning_hours = []\n",
    "for hour in range(1, 12):\n",
    "    detailed_hour = str(hour) + \"am\"\n",
    "    morning_hours.append(detailed_hour)"
   ]
  },
  {
   "cell_type": "code",
   "execution_count": 147,
   "metadata": {},
   "outputs": [],
   "source": [
    "afternoon_hours = []\n",
    "for hour in range(1, 12):\n",
    "    detailed_hour = str(hour) + \"pm\"\n",
    "    afternoon_hours.append(detailed_hour)"
   ]
  },
  {
   "cell_type": "code",
   "execution_count": 148,
   "metadata": {},
   "outputs": [],
   "source": [
    "detailed_hours = [\"12am\"] + morning_hours + [\"12pm\"] + afternoon_hours"
   ]
  },
  {
   "cell_type": "code",
   "execution_count": 149,
   "metadata": {},
   "outputs": [],
   "source": [
    "list_commodity = ['Strawberries']"
   ]
  },
  {
   "cell_type": "code",
   "execution_count": 150,
   "metadata": {},
   "outputs": [],
   "source": [
    "# sns.set_context(\"talk\")\n",
    "# f, ax = plt.subplots(figsize=(10, 10))\n",
    "# ax = sns.heatmap(result3, annot=True, linewidths=1, ax=ax, xticklabels=list_commodity, yticklabels=detailed_hours,cmap='winter_r')\n",
    "# ax.axes.set_title(\"Heatmap Counts by Day and Hour of Day\", fontsize=24, y=1.01)\n",
    "# ax.set(xlabel='commodity', ylabel='Starting Hour');\n",
    "# f,ax=plt.subplots(figsize=(20,20))\n",
    "# sns.heatmap(result,annot=True,linewidths=1.1, cmap='summer',fmt=\"\")"
   ]
  },
  {
   "cell_type": "code",
   "execution_count": 151,
   "metadata": {},
   "outputs": [
    {
     "data": {
      "text/html": [
       "<div>\n",
       "<style scoped>\n",
       "    .dataframe tbody tr th:only-of-type {\n",
       "        vertical-align: middle;\n",
       "    }\n",
       "\n",
       "    .dataframe tbody tr th {\n",
       "        vertical-align: top;\n",
       "    }\n",
       "\n",
       "    .dataframe thead th {\n",
       "        text-align: right;\n",
       "    }\n",
       "</style>\n",
       "<table border=\"1\" class=\"dataframe\">\n",
       "  <thead>\n",
       "    <tr style=\"text-align: right;\">\n",
       "      <th></th>\n",
       "      <th>_id</th>\n",
       "      <th>originName</th>\n",
       "      <th>carVanCount</th>\n",
       "      <th>totalWeightSum</th>\n",
       "      <th>districtName</th>\n",
       "      <th>season</th>\n",
       "      <th>transmode</th>\n",
       "      <th>impExpFlag</th>\n",
       "      <th>commodity</th>\n",
       "      <th>organic</th>\n",
       "      <th>...</th>\n",
       "      <th>pdwInd</th>\n",
       "      <th>pdwDate</th>\n",
       "      <th>packageDesc</th>\n",
       "      <th>packageCntSum</th>\n",
       "      <th>varietyName</th>\n",
       "      <th>start_time_datetime</th>\n",
       "      <th>start_time_day_name</th>\n",
       "      <th>start_time_hour</th>\n",
       "      <th>duration_second</th>\n",
       "      <th>start_time_month</th>\n",
       "    </tr>\n",
       "  </thead>\n",
       "  <tbody>\n",
       "    <tr>\n",
       "      <th>0</th>\n",
       "      <td>5f16dfca04c6e671a091b24a</td>\n",
       "      <td>CALIFORNIA-CENTRAL</td>\n",
       "      <td>3.0</td>\n",
       "      <td>132000</td>\n",
       "      <td>SALINAS-WATSONVILLE</td>\n",
       "      <td>2020</td>\n",
       "      <td>Piggyback</td>\n",
       "      <td>D</td>\n",
       "      <td>Broccoli</td>\n",
       "      <td>False</td>\n",
       "      <td>...</td>\n",
       "      <td>NaN</td>\n",
       "      <td>NaT</td>\n",
       "      <td>NaN</td>\n",
       "      <td>NaN</td>\n",
       "      <td>NaN</td>\n",
       "      <td>2020-07-21 05:30:02.704</td>\n",
       "      <td>Tuesday</td>\n",
       "      <td>5</td>\n",
       "      <td>2</td>\n",
       "      <td>7</td>\n",
       "    </tr>\n",
       "  </tbody>\n",
       "</table>\n",
       "<p>1 rows × 23 columns</p>\n",
       "</div>"
      ],
      "text/plain": [
       "                        _id          originName  carVanCount  totalWeightSum  \\\n",
       "0  5f16dfca04c6e671a091b24a  CALIFORNIA-CENTRAL          3.0          132000   \n",
       "\n",
       "          districtName  season  transmode impExpFlag commodity  organic  ...  \\\n",
       "0  SALINAS-WATSONVILLE    2020  Piggyback          D  Broccoli    False  ...   \n",
       "\n",
       "  pdwInd pdwDate packageDesc packageCntSum varietyName  \\\n",
       "0    NaN     NaT         NaN           NaN         NaN   \n",
       "\n",
       "      start_time_datetime  start_time_day_name start_time_hour  \\\n",
       "0 2020-07-21 05:30:02.704              Tuesday               5   \n",
       "\n",
       "  duration_second start_time_month  \n",
       "0               2                7  \n",
       "\n",
       "[1 rows x 23 columns]"
      ]
     },
     "execution_count": 151,
     "metadata": {},
     "output_type": "execute_result"
    }
   ],
   "source": [
    "bro_df.head(1)"
   ]
  },
  {
   "cell_type": "code",
   "execution_count": 152,
   "metadata": {},
   "outputs": [
    {
     "data": {
      "text/plain": [
       "23"
      ]
     },
     "execution_count": 152,
     "metadata": {},
     "output_type": "execute_result"
    }
   ],
   "source": [
    "len(bro_df.columns)"
   ]
  },
  {
   "cell_type": "code",
   "execution_count": 153,
   "metadata": {},
   "outputs": [],
   "source": [
    "# Selecting method by different method\n",
    "data=bro_df[['totalWeightSum','start_time_month','start_time_hour']]"
   ]
  },
  {
   "cell_type": "code",
   "execution_count": 154,
   "metadata": {},
   "outputs": [
    {
     "data": {
      "text/html": [
       "<div>\n",
       "<style scoped>\n",
       "    .dataframe tbody tr th:only-of-type {\n",
       "        vertical-align: middle;\n",
       "    }\n",
       "\n",
       "    .dataframe tbody tr th {\n",
       "        vertical-align: top;\n",
       "    }\n",
       "\n",
       "    .dataframe thead th {\n",
       "        text-align: right;\n",
       "    }\n",
       "</style>\n",
       "<table border=\"1\" class=\"dataframe\">\n",
       "  <thead>\n",
       "    <tr style=\"text-align: right;\">\n",
       "      <th></th>\n",
       "      <th>totalWeightSum</th>\n",
       "      <th>start_time_month</th>\n",
       "      <th>start_time_hour</th>\n",
       "    </tr>\n",
       "  </thead>\n",
       "  <tbody>\n",
       "    <tr>\n",
       "      <th>0</th>\n",
       "      <td>132000</td>\n",
       "      <td>7</td>\n",
       "      <td>5</td>\n",
       "    </tr>\n",
       "    <tr>\n",
       "      <th>1</th>\n",
       "      <td>6666</td>\n",
       "      <td>7</td>\n",
       "      <td>20</td>\n",
       "    </tr>\n",
       "    <tr>\n",
       "      <th>2</th>\n",
       "      <td>1160120</td>\n",
       "      <td>7</td>\n",
       "      <td>20</td>\n",
       "    </tr>\n",
       "    <tr>\n",
       "      <th>3</th>\n",
       "      <td>172579</td>\n",
       "      <td>7</td>\n",
       "      <td>20</td>\n",
       "    </tr>\n",
       "    <tr>\n",
       "      <th>4</th>\n",
       "      <td>48776</td>\n",
       "      <td>7</td>\n",
       "      <td>20</td>\n",
       "    </tr>\n",
       "    <tr>\n",
       "      <th>...</th>\n",
       "      <td>...</td>\n",
       "      <td>...</td>\n",
       "      <td>...</td>\n",
       "    </tr>\n",
       "    <tr>\n",
       "      <th>4372</th>\n",
       "      <td>49128</td>\n",
       "      <td>7</td>\n",
       "      <td>1</td>\n",
       "    </tr>\n",
       "    <tr>\n",
       "      <th>4373</th>\n",
       "      <td>40</td>\n",
       "      <td>7</td>\n",
       "      <td>1</td>\n",
       "    </tr>\n",
       "    <tr>\n",
       "      <th>4374</th>\n",
       "      <td>138880</td>\n",
       "      <td>7</td>\n",
       "      <td>1</td>\n",
       "    </tr>\n",
       "    <tr>\n",
       "      <th>4375</th>\n",
       "      <td>69120</td>\n",
       "      <td>7</td>\n",
       "      <td>1</td>\n",
       "    </tr>\n",
       "    <tr>\n",
       "      <th>4376</th>\n",
       "      <td>35160</td>\n",
       "      <td>7</td>\n",
       "      <td>1</td>\n",
       "    </tr>\n",
       "  </tbody>\n",
       "</table>\n",
       "<p>4377 rows × 3 columns</p>\n",
       "</div>"
      ],
      "text/plain": [
       "      totalWeightSum  start_time_month  start_time_hour\n",
       "0             132000                 7                5\n",
       "1               6666                 7               20\n",
       "2            1160120                 7               20\n",
       "3             172579                 7               20\n",
       "4              48776                 7               20\n",
       "...              ...               ...              ...\n",
       "4372           49128                 7                1\n",
       "4373              40                 7                1\n",
       "4374          138880                 7                1\n",
       "4375           69120                 7                1\n",
       "4376           35160                 7                1\n",
       "\n",
       "[4377 rows x 3 columns]"
      ]
     },
     "execution_count": 154,
     "metadata": {},
     "output_type": "execute_result"
    }
   ],
   "source": [
    "data"
   ]
  },
  {
   "cell_type": "code",
   "execution_count": 155,
   "metadata": {},
   "outputs": [],
   "source": [
    "phase_1=data.groupby(['start_time_month','start_time_hour']).mean()"
   ]
  },
  {
   "cell_type": "code",
   "execution_count": 156,
   "metadata": {},
   "outputs": [
    {
     "data": {
      "text/html": [
       "<div>\n",
       "<style scoped>\n",
       "    .dataframe tbody tr th:only-of-type {\n",
       "        vertical-align: middle;\n",
       "    }\n",
       "\n",
       "    .dataframe tbody tr th {\n",
       "        vertical-align: top;\n",
       "    }\n",
       "\n",
       "    .dataframe thead th {\n",
       "        text-align: right;\n",
       "    }\n",
       "</style>\n",
       "<table border=\"1\" class=\"dataframe\">\n",
       "  <thead>\n",
       "    <tr style=\"text-align: right;\">\n",
       "      <th></th>\n",
       "      <th></th>\n",
       "      <th>totalWeightSum</th>\n",
       "    </tr>\n",
       "    <tr>\n",
       "      <th>start_time_month</th>\n",
       "      <th>start_time_hour</th>\n",
       "      <th></th>\n",
       "    </tr>\n",
       "  </thead>\n",
       "  <tbody>\n",
       "    <tr>\n",
       "      <th rowspan=\"3\" valign=\"top\">7</th>\n",
       "      <th>1</th>\n",
       "      <td>165184.838701</td>\n",
       "    </tr>\n",
       "    <tr>\n",
       "      <th>5</th>\n",
       "      <td>132000.000000</td>\n",
       "    </tr>\n",
       "    <tr>\n",
       "      <th>20</th>\n",
       "      <td>218737.822171</td>\n",
       "    </tr>\n",
       "  </tbody>\n",
       "</table>\n",
       "</div>"
      ],
      "text/plain": [
       "                                  totalWeightSum\n",
       "start_time_month start_time_hour                \n",
       "7                1                 165184.838701\n",
       "                 5                 132000.000000\n",
       "                 20                218737.822171"
      ]
     },
     "execution_count": 156,
     "metadata": {},
     "output_type": "execute_result"
    }
   ],
   "source": [
    "phase_1.head(10)"
   ]
  },
  {
   "cell_type": "code",
   "execution_count": 157,
   "metadata": {},
   "outputs": [
    {
     "data": {
      "text/html": [
       "<div>\n",
       "<style scoped>\n",
       "    .dataframe tbody tr th:only-of-type {\n",
       "        vertical-align: middle;\n",
       "    }\n",
       "\n",
       "    .dataframe tbody tr th {\n",
       "        vertical-align: top;\n",
       "    }\n",
       "\n",
       "    .dataframe thead th {\n",
       "        text-align: right;\n",
       "    }\n",
       "</style>\n",
       "<table border=\"1\" class=\"dataframe\">\n",
       "  <thead>\n",
       "    <tr style=\"text-align: right;\">\n",
       "      <th></th>\n",
       "      <th>start_time_month</th>\n",
       "      <th>start_time_hour</th>\n",
       "      <th>totalWeightSum</th>\n",
       "    </tr>\n",
       "  </thead>\n",
       "  <tbody>\n",
       "    <tr>\n",
       "      <th>0</th>\n",
       "      <td>7</td>\n",
       "      <td>1</td>\n",
       "      <td>165184.838701</td>\n",
       "    </tr>\n",
       "    <tr>\n",
       "      <th>1</th>\n",
       "      <td>7</td>\n",
       "      <td>5</td>\n",
       "      <td>132000.000000</td>\n",
       "    </tr>\n",
       "    <tr>\n",
       "      <th>2</th>\n",
       "      <td>7</td>\n",
       "      <td>20</td>\n",
       "      <td>218737.822171</td>\n",
       "    </tr>\n",
       "  </tbody>\n",
       "</table>\n",
       "</div>"
      ],
      "text/plain": [
       "   start_time_month  start_time_hour  totalWeightSum\n",
       "0                 7                1   165184.838701\n",
       "1                 7                5   132000.000000\n",
       "2                 7               20   218737.822171"
      ]
     },
     "execution_count": 157,
     "metadata": {},
     "output_type": "execute_result"
    }
   ],
   "source": [
    "phase_1=phase_1.reset_index()\n",
    "phase_1.head()"
   ]
  },
  {
   "cell_type": "code",
   "execution_count": 158,
   "metadata": {},
   "outputs": [
    {
     "data": {
      "text/html": [
       "<div>\n",
       "<style scoped>\n",
       "    .dataframe tbody tr th:only-of-type {\n",
       "        vertical-align: middle;\n",
       "    }\n",
       "\n",
       "    .dataframe tbody tr th {\n",
       "        vertical-align: top;\n",
       "    }\n",
       "\n",
       "    .dataframe thead th {\n",
       "        text-align: right;\n",
       "    }\n",
       "</style>\n",
       "<table border=\"1\" class=\"dataframe\">\n",
       "  <thead>\n",
       "    <tr style=\"text-align: right;\">\n",
       "      <th>start_time_hour</th>\n",
       "      <th>1</th>\n",
       "      <th>5</th>\n",
       "      <th>20</th>\n",
       "    </tr>\n",
       "    <tr>\n",
       "      <th>start_time_month</th>\n",
       "      <th></th>\n",
       "      <th></th>\n",
       "      <th></th>\n",
       "    </tr>\n",
       "  </thead>\n",
       "  <tbody>\n",
       "    <tr>\n",
       "      <th>7</th>\n",
       "      <td>165184.838701</td>\n",
       "      <td>132000.0</td>\n",
       "      <td>218737.822171</td>\n",
       "    </tr>\n",
       "  </tbody>\n",
       "</table>\n",
       "</div>"
      ],
      "text/plain": [
       "start_time_hour              1         5              20\n",
       "start_time_month                                        \n",
       "7                 165184.838701  132000.0  218737.822171"
      ]
     },
     "execution_count": 158,
     "metadata": {},
     "output_type": "execute_result"
    }
   ],
   "source": [
    "phase_1.pivot('start_time_month','start_time_hour','totalWeightSum').head()"
   ]
  },
  {
   "cell_type": "code",
   "execution_count": 159,
   "metadata": {},
   "outputs": [
    {
     "data": {
      "text/html": [
       "<div>\n",
       "<style scoped>\n",
       "    .dataframe tbody tr th:only-of-type {\n",
       "        vertical-align: middle;\n",
       "    }\n",
       "\n",
       "    .dataframe tbody tr th {\n",
       "        vertical-align: top;\n",
       "    }\n",
       "\n",
       "    .dataframe thead th {\n",
       "        text-align: right;\n",
       "    }\n",
       "</style>\n",
       "<table border=\"1\" class=\"dataframe\">\n",
       "  <thead>\n",
       "    <tr style=\"text-align: right;\">\n",
       "      <th>start_time_hour</th>\n",
       "      <th>1</th>\n",
       "      <th>5</th>\n",
       "      <th>20</th>\n",
       "    </tr>\n",
       "    <tr>\n",
       "      <th>start_time_month</th>\n",
       "      <th></th>\n",
       "      <th></th>\n",
       "      <th></th>\n",
       "    </tr>\n",
       "  </thead>\n",
       "  <tbody>\n",
       "    <tr>\n",
       "      <th>7</th>\n",
       "      <td>165184.838701</td>\n",
       "      <td>132000.0</td>\n",
       "      <td>218737.822171</td>\n",
       "    </tr>\n",
       "  </tbody>\n",
       "</table>\n",
       "</div>"
      ],
      "text/plain": [
       "start_time_hour              1         5              20\n",
       "start_time_month                                        \n",
       "7                 165184.838701  132000.0  218737.822171"
      ]
     },
     "execution_count": 159,
     "metadata": {},
     "output_type": "execute_result"
    }
   ],
   "source": [
    "phase_1.pivot('start_time_month','start_time_hour')['totalWeightSum'].head()"
   ]
  },
  {
   "cell_type": "code",
   "execution_count": 170,
   "metadata": {},
   "outputs": [
    {
     "data": {
      "text/plain": [
       "<matplotlib.axes._subplots.AxesSubplot at 0x156ccf7ae88>"
      ]
     },
     "execution_count": 170,
     "metadata": {},
     "output_type": "execute_result"
    },
    {
     "data": {
      "image/png": "[encoded data removed]",
      "text/plain": [
       "<Figure size 720x720 with 2 Axes>"
      ]
     },
     "metadata": {
      "needs_background": "light"
     },
     "output_type": "display_data"
    }
   ],
   "source": [
    "plt.figure(figsize=(10,10))\n",
    "pivot_table=phase_1.pivot('start_time_month','start_time_hour','totalWeightSum')\n",
    "plt.xlabel('start_time_hour', size=15)\n",
    "plt.ylabel('start_time_month', size=15)\n",
    "plt.title('total weight per hour and second', size=15)\n",
    "sns.heatmap(pivot_table, annot=True, fmt='.1f', linewidths=1, square=True, cmap='winter_r')"
   ]
  },
  {
   "cell_type": "code",
   "execution_count": 173,
   "metadata": {},
   "outputs": [],
   "source": [
    "bro_df=pd.DataFrame(response)"
   ]
  },
  {
   "cell_type": "code",
   "execution_count": 174,
   "metadata": {},
   "outputs": [
    {
     "data": {
      "text/html": [
       "<div>\n",
       "<style scoped>\n",
       "    .dataframe tbody tr th:only-of-type {\n",
       "        vertical-align: middle;\n",
       "    }\n",
       "\n",
       "    .dataframe tbody tr th {\n",
       "        vertical-align: top;\n",
       "    }\n",
       "\n",
       "    .dataframe thead th {\n",
       "        text-align: right;\n",
       "    }\n",
       "</style>\n",
       "<table border=\"1\" class=\"dataframe\">\n",
       "  <thead>\n",
       "    <tr style=\"text-align: right;\">\n",
       "      <th></th>\n",
       "      <th>_id</th>\n",
       "      <th>originName</th>\n",
       "      <th>totalWeightSum</th>\n",
       "      <th>districtName</th>\n",
       "      <th>season</th>\n",
       "      <th>transmode</th>\n",
       "      <th>impExpFlag</th>\n",
       "      <th>commodity</th>\n",
       "      <th>organic</th>\n",
       "      <th>reportDate</th>\n",
       "      <th>checksum_sha256</th>\n",
       "      <th>crawl_date</th>\n",
       "      <th>packageDesc</th>\n",
       "      <th>packageCntSum</th>\n",
       "      <th>carVanCount</th>\n",
       "      <th>pdwInd</th>\n",
       "      <th>pdwDate</th>\n",
       "    </tr>\n",
       "  </thead>\n",
       "  <tbody>\n",
       "    <tr>\n",
       "      <th>0</th>\n",
       "      <td>5f17504b04c6e659f133f31c</td>\n",
       "      <td>MEXICO</td>\n",
       "      <td>22176</td>\n",
       "      <td>MEXICO CROSSINGS THROUGH ROMA, TX</td>\n",
       "      <td>2019</td>\n",
       "      <td>Truck</td>\n",
       "      <td>I</td>\n",
       "      <td>Cauliflower</td>\n",
       "      <td>False</td>\n",
       "      <td>2020-07-20</td>\n",
       "      <td>ef90871a280cb2db5125947c8bc14f38398bd1783fc270...</td>\n",
       "      <td>2020-07-21 13:30:03.656</td>\n",
       "      <td>NaN</td>\n",
       "      <td>NaN</td>\n",
       "      <td>NaN</td>\n",
       "      <td>NaN</td>\n",
       "      <td>NaT</td>\n",
       "    </tr>\n",
       "    <tr>\n",
       "      <th>1</th>\n",
       "      <td>5f17504b04c6e659f133f31b</td>\n",
       "      <td>MEXICO</td>\n",
       "      <td>24411</td>\n",
       "      <td>MEXICO CROSSINGS THROUGH PHARR, TX</td>\n",
       "      <td>2019</td>\n",
       "      <td>Truck</td>\n",
       "      <td>I</td>\n",
       "      <td>Cauliflower</td>\n",
       "      <td>False</td>\n",
       "      <td>2020-07-20</td>\n",
       "      <td>712f9fc022ff669c008b653ccabbd70b325c7434389eee...</td>\n",
       "      <td>2020-07-21 13:30:03.654</td>\n",
       "      <td>NaN</td>\n",
       "      <td>NaN</td>\n",
       "      <td>NaN</td>\n",
       "      <td>NaN</td>\n",
       "      <td>NaT</td>\n",
       "    </tr>\n",
       "    <tr>\n",
       "      <th>2</th>\n",
       "      <td>5f17504b04c6e659f133f31d</td>\n",
       "      <td>MEXICO</td>\n",
       "      <td>6519</td>\n",
       "      <td>MEXICO CROSSINGS THROUGH LAREDO, TX</td>\n",
       "      <td>2019</td>\n",
       "      <td>Truck</td>\n",
       "      <td>I</td>\n",
       "      <td>Cauliflower</td>\n",
       "      <td>False</td>\n",
       "      <td>2020-07-20</td>\n",
       "      <td>9d723657835ca6f614b7c9cbfd5fc008d9b32e8051a293...</td>\n",
       "      <td>2020-07-21 13:30:03.658</td>\n",
       "      <td>NaN</td>\n",
       "      <td>NaN</td>\n",
       "      <td>NaN</td>\n",
       "      <td>NaN</td>\n",
       "      <td>NaT</td>\n",
       "    </tr>\n",
       "    <tr>\n",
       "      <th>3</th>\n",
       "      <td>5f17504b04c6e659f133f246</td>\n",
       "      <td>CALIFORNIA-CENTRAL</td>\n",
       "      <td>73800</td>\n",
       "      <td>SANTA MARIA</td>\n",
       "      <td>2020</td>\n",
       "      <td>Truck</td>\n",
       "      <td>D</td>\n",
       "      <td>Cauliflower</td>\n",
       "      <td>True</td>\n",
       "      <td>2020-07-20</td>\n",
       "      <td>e1cb33af1e69590cbfa92727e08f381ad14a8238ee1c2b...</td>\n",
       "      <td>2020-07-21 13:30:03.155</td>\n",
       "      <td>CTNS FLM WRPD</td>\n",
       "      <td>2952.0</td>\n",
       "      <td>NaN</td>\n",
       "      <td>NaN</td>\n",
       "      <td>NaT</td>\n",
       "    </tr>\n",
       "    <tr>\n",
       "      <th>4</th>\n",
       "      <td>5f17504b04c6e659f133f244</td>\n",
       "      <td>CALIFORNIA-CENTRAL</td>\n",
       "      <td>558475</td>\n",
       "      <td>SANTA MARIA</td>\n",
       "      <td>2020</td>\n",
       "      <td>Truck</td>\n",
       "      <td>D</td>\n",
       "      <td>Cauliflower</td>\n",
       "      <td>False</td>\n",
       "      <td>2020-07-20</td>\n",
       "      <td>38934ed073fe0e505625e9c172a2974baf7cc30f38b46f...</td>\n",
       "      <td>2020-07-21 13:30:03.149</td>\n",
       "      <td>CTNS FLM WRPD</td>\n",
       "      <td>22339.0</td>\n",
       "      <td>NaN</td>\n",
       "      <td>NaN</td>\n",
       "      <td>NaT</td>\n",
       "    </tr>\n",
       "  </tbody>\n",
       "</table>\n",
       "</div>"
      ],
      "text/plain": [
       "                        _id          originName  totalWeightSum  \\\n",
       "0  5f17504b04c6e659f133f31c              MEXICO           22176   \n",
       "1  5f17504b04c6e659f133f31b              MEXICO           24411   \n",
       "2  5f17504b04c6e659f133f31d              MEXICO            6519   \n",
       "3  5f17504b04c6e659f133f246  CALIFORNIA-CENTRAL           73800   \n",
       "4  5f17504b04c6e659f133f244  CALIFORNIA-CENTRAL          558475   \n",
       "\n",
       "                          districtName  season transmode impExpFlag  \\\n",
       "0    MEXICO CROSSINGS THROUGH ROMA, TX    2019     Truck          I   \n",
       "1   MEXICO CROSSINGS THROUGH PHARR, TX    2019     Truck          I   \n",
       "2  MEXICO CROSSINGS THROUGH LAREDO, TX    2019     Truck          I   \n",
       "3                          SANTA MARIA    2020     Truck          D   \n",
       "4                          SANTA MARIA    2020     Truck          D   \n",
       "\n",
       "     commodity  organic reportDate  \\\n",
       "0  Cauliflower    False 2020-07-20   \n",
       "1  Cauliflower    False 2020-07-20   \n",
       "2  Cauliflower    False 2020-07-20   \n",
       "3  Cauliflower     True 2020-07-20   \n",
       "4  Cauliflower    False 2020-07-20   \n",
       "\n",
       "                                     checksum_sha256              crawl_date  \\\n",
       "0  ef90871a280cb2db5125947c8bc14f38398bd1783fc270... 2020-07-21 13:30:03.656   \n",
       "1  712f9fc022ff669c008b653ccabbd70b325c7434389eee... 2020-07-21 13:30:03.654   \n",
       "2  9d723657835ca6f614b7c9cbfd5fc008d9b32e8051a293... 2020-07-21 13:30:03.658   \n",
       "3  e1cb33af1e69590cbfa92727e08f381ad14a8238ee1c2b... 2020-07-21 13:30:03.155   \n",
       "4  38934ed073fe0e505625e9c172a2974baf7cc30f38b46f... 2020-07-21 13:30:03.149   \n",
       "\n",
       "     packageDesc  packageCntSum  carVanCount pdwInd pdwDate  \n",
       "0            NaN            NaN          NaN    NaN     NaT  \n",
       "1            NaN            NaN          NaN    NaN     NaT  \n",
       "2            NaN            NaN          NaN    NaN     NaT  \n",
       "3  CTNS FLM WRPD         2952.0          NaN    NaN     NaT  \n",
       "4  CTNS FLM WRPD        22339.0          NaN    NaN     NaT  "
      ]
     },
     "execution_count": 174,
     "metadata": {},
     "output_type": "execute_result"
    }
   ],
   "source": [
    "bro_df.head()"
   ]
  },
  {
   "cell_type": "code",
   "execution_count": 10,
   "metadata": {},
   "outputs": [
    {
     "ename": "CursorNotFound",
     "evalue": "cursor id 8227490069466466438 not found",
     "output_type": "error",
     "traceback": [
      "\u001b[1;31m---------------------------------------------------------------------------\u001b[0m",
      "\u001b[1;31mCursorNotFound\u001b[0m                            Traceback (most recent call last)",
      "\u001b[1;32m<ipython-input-10-27e8622add82>\u001b[0m in \u001b[0;36m<module>\u001b[1;34m\u001b[0m\n\u001b[0;32m     17\u001b[0m \u001b[1;33m\u001b[0m\u001b[0m\n\u001b[0;32m     18\u001b[0m \u001b[0mdb\u001b[0m\u001b[1;33m=\u001b[0m\u001b[0mDatabase\u001b[0m\u001b[1;33m(\u001b[0m\u001b[1;33m)\u001b[0m\u001b[1;33m\u001b[0m\u001b[1;33m\u001b[0m\u001b[0m\n\u001b[1;32m---> 19\u001b[1;33m \u001b[0mcommodity_list\u001b[0m\u001b[1;33m=\u001b[0m\u001b[0mget_commodity_list\u001b[0m\u001b[1;33m(\u001b[0m\u001b[0mdb\u001b[0m\u001b[1;33m)\u001b[0m\u001b[1;33m\u001b[0m\u001b[1;33m\u001b[0m\u001b[0m\n\u001b[0m\u001b[0;32m     20\u001b[0m \u001b[1;33m\u001b[0m\u001b[0m\n\u001b[0;32m     21\u001b[0m \u001b[1;32mfor\u001b[0m \u001b[0mcommodity\u001b[0m \u001b[1;32min\u001b[0m \u001b[0mcommodity_list\u001b[0m\u001b[1;33m:\u001b[0m\u001b[1;33m\u001b[0m\u001b[1;33m\u001b[0m\u001b[0m\n",
      "\u001b[1;32m<ipython-input-10-27e8622add82>\u001b[0m in \u001b[0;36mget_commodity_list\u001b[1;34m(db)\u001b[0m\n\u001b[0;32m     13\u001b[0m     ]\n\u001b[0;32m     14\u001b[0m     \u001b[0mdb_conn\u001b[0m\u001b[1;33m=\u001b[0m\u001b[0mdb\u001b[0m\u001b[1;33m.\u001b[0m\u001b[0mcollection_volume_commodities\u001b[0m\u001b[1;33m(\u001b[0m\u001b[1;33m)\u001b[0m\u001b[1;33m\u001b[0m\u001b[1;33m\u001b[0m\u001b[0m\n\u001b[1;32m---> 15\u001b[1;33m     \u001b[0mresult\u001b[0m\u001b[1;33m=\u001b[0m\u001b[0mlist\u001b[0m\u001b[1;33m(\u001b[0m\u001b[0mdb_conn\u001b[0m\u001b[1;33m.\u001b[0m\u001b[0maggregate\u001b[0m\u001b[1;33m(\u001b[0m\u001b[0mcommodity_list_query\u001b[0m\u001b[1;33m)\u001b[0m\u001b[1;33m)\u001b[0m\u001b[1;33m\u001b[0m\u001b[1;33m\u001b[0m\u001b[0m\n\u001b[0m\u001b[0;32m     16\u001b[0m     \u001b[1;32mreturn\u001b[0m \u001b[0mresult\u001b[0m\u001b[1;33m\u001b[0m\u001b[1;33m\u001b[0m\u001b[0m\n\u001b[0;32m     17\u001b[0m \u001b[1;33m\u001b[0m\u001b[0m\n",
      "\u001b[1;32m~\\anaconda3\\lib\\site-packages\\pymongo\\command_cursor.py\u001b[0m in \u001b[0;36mnext\u001b[1;34m(self)\u001b[0m\n\u001b[0;32m    257\u001b[0m         \u001b[1;31m# Block until a document is returnable.\u001b[0m\u001b[1;33m\u001b[0m\u001b[1;33m\u001b[0m\u001b[1;33m\u001b[0m\u001b[0m\n\u001b[0;32m    258\u001b[0m         \u001b[1;32mwhile\u001b[0m \u001b[0mself\u001b[0m\u001b[1;33m.\u001b[0m\u001b[0malive\u001b[0m\u001b[1;33m:\u001b[0m\u001b[1;33m\u001b[0m\u001b[1;33m\u001b[0m\u001b[0m\n\u001b[1;32m--> 259\u001b[1;33m             \u001b[0mdoc\u001b[0m \u001b[1;33m=\u001b[0m \u001b[0mself\u001b[0m\u001b[1;33m.\u001b[0m\u001b[0m_try_next\u001b[0m\u001b[1;33m(\u001b[0m\u001b[1;32mTrue\u001b[0m\u001b[1;33m)\u001b[0m\u001b[1;33m\u001b[0m\u001b[1;33m\u001b[0m\u001b[0m\n\u001b[0m\u001b[0;32m    260\u001b[0m             \u001b[1;32mif\u001b[0m \u001b[0mdoc\u001b[0m \u001b[1;32mis\u001b[0m \u001b[1;32mnot\u001b[0m \u001b[1;32mNone\u001b[0m\u001b[1;33m:\u001b[0m\u001b[1;33m\u001b[0m\u001b[1;33m\u001b[0m\u001b[0m\n\u001b[0;32m    261\u001b[0m                 \u001b[1;32mreturn\u001b[0m \u001b[0mdoc\u001b[0m\u001b[1;33m\u001b[0m\u001b[1;33m\u001b[0m\u001b[0m\n",
      "\u001b[1;32m~\\anaconda3\\lib\\site-packages\\pymongo\\command_cursor.py\u001b[0m in \u001b[0;36m_try_next\u001b[1;34m(self, get_more_allowed)\u001b[0m\n\u001b[0;32m    268\u001b[0m         \u001b[1;34m\"\"\"Advance the cursor blocking for at most one getMore command.\"\"\"\u001b[0m\u001b[1;33m\u001b[0m\u001b[1;33m\u001b[0m\u001b[0m\n\u001b[0;32m    269\u001b[0m         \u001b[1;32mif\u001b[0m \u001b[1;32mnot\u001b[0m \u001b[0mlen\u001b[0m\u001b[1;33m(\u001b[0m\u001b[0mself\u001b[0m\u001b[1;33m.\u001b[0m\u001b[0m__data\u001b[0m\u001b[1;33m)\u001b[0m \u001b[1;32mand\u001b[0m \u001b[1;32mnot\u001b[0m \u001b[0mself\u001b[0m\u001b[1;33m.\u001b[0m\u001b[0m__killed\u001b[0m \u001b[1;32mand\u001b[0m \u001b[0mget_more_allowed\u001b[0m\u001b[1;33m:\u001b[0m\u001b[1;33m\u001b[0m\u001b[1;33m\u001b[0m\u001b[0m\n\u001b[1;32m--> 270\u001b[1;33m             \u001b[0mself\u001b[0m\u001b[1;33m.\u001b[0m\u001b[0m_refresh\u001b[0m\u001b[1;33m(\u001b[0m\u001b[1;33m)\u001b[0m\u001b[1;33m\u001b[0m\u001b[1;33m\u001b[0m\u001b[0m\n\u001b[0m\u001b[0;32m    271\u001b[0m         \u001b[1;32mif\u001b[0m \u001b[0mlen\u001b[0m\u001b[1;33m(\u001b[0m\u001b[0mself\u001b[0m\u001b[1;33m.\u001b[0m\u001b[0m__data\u001b[0m\u001b[1;33m)\u001b[0m\u001b[1;33m:\u001b[0m\u001b[1;33m\u001b[0m\u001b[1;33m\u001b[0m\u001b[0m\n\u001b[0;32m    272\u001b[0m             \u001b[0mcoll\u001b[0m \u001b[1;33m=\u001b[0m \u001b[0mself\u001b[0m\u001b[1;33m.\u001b[0m\u001b[0m__collection\u001b[0m\u001b[1;33m\u001b[0m\u001b[1;33m\u001b[0m\u001b[0m\n",
      "\u001b[1;32m~\\anaconda3\\lib\\site-packages\\pymongo\\command_cursor.py\u001b[0m in \u001b[0;36m_refresh\u001b[1;34m(self)\u001b[0m\n\u001b[0;32m    204\u001b[0m                                     \u001b[0mself\u001b[0m\u001b[1;33m.\u001b[0m\u001b[0m__collection\u001b[0m\u001b[1;33m.\u001b[0m\u001b[0mdatabase\u001b[0m\u001b[1;33m.\u001b[0m\u001b[0mclient\u001b[0m\u001b[1;33m,\u001b[0m\u001b[1;33m\u001b[0m\u001b[1;33m\u001b[0m\u001b[0m\n\u001b[0;32m    205\u001b[0m                                     \u001b[0mself\u001b[0m\u001b[1;33m.\u001b[0m\u001b[0m__max_await_time_ms\u001b[0m\u001b[1;33m,\u001b[0m\u001b[1;33m\u001b[0m\u001b[1;33m\u001b[0m\u001b[0m\n\u001b[1;32m--> 206\u001b[1;33m                                     False))\n\u001b[0m\u001b[0;32m    207\u001b[0m         \u001b[1;32melse\u001b[0m\u001b[1;33m:\u001b[0m  \u001b[1;31m# Cursor id is zero nothing else to return\u001b[0m\u001b[1;33m\u001b[0m\u001b[1;33m\u001b[0m\u001b[0m\n\u001b[0;32m    208\u001b[0m             \u001b[0mself\u001b[0m\u001b[1;33m.\u001b[0m\u001b[0m__killed\u001b[0m \u001b[1;33m=\u001b[0m \u001b[1;32mTrue\u001b[0m\u001b[1;33m\u001b[0m\u001b[1;33m\u001b[0m\u001b[0m\n",
      "\u001b[1;32m~\\anaconda3\\lib\\site-packages\\pymongo\\command_cursor.py\u001b[0m in \u001b[0;36m__send_message\u001b[1;34m(self, operation)\u001b[0m\n\u001b[0;32m    138\u001b[0m         \u001b[1;32mtry\u001b[0m\u001b[1;33m:\u001b[0m\u001b[1;33m\u001b[0m\u001b[1;33m\u001b[0m\u001b[0m\n\u001b[0;32m    139\u001b[0m             response = client._run_operation_with_response(\n\u001b[1;32m--> 140\u001b[1;33m                 operation, self._unpack_response, address=self.__address)\n\u001b[0m\u001b[0;32m    141\u001b[0m         \u001b[1;32mexcept\u001b[0m \u001b[0mOperationFailure\u001b[0m\u001b[1;33m:\u001b[0m\u001b[1;33m\u001b[0m\u001b[1;33m\u001b[0m\u001b[0m\n\u001b[0;32m    142\u001b[0m             \u001b[0mkill\u001b[0m\u001b[1;33m(\u001b[0m\u001b[1;33m)\u001b[0m\u001b[1;33m\u001b[0m\u001b[1;33m\u001b[0m\u001b[0m\n",
      "\u001b[1;32m~\\anaconda3\\lib\\site-packages\\pymongo\\mongo_client.py\u001b[0m in \u001b[0;36m_run_operation_with_response\u001b[1;34m(self, operation, unpack_res, exhaust, address)\u001b[0m\n\u001b[0;32m   1344\u001b[0m             \u001b[0maddress\u001b[0m\u001b[1;33m=\u001b[0m\u001b[0maddress\u001b[0m\u001b[1;33m,\u001b[0m\u001b[1;33m\u001b[0m\u001b[1;33m\u001b[0m\u001b[0m\n\u001b[0;32m   1345\u001b[0m             \u001b[0mretryable\u001b[0m\u001b[1;33m=\u001b[0m\u001b[0misinstance\u001b[0m\u001b[1;33m(\u001b[0m\u001b[0moperation\u001b[0m\u001b[1;33m,\u001b[0m \u001b[0mmessage\u001b[0m\u001b[1;33m.\u001b[0m\u001b[0m_Query\u001b[0m\u001b[1;33m)\u001b[0m\u001b[1;33m,\u001b[0m\u001b[1;33m\u001b[0m\u001b[1;33m\u001b[0m\u001b[0m\n\u001b[1;32m-> 1346\u001b[1;33m             exhaust=exhaust)\n\u001b[0m\u001b[0;32m   1347\u001b[0m \u001b[1;33m\u001b[0m\u001b[0m\n\u001b[0;32m   1348\u001b[0m     \u001b[1;32mdef\u001b[0m \u001b[0m_retry_with_session\u001b[0m\u001b[1;33m(\u001b[0m\u001b[0mself\u001b[0m\u001b[1;33m,\u001b[0m \u001b[0mretryable\u001b[0m\u001b[1;33m,\u001b[0m \u001b[0mfunc\u001b[0m\u001b[1;33m,\u001b[0m \u001b[0msession\u001b[0m\u001b[1;33m,\u001b[0m \u001b[0mbulk\u001b[0m\u001b[1;33m)\u001b[0m\u001b[1;33m:\u001b[0m\u001b[1;33m\u001b[0m\u001b[1;33m\u001b[0m\u001b[0m\n",
      "\u001b[1;32m~\\anaconda3\\lib\\site-packages\\pymongo\\mongo_client.py\u001b[0m in \u001b[0;36m_retryable_read\u001b[1;34m(self, func, read_pref, session, address, retryable, exhaust)\u001b[0m\n\u001b[0;32m   1462\u001b[0m                         \u001b[1;31m# not support retryable reads, raise the last error.\u001b[0m\u001b[1;33m\u001b[0m\u001b[1;33m\u001b[0m\u001b[1;33m\u001b[0m\u001b[0m\n\u001b[0;32m   1463\u001b[0m                         \u001b[1;32mraise\u001b[0m \u001b[0mlast_error\u001b[0m\u001b[1;33m\u001b[0m\u001b[1;33m\u001b[0m\u001b[0m\n\u001b[1;32m-> 1464\u001b[1;33m                     \u001b[1;32mreturn\u001b[0m \u001b[0mfunc\u001b[0m\u001b[1;33m(\u001b[0m\u001b[0msession\u001b[0m\u001b[1;33m,\u001b[0m \u001b[0mserver\u001b[0m\u001b[1;33m,\u001b[0m \u001b[0msock_info\u001b[0m\u001b[1;33m,\u001b[0m \u001b[0mslave_ok\u001b[0m\u001b[1;33m)\u001b[0m\u001b[1;33m\u001b[0m\u001b[1;33m\u001b[0m\u001b[0m\n\u001b[0m\u001b[0;32m   1465\u001b[0m             \u001b[1;32mexcept\u001b[0m \u001b[0mServerSelectionTimeoutError\u001b[0m\u001b[1;33m:\u001b[0m\u001b[1;33m\u001b[0m\u001b[1;33m\u001b[0m\u001b[0m\n\u001b[0;32m   1466\u001b[0m                 \u001b[1;32mif\u001b[0m \u001b[0mretrying\u001b[0m\u001b[1;33m:\u001b[0m\u001b[1;33m\u001b[0m\u001b[1;33m\u001b[0m\u001b[0m\n",
      "\u001b[1;32m~\\anaconda3\\lib\\site-packages\\pymongo\\mongo_client.py\u001b[0m in \u001b[0;36m_cmd\u001b[1;34m(session, server, sock_info, slave_ok)\u001b[0m\n\u001b[0;32m   1338\u001b[0m                 \u001b[0mself\u001b[0m\u001b[1;33m.\u001b[0m\u001b[0m_event_listeners\u001b[0m\u001b[1;33m,\u001b[0m\u001b[1;33m\u001b[0m\u001b[1;33m\u001b[0m\u001b[0m\n\u001b[0;32m   1339\u001b[0m                 \u001b[0mexhaust\u001b[0m\u001b[1;33m,\u001b[0m\u001b[1;33m\u001b[0m\u001b[1;33m\u001b[0m\u001b[0m\n\u001b[1;32m-> 1340\u001b[1;33m                 unpack_res)\n\u001b[0m\u001b[0;32m   1341\u001b[0m \u001b[1;33m\u001b[0m\u001b[0m\n\u001b[0;32m   1342\u001b[0m         return self._retryable_read(\n",
      "\u001b[1;32m~\\anaconda3\\lib\\site-packages\\pymongo\\server.py\u001b[0m in \u001b[0;36mrun_operation_with_response\u001b[1;34m(self, sock_info, operation, set_slave_okay, listeners, exhaust, unpack_res)\u001b[0m\n\u001b[0;32m    134\u001b[0m                 operation.client._process_response(\n\u001b[0;32m    135\u001b[0m                     first, operation.session)\n\u001b[1;32m--> 136\u001b[1;33m                 \u001b[0m_check_command_response\u001b[0m\u001b[1;33m(\u001b[0m\u001b[0mfirst\u001b[0m\u001b[1;33m)\u001b[0m\u001b[1;33m\u001b[0m\u001b[1;33m\u001b[0m\u001b[0m\n\u001b[0m\u001b[0;32m    137\u001b[0m         \u001b[1;32mexcept\u001b[0m \u001b[0mException\u001b[0m \u001b[1;32mas\u001b[0m \u001b[0mexc\u001b[0m\u001b[1;33m:\u001b[0m\u001b[1;33m\u001b[0m\u001b[1;33m\u001b[0m\u001b[0m\n\u001b[0;32m    138\u001b[0m             \u001b[1;32mif\u001b[0m \u001b[0mpublish\u001b[0m\u001b[1;33m:\u001b[0m\u001b[1;33m\u001b[0m\u001b[1;33m\u001b[0m\u001b[0m\n",
      "\u001b[1;32m~\\anaconda3\\lib\\site-packages\\pymongo\\helpers.py\u001b[0m in \u001b[0;36m_check_command_response\u001b[1;34m(response, msg, allowable_errors, parse_write_concern_error)\u001b[0m\n\u001b[0;32m    154\u001b[0m                 \u001b[1;32mraise\u001b[0m \u001b[0mExecutionTimeout\u001b[0m\u001b[1;33m(\u001b[0m\u001b[0merrmsg\u001b[0m\u001b[1;33m,\u001b[0m \u001b[0mcode\u001b[0m\u001b[1;33m,\u001b[0m \u001b[0mresponse\u001b[0m\u001b[1;33m)\u001b[0m\u001b[1;33m\u001b[0m\u001b[1;33m\u001b[0m\u001b[0m\n\u001b[0;32m    155\u001b[0m             \u001b[1;32melif\u001b[0m \u001b[0mcode\u001b[0m \u001b[1;33m==\u001b[0m \u001b[1;36m43\u001b[0m\u001b[1;33m:\u001b[0m\u001b[1;33m\u001b[0m\u001b[1;33m\u001b[0m\u001b[0m\n\u001b[1;32m--> 156\u001b[1;33m                 \u001b[1;32mraise\u001b[0m \u001b[0mCursorNotFound\u001b[0m\u001b[1;33m(\u001b[0m\u001b[0merrmsg\u001b[0m\u001b[1;33m,\u001b[0m \u001b[0mcode\u001b[0m\u001b[1;33m,\u001b[0m \u001b[0mresponse\u001b[0m\u001b[1;33m)\u001b[0m\u001b[1;33m\u001b[0m\u001b[1;33m\u001b[0m\u001b[0m\n\u001b[0m\u001b[0;32m    157\u001b[0m \u001b[1;33m\u001b[0m\u001b[0m\n\u001b[0;32m    158\u001b[0m             \u001b[0mmsg\u001b[0m \u001b[1;33m=\u001b[0m \u001b[0mmsg\u001b[0m \u001b[1;32mor\u001b[0m \u001b[1;34m\"%s\"\u001b[0m\u001b[1;33m\u001b[0m\u001b[1;33m\u001b[0m\u001b[0m\n",
      "\u001b[1;31mCursorNotFound\u001b[0m: cursor id 8227490069466466438 not found"
     ]
    }
   ],
   "source": [
    "def do_something(commodity):\n",
    "    pass \n",
    "def get_commodity_list(db):\n",
    "    \n",
    "    commodity_list_query= [\n",
    "        { '$match': {\n",
    "             \n",
    "            \n",
    "            \n",
    "            }\n",
    "\n",
    "        }\n",
    "    ]\n",
    "    db_conn=db.collection_volume_commodities()\n",
    "    result=list(db_conn.aggregate(commodity_list_query))  \n",
    "    return result\n",
    "\n",
    "db=Database()\n",
    "commodity_list=get_commodity_list(db)\n",
    "\n",
    "for commodity in commodity_list:\n",
    "    do_something(commodity)\n"
   ]
  },
  {
   "cell_type": "code",
   "execution_count": 40,
   "metadata": {},
   "outputs": [
    {
     "name": "stdout",
     "output_type": "stream",
     "text": [
      "[]\n"
     ]
    }
   ],
   "source": [
    "response = list(conn.aggregate(query))\n",
    "pp.pprint(response)"
   ]
  },
  {
   "cell_type": "code",
   "execution_count": null,
   "metadata": {},
   "outputs": [],
   "source": [
    "bro_df=pd.DataFrame(commodity_list)"
   ]
  },
  {
   "cell_type": "code",
   "execution_count": 42,
   "metadata": {},
   "outputs": [
    {
     "data": {
      "text/html": [
       "<div>\n",
       "<style scoped>\n",
       "    .dataframe tbody tr th:only-of-type {\n",
       "        vertical-align: middle;\n",
       "    }\n",
       "\n",
       "    .dataframe tbody tr th {\n",
       "        vertical-align: top;\n",
       "    }\n",
       "\n",
       "    .dataframe thead th {\n",
       "        text-align: right;\n",
       "    }\n",
       "</style>\n",
       "<table border=\"1\" class=\"dataframe\">\n",
       "  <thead>\n",
       "    <tr style=\"text-align: right;\">\n",
       "      <th></th>\n",
       "      <th>_id</th>\n",
       "      <th>originName</th>\n",
       "      <th>packageDesc</th>\n",
       "      <th>varietyName</th>\n",
       "      <th>packageCntSum</th>\n",
       "      <th>totalWeightSum</th>\n",
       "      <th>districtName</th>\n",
       "      <th>season</th>\n",
       "      <th>transmode</th>\n",
       "      <th>impExpFlag</th>\n",
       "      <th>commodity</th>\n",
       "      <th>organic</th>\n",
       "      <th>reportDate</th>\n",
       "      <th>checksum_sha256</th>\n",
       "      <th>crawl_date</th>\n",
       "      <th>carVanCount</th>\n",
       "      <th>pdwInd</th>\n",
       "      <th>pdwDate</th>\n",
       "      <th>envDesc</th>\n",
       "    </tr>\n",
       "  </thead>\n",
       "  <tbody>\n",
       "    <tr>\n",
       "      <th>0</th>\n",
       "      <td>5f15540c8f20cd2595f6a179</td>\n",
       "      <td>ARIZONA</td>\n",
       "      <td>1 3/4 BUCRTS &amp; 50 LB CTNS</td>\n",
       "      <td>ROUND GREEN TYPE</td>\n",
       "      <td>411.0</td>\n",
       "      <td>20565</td>\n",
       "      <td>WESTERN ARIZONA</td>\n",
       "      <td>2019</td>\n",
       "      <td>Truck</td>\n",
       "      <td>D</td>\n",
       "      <td>Cabbage</td>\n",
       "      <td>False</td>\n",
       "      <td>2020-01-01</td>\n",
       "      <td>0a37289a7ce5d06d665d4200b18f6b43c33ab0ac9618ca...</td>\n",
       "      <td>2020-07-20 01:21:32.161</td>\n",
       "      <td>NaN</td>\n",
       "      <td>NaN</td>\n",
       "      <td>NaT</td>\n",
       "      <td>NaN</td>\n",
       "    </tr>\n",
       "    <tr>\n",
       "      <th>1</th>\n",
       "      <td>5f15540c8f20cd2595f6a17a</td>\n",
       "      <td>ARIZONA</td>\n",
       "      <td>1 3/4 BUCRTS &amp; 50 LB CTNS</td>\n",
       "      <td>ROUND GREEN TYPE</td>\n",
       "      <td>208.0</td>\n",
       "      <td>10418</td>\n",
       "      <td>WESTERN ARIZONA</td>\n",
       "      <td>2019</td>\n",
       "      <td>Truck</td>\n",
       "      <td>D</td>\n",
       "      <td>Cabbage</td>\n",
       "      <td>True</td>\n",
       "      <td>2020-01-01</td>\n",
       "      <td>4251762434ff7ca59ac9d7d50ad17e29183a170e61085a...</td>\n",
       "      <td>2020-07-20 01:21:32.164</td>\n",
       "      <td>NaN</td>\n",
       "      <td>NaN</td>\n",
       "      <td>NaT</td>\n",
       "      <td>NaN</td>\n",
       "    </tr>\n",
       "    <tr>\n",
       "      <th>2</th>\n",
       "      <td>5f15540c8f20cd2595f6a17b</td>\n",
       "      <td>ARIZONA</td>\n",
       "      <td>1 3/4 BUCRTS &amp; 50 LB CTNS</td>\n",
       "      <td>RED TYPE</td>\n",
       "      <td>577.0</td>\n",
       "      <td>28860</td>\n",
       "      <td>WESTERN ARIZONA</td>\n",
       "      <td>2019</td>\n",
       "      <td>Truck</td>\n",
       "      <td>D</td>\n",
       "      <td>Cabbage</td>\n",
       "      <td>False</td>\n",
       "      <td>2020-01-01</td>\n",
       "      <td>3bf9681421fe2945b5db869d32cd4d63465c7a5272587e...</td>\n",
       "      <td>2020-07-20 01:21:32.166</td>\n",
       "      <td>NaN</td>\n",
       "      <td>NaN</td>\n",
       "      <td>NaT</td>\n",
       "      <td>NaN</td>\n",
       "    </tr>\n",
       "    <tr>\n",
       "      <th>3</th>\n",
       "      <td>5f15540c8f20cd2595f6a17c</td>\n",
       "      <td>ARIZONA</td>\n",
       "      <td>50 LB CTNS</td>\n",
       "      <td>NAPPA</td>\n",
       "      <td>12.0</td>\n",
       "      <td>614</td>\n",
       "      <td>WESTERN ARIZONA</td>\n",
       "      <td>2019</td>\n",
       "      <td>Truck</td>\n",
       "      <td>D</td>\n",
       "      <td>Chinese cabbage</td>\n",
       "      <td>False</td>\n",
       "      <td>2020-01-01</td>\n",
       "      <td>2bd08540f98f38037cfc862a11aa4d60ddb1fc65d0772a...</td>\n",
       "      <td>2020-07-20 01:21:32.168</td>\n",
       "      <td>NaN</td>\n",
       "      <td>NaN</td>\n",
       "      <td>NaT</td>\n",
       "      <td>NaN</td>\n",
       "    </tr>\n",
       "    <tr>\n",
       "      <th>4</th>\n",
       "      <td>5f15540c8f20cd2595f6a17d</td>\n",
       "      <td>ARIZONA</td>\n",
       "      <td>CTNS</td>\n",
       "      <td>NaN</td>\n",
       "      <td>15.0</td>\n",
       "      <td>376</td>\n",
       "      <td>WESTERN ARIZONA</td>\n",
       "      <td>2019</td>\n",
       "      <td>Truck</td>\n",
       "      <td>D</td>\n",
       "      <td>Endive</td>\n",
       "      <td>False</td>\n",
       "      <td>2020-01-01</td>\n",
       "      <td>c7edc43e927e7d9a09cf9cc3ba31ce55cbe3c9e607e56f...</td>\n",
       "      <td>2020-07-20 01:21:32.169</td>\n",
       "      <td>NaN</td>\n",
       "      <td>NaN</td>\n",
       "      <td>NaT</td>\n",
       "      <td>NaN</td>\n",
       "    </tr>\n",
       "  </tbody>\n",
       "</table>\n",
       "</div>"
      ],
      "text/plain": [
       "                        _id originName                packageDesc  \\\n",
       "0  5f15540c8f20cd2595f6a179    ARIZONA  1 3/4 BUCRTS & 50 LB CTNS   \n",
       "1  5f15540c8f20cd2595f6a17a    ARIZONA  1 3/4 BUCRTS & 50 LB CTNS   \n",
       "2  5f15540c8f20cd2595f6a17b    ARIZONA  1 3/4 BUCRTS & 50 LB CTNS   \n",
       "3  5f15540c8f20cd2595f6a17c    ARIZONA                 50 LB CTNS   \n",
       "4  5f15540c8f20cd2595f6a17d    ARIZONA                       CTNS   \n",
       "\n",
       "        varietyName  packageCntSum  totalWeightSum     districtName  season  \\\n",
       "0  ROUND GREEN TYPE          411.0           20565  WESTERN ARIZONA    2019   \n",
       "1  ROUND GREEN TYPE          208.0           10418  WESTERN ARIZONA    2019   \n",
       "2          RED TYPE          577.0           28860  WESTERN ARIZONA    2019   \n",
       "3             NAPPA           12.0             614  WESTERN ARIZONA    2019   \n",
       "4               NaN           15.0             376  WESTERN ARIZONA    2019   \n",
       "\n",
       "  transmode impExpFlag        commodity  organic reportDate  \\\n",
       "0     Truck          D          Cabbage    False 2020-01-01   \n",
       "1     Truck          D          Cabbage     True 2020-01-01   \n",
       "2     Truck          D          Cabbage    False 2020-01-01   \n",
       "3     Truck          D  Chinese cabbage    False 2020-01-01   \n",
       "4     Truck          D           Endive    False 2020-01-01   \n",
       "\n",
       "                                     checksum_sha256              crawl_date  \\\n",
       "0  0a37289a7ce5d06d665d4200b18f6b43c33ab0ac9618ca... 2020-07-20 01:21:32.161   \n",
       "1  4251762434ff7ca59ac9d7d50ad17e29183a170e61085a... 2020-07-20 01:21:32.164   \n",
       "2  3bf9681421fe2945b5db869d32cd4d63465c7a5272587e... 2020-07-20 01:21:32.166   \n",
       "3  2bd08540f98f38037cfc862a11aa4d60ddb1fc65d0772a... 2020-07-20 01:21:32.168   \n",
       "4  c7edc43e927e7d9a09cf9cc3ba31ce55cbe3c9e607e56f... 2020-07-20 01:21:32.169   \n",
       "\n",
       "   carVanCount pdwInd pdwDate envDesc  \n",
       "0          NaN    NaN     NaT     NaN  \n",
       "1          NaN    NaN     NaT     NaN  \n",
       "2          NaN    NaN     NaT     NaN  \n",
       "3          NaN    NaN     NaT     NaN  \n",
       "4          NaN    NaN     NaT     NaN  "
      ]
     },
     "execution_count": 42,
     "metadata": {},
     "output_type": "execute_result"
    }
   ],
   "source": [
    "bro_df.head()"
   ]
  }
 ],
 "metadata": {
  "kernelspec": {
   "display_name": "Python 3",
   "language": "python",
   "name": "python3"
  },
  "language_info": {
   "codemirror_mode": {
    "name": "ipython",
    "version": 3
   },
   "file_extension": ".py",
   "mimetype": "text/x-python",
   "name": "python",
   "nbconvert_exporter": "python",
   "pygments_lexer": "ipython3",
   "version": "3.7.6"
  }
 },
 "nbformat": 4,
 "nbformat_minor": 4
}
