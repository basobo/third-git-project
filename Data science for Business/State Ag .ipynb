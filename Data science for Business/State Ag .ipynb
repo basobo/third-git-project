{
 "cells": [
  {
   "cell_type": "code",
   "execution_count": 23,
   "metadata": {},
   "outputs": [],
   "source": [
    "import pandas as pd \n",
    "import numpy as np\n",
    "import matplotlib.pyplot as plt\n",
    "from sklearn.preprocessing import StandardScaler, normalize\n",
    "from sklearn.cluster import KMeans\n",
    "import seaborn as sns\n",
    "from sklearn.decomposition import PCA"
   ]
  },
  {
   "cell_type": "code",
   "execution_count": 24,
   "metadata": {},
   "outputs": [],
   "source": [
    "data=pd.read_html('https://www.nass.usda.gov/Quick_Stats/Ag_Overview/stateOverview.php?state=CALIFORNIA')"
   ]
  },
  {
   "cell_type": "code",
   "execution_count": 25,
   "metadata": {},
   "outputs": [
    {
     "data": {
      "text/plain": [
       "Index(['Commodity', 'Planted All Purpose Acres', 'Harvested Acres', 'Yield',\n",
       "       'Production', 'Price per Unit', 'Value of Production in Dollars'],\n",
       "      dtype='object')"
      ]
     },
     "execution_count": 25,
     "metadata": {},
     "output_type": "execute_result"
    }
   ],
   "source": [
    "data[3].columns"
   ]
  },
  {
   "cell_type": "code",
   "execution_count": 26,
   "metadata": {},
   "outputs": [],
   "source": [
    "data_df=data[3]"
   ]
  },
  {
   "cell_type": "code",
   "execution_count": 27,
   "metadata": {},
   "outputs": [
    {
     "data": {
      "text/html": [
       "<div>\n",
       "<style scoped>\n",
       "    .dataframe tbody tr th:only-of-type {\n",
       "        vertical-align: middle;\n",
       "    }\n",
       "\n",
       "    .dataframe tbody tr th {\n",
       "        vertical-align: top;\n",
       "    }\n",
       "\n",
       "    .dataframe thead th {\n",
       "        text-align: right;\n",
       "    }\n",
       "</style>\n",
       "<table border=\"1\" class=\"dataframe\">\n",
       "  <thead>\n",
       "    <tr style=\"text-align: right;\">\n",
       "      <th></th>\n",
       "      <th>Commodity</th>\n",
       "      <th>Planted All Purpose Acres</th>\n",
       "      <th>Harvested Acres</th>\n",
       "      <th>Yield</th>\n",
       "      <th>Production</th>\n",
       "      <th>Price per Unit</th>\n",
       "      <th>Value of Production in Dollars</th>\n",
       "    </tr>\n",
       "  </thead>\n",
       "  <tbody>\n",
       "    <tr>\n",
       "      <th>count</th>\n",
       "      <td>258</td>\n",
       "      <td>98</td>\n",
       "      <td>129</td>\n",
       "      <td>131</td>\n",
       "      <td>198</td>\n",
       "      <td>194</td>\n",
       "      <td>197</td>\n",
       "    </tr>\n",
       "    <tr>\n",
       "      <th>unique</th>\n",
       "      <td>209</td>\n",
       "      <td>98</td>\n",
       "      <td>123</td>\n",
       "      <td>125</td>\n",
       "      <td>169</td>\n",
       "      <td>150</td>\n",
       "      <td>152</td>\n",
       "    </tr>\n",
       "    <tr>\n",
       "      <th>top</th>\n",
       "      <td>GARLIC</td>\n",
       "      <td>54000</td>\n",
       "      <td>7300</td>\n",
       "      <td>1.79 TONS / ACRE</td>\n",
       "      <td>(D) TONS</td>\n",
       "      <td>(D) $ / TON</td>\n",
       "      <td>(D)</td>\n",
       "    </tr>\n",
       "    <tr>\n",
       "      <th>freq</th>\n",
       "      <td>2</td>\n",
       "      <td>1</td>\n",
       "      <td>2</td>\n",
       "      <td>3</td>\n",
       "      <td>8</td>\n",
       "      <td>14</td>\n",
       "      <td>33</td>\n",
       "    </tr>\n",
       "  </tbody>\n",
       "</table>\n",
       "</div>"
      ],
      "text/plain": [
       "       Commodity Planted All Purpose Acres Harvested Acres             Yield  \\\n",
       "count        258                        98             129               131   \n",
       "unique       209                        98             123               125   \n",
       "top       GARLIC                     54000            7300  1.79 TONS / ACRE   \n",
       "freq           2                         1               2                 3   \n",
       "\n",
       "       Production Price per Unit Value of Production in Dollars  \n",
       "count         198            194                            197  \n",
       "unique        169            150                            152  \n",
       "top      (D) TONS    (D) $ / TON                            (D)  \n",
       "freq            8             14                             33  "
      ]
     },
     "execution_count": 27,
     "metadata": {},
     "output_type": "execute_result"
    }
   ],
   "source": [
    "data_df.describe()"
   ]
  },
  {
   "cell_type": "code",
   "execution_count": 28,
   "metadata": {},
   "outputs": [
    {
     "name": "stdout",
     "output_type": "stream",
     "text": [
      "<class 'pandas.core.frame.DataFrame'>\n",
      "RangeIndex: 258 entries, 0 to 257\n",
      "Data columns (total 7 columns):\n",
      " #   Column                          Non-Null Count  Dtype \n",
      "---  ------                          --------------  ----- \n",
      " 0   Commodity                       258 non-null    object\n",
      " 1   Planted All Purpose Acres       98 non-null     object\n",
      " 2   Harvested Acres                 129 non-null    object\n",
      " 3   Yield                           131 non-null    object\n",
      " 4   Production                      198 non-null    object\n",
      " 5   Price per Unit                  194 non-null    object\n",
      " 6   Value of Production in Dollars  197 non-null    object\n",
      "dtypes: object(7)\n",
      "memory usage: 14.2+ KB\n"
     ]
    }
   ],
   "source": [
    "data_df.info()"
   ]
  },
  {
   "cell_type": "code",
   "execution_count": 29,
   "metadata": {},
   "outputs": [
    {
     "data": {
      "text/plain": [
       "<matplotlib.axes._subplots.AxesSubplot at 0x22a98194e88>"
      ]
     },
     "execution_count": 29,
     "metadata": {},
     "output_type": "execute_result"
    },
    {
     "data": {
      "image/png": "[encoded data removed]",
      "text/plain": [
       "<Figure size 432x288 with 1 Axes>"
      ]
     },
     "metadata": {
      "needs_background": "light"
     },
     "output_type": "display_data"
    }
   ],
   "source": [
    "sns.heatmap(data_df.isnull(),yticklabels=False, cbar=False, cmap='Blues')"
   ]
  },
  {
   "cell_type": "code",
   "execution_count": 30,
   "metadata": {},
   "outputs": [
    {
     "data": {
      "text/plain": [
       "Commodity                           0\n",
       "Planted All Purpose Acres         160\n",
       "Harvested Acres                   129\n",
       "Yield                             127\n",
       "Production                         60\n",
       "Price per Unit                     64\n",
       "Value of Production in Dollars     61\n",
       "dtype: int64"
      ]
     },
     "execution_count": 30,
     "metadata": {},
     "output_type": "execute_result"
    }
   ],
   "source": [
    "data_df.isnull().sum()"
   ]
  },
  {
   "cell_type": "code",
   "execution_count": 34,
   "metadata": {},
   "outputs": [
    {
     "data": {
      "text/html": [
       "<div>\n",
       "<style scoped>\n",
       "    .dataframe tbody tr th:only-of-type {\n",
       "        vertical-align: middle;\n",
       "    }\n",
       "\n",
       "    .dataframe tbody tr th {\n",
       "        vertical-align: top;\n",
       "    }\n",
       "\n",
       "    .dataframe thead th {\n",
       "        text-align: right;\n",
       "    }\n",
       "</style>\n",
       "<table border=\"1\" class=\"dataframe\">\n",
       "  <thead>\n",
       "    <tr style=\"text-align: right;\">\n",
       "      <th></th>\n",
       "      <th>Commodity</th>\n",
       "      <th>Planted All Purpose Acres</th>\n",
       "      <th>Harvested Acres</th>\n",
       "      <th>Yield</th>\n",
       "      <th>Production</th>\n",
       "      <th>Price per Unit</th>\n",
       "      <th>Value of Production in Dollars</th>\n",
       "    </tr>\n",
       "  </thead>\n",
       "  <tbody>\n",
       "    <tr>\n",
       "      <th>0</th>\n",
       "      <td>ALMONDS</td>\n",
       "      <td>ALMONDS</td>\n",
       "      <td>ALMONDS</td>\n",
       "      <td>ALMONDS</td>\n",
       "      <td>ALMONDS</td>\n",
       "      <td>ALMONDS</td>\n",
       "      <td>ALMONDS</td>\n",
       "    </tr>\n",
       "    <tr>\n",
       "      <th>1</th>\n",
       "      <td>ALMONDS, UTILIZED, SHELLED</td>\n",
       "      <td>0</td>\n",
       "      <td>0</td>\n",
       "      <td>0</td>\n",
       "      <td>2,550,000,000 LB</td>\n",
       "      <td>0</td>\n",
       "      <td>6094440000</td>\n",
       "    </tr>\n",
       "    <tr>\n",
       "      <th>2</th>\n",
       "      <td>ALMONDS, UTILIZED</td>\n",
       "      <td>0</td>\n",
       "      <td>0</td>\n",
       "      <td>2,160 LB / ACRE</td>\n",
       "      <td>0</td>\n",
       "      <td>0</td>\n",
       "      <td>0</td>\n",
       "    </tr>\n",
       "    <tr>\n",
       "      <th>3</th>\n",
       "      <td>ALMONDS</td>\n",
       "      <td>0</td>\n",
       "      <td>1180000</td>\n",
       "      <td>0</td>\n",
       "      <td>0</td>\n",
       "      <td>2.43 $ / LB</td>\n",
       "      <td>0</td>\n",
       "    </tr>\n",
       "    <tr>\n",
       "      <th>4</th>\n",
       "      <td>GRAPES</td>\n",
       "      <td>GRAPES</td>\n",
       "      <td>GRAPES</td>\n",
       "      <td>GRAPES</td>\n",
       "      <td>GRAPES</td>\n",
       "      <td>GRAPES</td>\n",
       "      <td>GRAPES</td>\n",
       "    </tr>\n",
       "    <tr>\n",
       "      <th>...</th>\n",
       "      <td>...</td>\n",
       "      <td>...</td>\n",
       "      <td>...</td>\n",
       "      <td>...</td>\n",
       "      <td>...</td>\n",
       "      <td>...</td>\n",
       "      <td>...</td>\n",
       "    </tr>\n",
       "    <tr>\n",
       "      <th>253</th>\n",
       "      <td>HAYLAGE, ALFALFA</td>\n",
       "      <td>0</td>\n",
       "      <td>60000</td>\n",
       "      <td>6.4 TONS / ACRE</td>\n",
       "      <td>384,000 TONS</td>\n",
       "      <td>0</td>\n",
       "      <td>0</td>\n",
       "    </tr>\n",
       "    <tr>\n",
       "      <th>254</th>\n",
       "      <td>SUGARBEETS</td>\n",
       "      <td>SUGARBEETS</td>\n",
       "      <td>SUGARBEETS</td>\n",
       "      <td>SUGARBEETS</td>\n",
       "      <td>SUGARBEETS</td>\n",
       "      <td>SUGARBEETS</td>\n",
       "      <td>SUGARBEETS</td>\n",
       "    </tr>\n",
       "    <tr>\n",
       "      <th>255</th>\n",
       "      <td>SUGARBEETS</td>\n",
       "      <td>24500</td>\n",
       "      <td>24500</td>\n",
       "      <td>44.1 TONS / ACRE</td>\n",
       "      <td>1,080,000 TONS</td>\n",
       "      <td>0</td>\n",
       "      <td>0</td>\n",
       "    </tr>\n",
       "    <tr>\n",
       "      <th>256</th>\n",
       "      <td>CHICKPEAS</td>\n",
       "      <td>CHICKPEAS</td>\n",
       "      <td>CHICKPEAS</td>\n",
       "      <td>CHICKPEAS</td>\n",
       "      <td>CHICKPEAS</td>\n",
       "      <td>CHICKPEAS</td>\n",
       "      <td>CHICKPEAS</td>\n",
       "    </tr>\n",
       "    <tr>\n",
       "      <th>257</th>\n",
       "      <td>CHICKPEAS</td>\n",
       "      <td>13400</td>\n",
       "      <td>13200</td>\n",
       "      <td>2,690 LB / ACRE</td>\n",
       "      <td>355,000 CWT</td>\n",
       "      <td>0</td>\n",
       "      <td>0</td>\n",
       "    </tr>\n",
       "  </tbody>\n",
       "</table>\n",
       "<p>258 rows × 7 columns</p>\n",
       "</div>"
      ],
      "text/plain": [
       "                      Commodity Planted All Purpose Acres Harvested Acres  \\\n",
       "0                       ALMONDS                   ALMONDS         ALMONDS   \n",
       "1    ALMONDS, UTILIZED, SHELLED                         0               0   \n",
       "2             ALMONDS, UTILIZED                         0               0   \n",
       "3                       ALMONDS                         0         1180000   \n",
       "4                        GRAPES                    GRAPES          GRAPES   \n",
       "..                          ...                       ...             ...   \n",
       "253            HAYLAGE, ALFALFA                         0           60000   \n",
       "254                  SUGARBEETS                SUGARBEETS      SUGARBEETS   \n",
       "255                  SUGARBEETS                     24500           24500   \n",
       "256                   CHICKPEAS                 CHICKPEAS       CHICKPEAS   \n",
       "257                   CHICKPEAS                     13400           13200   \n",
       "\n",
       "                Yield        Production Price per Unit  \\\n",
       "0             ALMONDS           ALMONDS        ALMONDS   \n",
       "1                   0  2,550,000,000 LB              0   \n",
       "2     2,160 LB / ACRE                 0              0   \n",
       "3                   0                 0    2.43 $ / LB   \n",
       "4              GRAPES            GRAPES         GRAPES   \n",
       "..                ...               ...            ...   \n",
       "253   6.4 TONS / ACRE      384,000 TONS              0   \n",
       "254        SUGARBEETS        SUGARBEETS     SUGARBEETS   \n",
       "255  44.1 TONS / ACRE    1,080,000 TONS              0   \n",
       "256         CHICKPEAS         CHICKPEAS      CHICKPEAS   \n",
       "257   2,690 LB / ACRE       355,000 CWT              0   \n",
       "\n",
       "    Value of Production in Dollars  \n",
       "0                          ALMONDS  \n",
       "1                       6094440000  \n",
       "2                                0  \n",
       "3                                0  \n",
       "4                           GRAPES  \n",
       "..                             ...  \n",
       "253                              0  \n",
       "254                     SUGARBEETS  \n",
       "255                              0  \n",
       "256                      CHICKPEAS  \n",
       "257                              0  \n",
       "\n",
       "[258 rows x 7 columns]"
      ]
     },
     "execution_count": 34,
     "metadata": {},
     "output_type": "execute_result"
    }
   ],
   "source": [
    "data_df.fillna(0)\n"
   ]
  },
  {
   "cell_type": "code",
   "execution_count": 35,
   "metadata": {},
   "outputs": [
    {
     "name": "stdout",
     "output_type": "stream",
     "text": [
      "<class 'pandas.core.frame.DataFrame'>\n",
      "RangeIndex: 258 entries, 0 to 257\n",
      "Data columns (total 7 columns):\n",
      " #   Column                          Non-Null Count  Dtype \n",
      "---  ------                          --------------  ----- \n",
      " 0   Commodity                       258 non-null    object\n",
      " 1   Planted All Purpose Acres       98 non-null     object\n",
      " 2   Harvested Acres                 129 non-null    object\n",
      " 3   Yield                           131 non-null    object\n",
      " 4   Production                      198 non-null    object\n",
      " 5   Price per Unit                  194 non-null    object\n",
      " 6   Value of Production in Dollars  197 non-null    object\n",
      "dtypes: object(7)\n",
      "memory usage: 14.2+ KB\n"
     ]
    }
   ],
   "source": [
    "data_df.info()"
   ]
  },
  {
   "cell_type": "code",
   "execution_count": null,
   "metadata": {},
   "outputs": [],
   "source": []
  }
 ],
 "metadata": {
  "kernelspec": {
   "display_name": "Python 3",
   "language": "python",
   "name": "python3"
  },
  "language_info": {
   "codemirror_mode": {
    "name": "ipython",
    "version": 3
   },
   "file_extension": ".py",
   "mimetype": "text/x-python",
   "name": "python",
   "nbconvert_exporter": "python",
   "pygments_lexer": "ipython3",
   "version": "3.7.6"
  }
 },
 "nbformat": 4,
 "nbformat_minor": 4
}
