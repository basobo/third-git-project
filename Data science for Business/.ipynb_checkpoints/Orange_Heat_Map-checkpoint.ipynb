{
 "cells": [
  {
   "cell_type": "code",
   "execution_count": 2,
   "metadata": {},
   "outputs": [],
   "source": [
    "# Datasets Library\n",
    "import pprint as pp\n",
    "import sys\n",
    "import os\n",
    "import pymongo\n",
    "from pymongo import MongoClient\n",
    "from datetime import datetime\n",
    "import ast\n",
    "import pandas as pd\n"
   ]
  },
  {
   "cell_type": "code",
   "execution_count": 3,
   "metadata": {},
   "outputs": [],
   "source": [
    "# Datasets Library\n",
    "import pandas as pd\n",
    "import seaborn as sns\n",
    "import numpy as np\n",
    "%matplotlib inline"
   ]
  },
  {
   "cell_type": "code",
   "execution_count": 4,
   "metadata": {},
   "outputs": [],
   "source": [
    "# Connection to Mongodb\n",
    "class Database:\n",
    "    def __init__(self):\n",
    "        # Read credentials from environment file.\n",
    "        self.conn = MongoClient(\n",
    "            host='my.ag.tools:27222',\n",
    "            username='prod-r7',\n",
    "            password='dfs2#sw!5wn3Tdks!',\n",
    "            authSource='dbagtoolsplus'\n",
    "        )\n",
    "\n",
    "\n",
    "\n",
    "    def collection_volume_commodities(self):\n",
    "        return self.conn.dbagtoolsplus.volume_commodities"
   ]
  },
  {
   "cell_type": "code",
   "execution_count": 55,
   "metadata": {},
   "outputs": [],
   "source": [
    "# Connection to Mongodb\n",
    "def collection_volume_commodities(self):\n",
    "        return self.conn.dbagtoolsplus.volume_commodities\n",
    "db = Database()\n",
    "conn = db.collection_volume_commodities()\n",
    "\n",
    "query = [\n",
    "    {\n",
    "        '$match': {'commodity': 'Oranges', 'reportDate': datetime(2020, 7, 22)}\n",
    "    }\n",
    "]\n",
    "\n",
    "# response = list(conn.aggregate(query))\n",
    "# pp.pprint(response)"
   ]
  },
  {
   "cell_type": "code",
   "execution_count": 56,
   "metadata": {},
   "outputs": [
    {
     "name": "stdout",
     "output_type": "stream",
     "text": [
      "[{'_id': ObjectId('5f18a1cb04c6e61a674d0f3e'),\n",
      "  'checksum_sha256': '817b27568f96b109613271186bb15ba5f1cf7681c52e32bf1c113718b4ec8058',\n",
      "  'commodity': 'Oranges',\n",
      "  'crawl_date': datetime.datetime(2020, 7, 22, 13, 30, 3, 840000),\n",
      "  'districtName': 'MEXICO CROSSINGS THROUGH PHARR, TX',\n",
      "  'impExpFlag': 'I',\n",
      "  'organic': False,\n",
      "  'originName': 'MEXICO',\n",
      "  'reportDate': datetime.datetime(2020, 7, 21, 0, 0),\n",
      "  'season': 2019,\n",
      "  'totalWeightSum': 129879,\n",
      "  'transmode': 'Truck'},\n",
      " {'_id': ObjectId('5f18233a04c6e62e6182bae9'),\n",
      "  'carVanCount': 3,\n",
      "  'checksum_sha256': '1eec704eeec55030dc0fc38ce70a8cefb60b1635a96d278c8b32ea1f0fdd3972',\n",
      "  'commodity': 'Oranges',\n",
      "  'crawl_date': datetime.datetime(2020, 7, 22, 4, 30, 2, 414000),\n",
      "  'districtName': 'SAN JOAQUIN VALLEY DISTRICT',\n",
      "  'impExpFlag': 'D',\n",
      "  'organic': False,\n",
      "  'originName': 'CALIFORNIA-CENTRAL',\n",
      "  'reportDate': datetime.datetime(2020, 7, 21, 0, 0),\n",
      "  'season': 2019,\n",
      "  'totalWeightSum': 135000,\n",
      "  'transmode': 'Piggyback'}]\n"
     ]
    }
   ],
   "source": [
    "# Connection to Mongodb\n",
    "db = Database()\n",
    "conn = db.collection_volume_commodities()\n",
    "\n",
    "query = [\n",
    "    {\n",
    "        '$match': {\n",
    "            'commodity': 'Oranges', \n",
    "            'crawl_date': {'$gte': datetime(2020, 7, 22)}\n",
    "        }\n",
    "    }\n",
    "]\n",
    "\n",
    "response = list(conn.aggregate(query))\n",
    "pp.pprint(response)"
   ]
  },
  {
   "cell_type": "code",
   "execution_count": 57,
   "metadata": {},
   "outputs": [],
   "source": [
    "# Load data\n",
    "data_df=pd.DataFrame(response)"
   ]
  },
  {
   "cell_type": "code",
   "execution_count": 58,
   "metadata": {},
   "outputs": [
    {
     "data": {
      "text/html": [
       "<div>\n",
       "<style scoped>\n",
       "    .dataframe tbody tr th:only-of-type {\n",
       "        vertical-align: middle;\n",
       "    }\n",
       "\n",
       "    .dataframe tbody tr th {\n",
       "        vertical-align: top;\n",
       "    }\n",
       "\n",
       "    .dataframe thead th {\n",
       "        text-align: right;\n",
       "    }\n",
       "</style>\n",
       "<table border=\"1\" class=\"dataframe\">\n",
       "  <thead>\n",
       "    <tr style=\"text-align: right;\">\n",
       "      <th></th>\n",
       "      <th>_id</th>\n",
       "      <th>originName</th>\n",
       "      <th>totalWeightSum</th>\n",
       "      <th>districtName</th>\n",
       "      <th>season</th>\n",
       "      <th>transmode</th>\n",
       "      <th>impExpFlag</th>\n",
       "      <th>commodity</th>\n",
       "      <th>organic</th>\n",
       "      <th>reportDate</th>\n",
       "      <th>checksum_sha256</th>\n",
       "      <th>crawl_date</th>\n",
       "      <th>carVanCount</th>\n",
       "    </tr>\n",
       "  </thead>\n",
       "  <tbody>\n",
       "    <tr>\n",
       "      <th>0</th>\n",
       "      <td>5f18a1cb04c6e61a674d0f3e</td>\n",
       "      <td>MEXICO</td>\n",
       "      <td>129879</td>\n",
       "      <td>MEXICO CROSSINGS THROUGH PHARR, TX</td>\n",
       "      <td>2019</td>\n",
       "      <td>Truck</td>\n",
       "      <td>I</td>\n",
       "      <td>Oranges</td>\n",
       "      <td>False</td>\n",
       "      <td>2020-07-21</td>\n",
       "      <td>817b27568f96b109613271186bb15ba5f1cf7681c52e32...</td>\n",
       "      <td>2020-07-22 13:30:03.840</td>\n",
       "      <td>NaN</td>\n",
       "    </tr>\n",
       "    <tr>\n",
       "      <th>1</th>\n",
       "      <td>5f18233a04c6e62e6182bae9</td>\n",
       "      <td>CALIFORNIA-CENTRAL</td>\n",
       "      <td>135000</td>\n",
       "      <td>SAN JOAQUIN VALLEY DISTRICT</td>\n",
       "      <td>2019</td>\n",
       "      <td>Piggyback</td>\n",
       "      <td>D</td>\n",
       "      <td>Oranges</td>\n",
       "      <td>False</td>\n",
       "      <td>2020-07-21</td>\n",
       "      <td>1eec704eeec55030dc0fc38ce70a8cefb60b1635a96d27...</td>\n",
       "      <td>2020-07-22 04:30:02.414</td>\n",
       "      <td>3.0</td>\n",
       "    </tr>\n",
       "  </tbody>\n",
       "</table>\n",
       "</div>"
      ],
      "text/plain": [
       "                        _id          originName  totalWeightSum  \\\n",
       "0  5f18a1cb04c6e61a674d0f3e              MEXICO          129879   \n",
       "1  5f18233a04c6e62e6182bae9  CALIFORNIA-CENTRAL          135000   \n",
       "\n",
       "                         districtName  season  transmode impExpFlag commodity  \\\n",
       "0  MEXICO CROSSINGS THROUGH PHARR, TX    2019      Truck          I   Oranges   \n",
       "1         SAN JOAQUIN VALLEY DISTRICT    2019  Piggyback          D   Oranges   \n",
       "\n",
       "   organic reportDate                                    checksum_sha256  \\\n",
       "0    False 2020-07-21  817b27568f96b109613271186bb15ba5f1cf7681c52e32...   \n",
       "1    False 2020-07-21  1eec704eeec55030dc0fc38ce70a8cefb60b1635a96d27...   \n",
       "\n",
       "               crawl_date  carVanCount  \n",
       "0 2020-07-22 13:30:03.840          NaN  \n",
       "1 2020-07-22 04:30:02.414          3.0  "
      ]
     },
     "execution_count": 58,
     "metadata": {},
     "output_type": "execute_result"
    }
   ],
   "source": [
    "# Visualize dataset\n",
    "data_df.head()"
   ]
  },
  {
   "cell_type": "code",
   "execution_count": 59,
   "metadata": {},
   "outputs": [
    {
     "data": {
      "text/plain": [
       "(2, 13)"
      ]
     },
     "execution_count": 59,
     "metadata": {},
     "output_type": "execute_result"
    }
   ],
   "source": [
    "# Data shape(x=row,y=col)\n",
    "data_df.shape"
   ]
  },
  {
   "cell_type": "code",
   "execution_count": 60,
   "metadata": {},
   "outputs": [
    {
     "name": "stdout",
     "output_type": "stream",
     "text": [
      "<class 'pandas.core.frame.DataFrame'>\n",
      "RangeIndex: 2 entries, 0 to 1\n",
      "Data columns (total 13 columns):\n",
      " #   Column           Non-Null Count  Dtype         \n",
      "---  ------           --------------  -----         \n",
      " 0   _id              2 non-null      object        \n",
      " 1   originName       2 non-null      object        \n",
      " 2   totalWeightSum   2 non-null      int64         \n",
      " 3   districtName     2 non-null      object        \n",
      " 4   season           2 non-null      int64         \n",
      " 5   transmode        2 non-null      object        \n",
      " 6   impExpFlag       2 non-null      object        \n",
      " 7   commodity        2 non-null      object        \n",
      " 8   organic          2 non-null      bool          \n",
      " 9   reportDate       2 non-null      datetime64[ns]\n",
      " 10  checksum_sha256  2 non-null      object        \n",
      " 11  crawl_date       2 non-null      datetime64[ns]\n",
      " 12  carVanCount      1 non-null      float64       \n",
      "dtypes: bool(1), datetime64[ns](2), float64(1), int64(2), object(7)\n",
      "memory usage: 322.0+ bytes\n"
     ]
    }
   ],
   "source": [
    "# 1160 entries with 18 columns\n",
    "data_df.info()"
   ]
  },
  {
   "cell_type": "code",
   "execution_count": null,
   "metadata": {},
   "outputs": [],
   "source": []
  },
  {
   "cell_type": "code",
   "execution_count": 61,
   "metadata": {},
   "outputs": [
    {
     "data": {
      "text/html": [
       "<div>\n",
       "<style scoped>\n",
       "    .dataframe tbody tr th:only-of-type {\n",
       "        vertical-align: middle;\n",
       "    }\n",
       "\n",
       "    .dataframe tbody tr th {\n",
       "        vertical-align: top;\n",
       "    }\n",
       "\n",
       "    .dataframe thead th {\n",
       "        text-align: right;\n",
       "    }\n",
       "</style>\n",
       "<table border=\"1\" class=\"dataframe\">\n",
       "  <thead>\n",
       "    <tr style=\"text-align: right;\">\n",
       "      <th></th>\n",
       "      <th>_id</th>\n",
       "      <th>originName</th>\n",
       "      <th>totalWeightSum</th>\n",
       "      <th>districtName</th>\n",
       "      <th>season</th>\n",
       "      <th>transmode</th>\n",
       "      <th>impExpFlag</th>\n",
       "      <th>commodity</th>\n",
       "      <th>organic</th>\n",
       "      <th>reportDate</th>\n",
       "      <th>checksum_sha256</th>\n",
       "      <th>crawl_date</th>\n",
       "      <th>carVanCount</th>\n",
       "    </tr>\n",
       "  </thead>\n",
       "  <tbody>\n",
       "    <tr>\n",
       "      <th>0</th>\n",
       "      <td>5f18a1cb04c6e61a674d0f3e</td>\n",
       "      <td>MEXICO</td>\n",
       "      <td>129879</td>\n",
       "      <td>MEXICO CROSSINGS THROUGH PHARR, TX</td>\n",
       "      <td>2019</td>\n",
       "      <td>Truck</td>\n",
       "      <td>I</td>\n",
       "      <td>Oranges</td>\n",
       "      <td>False</td>\n",
       "      <td>2020-07-21</td>\n",
       "      <td>817b27568f96b109613271186bb15ba5f1cf7681c52e32...</td>\n",
       "      <td>2020-07-22 13:30:03.840</td>\n",
       "      <td>3.0</td>\n",
       "    </tr>\n",
       "  </tbody>\n",
       "</table>\n",
       "</div>"
      ],
      "text/plain": [
       "                        _id originName  totalWeightSum  \\\n",
       "0  5f18a1cb04c6e61a674d0f3e     MEXICO          129879   \n",
       "\n",
       "                         districtName  season transmode impExpFlag commodity  \\\n",
       "0  MEXICO CROSSINGS THROUGH PHARR, TX    2019     Truck          I   Oranges   \n",
       "\n",
       "   organic reportDate                                    checksum_sha256  \\\n",
       "0    False 2020-07-21  817b27568f96b109613271186bb15ba5f1cf7681c52e32...   \n",
       "\n",
       "               crawl_date  carVanCount  \n",
       "0 2020-07-22 13:30:03.840          3.0  "
      ]
     },
     "execution_count": 61,
     "metadata": {},
     "output_type": "execute_result"
    }
   ],
   "source": [
    "# Fill up missing data with average- mean\n",
    "data_df.fillna(data_df.mean()).head(1)"
   ]
  },
  {
   "cell_type": "code",
   "execution_count": 62,
   "metadata": {},
   "outputs": [
    {
     "data": {
      "text/plain": [
       "<matplotlib.axes._subplots.AxesSubplot at 0x20366a2ac48>"
      ]
     },
     "execution_count": 62,
     "metadata": {},
     "output_type": "execute_result"
    },
    {
     "data": {
      "image/png": "[encoded data removed]",
      "text/plain": [
       "<Figure size 432x288 with 1 Axes>"
      ]
     },
     "metadata": {
      "needs_background": "light"
     },
     "output_type": "display_data"
    }
   ],
   "source": [
    "# Verify missing data in heatmap\n",
    "sns.heatmap(data_df.isnull(), yticklabels=False, cbar=False, cmap='Blues')"
   ]
  },
  {
   "cell_type": "code",
   "execution_count": 63,
   "metadata": {},
   "outputs": [
    {
     "data": {
      "text/plain": [
       "_id                0\n",
       "originName         0\n",
       "totalWeightSum     0\n",
       "districtName       0\n",
       "season             0\n",
       "transmode          0\n",
       "impExpFlag         0\n",
       "commodity          0\n",
       "organic            0\n",
       "reportDate         0\n",
       "checksum_sha256    0\n",
       "crawl_date         0\n",
       "carVanCount        1\n",
       "dtype: int64"
      ]
     },
     "execution_count": 63,
     "metadata": {},
     "output_type": "execute_result"
    }
   ],
   "source": [
    "# statistics od missing data\n",
    "data_df.isnull().sum()"
   ]
  },
  {
   "cell_type": "code",
   "execution_count": 64,
   "metadata": {},
   "outputs": [],
   "source": [
    "# Fill up missing data with mean\n",
    "data_df.loc[(data_df['carVanCount'].isnull() == True), 'carVanCount'] = data_df['carVanCount'].mean()"
   ]
  },
  {
   "cell_type": "code",
   "execution_count": 66,
   "metadata": {},
   "outputs": [],
   "source": [
    "# Fill up missing data with mean\n",
    "# data_df.loc[(data_df['packageCntSum'].isnull() == True), 'packageCntSum'] = data_df['packageCntSum'].mean()"
   ]
  },
  {
   "cell_type": "code",
   "execution_count": 68,
   "metadata": {},
   "outputs": [],
   "source": [
    "# Fill up missing data with mean\n",
    "# data_df.loc[(data_df['pdwDate'].isnull() == True), 'pdwDate'] = data_df['pdwDate'].mean()"
   ]
  },
  {
   "cell_type": "code",
   "execution_count": 69,
   "metadata": {},
   "outputs": [
    {
     "data": {
      "text/plain": [
       "_id                0\n",
       "originName         0\n",
       "totalWeightSum     0\n",
       "districtName       0\n",
       "season             0\n",
       "transmode          0\n",
       "impExpFlag         0\n",
       "commodity          0\n",
       "organic            0\n",
       "reportDate         0\n",
       "checksum_sha256    0\n",
       "crawl_date         0\n",
       "carVanCount        0\n",
       "dtype: int64"
      ]
     },
     "execution_count": 69,
     "metadata": {},
     "output_type": "execute_result"
    }
   ],
   "source": [
    "# Verification stats missing data\n",
    "data_df.isnull().sum()"
   ]
  },
  {
   "cell_type": "code",
   "execution_count": 70,
   "metadata": {},
   "outputs": [
    {
     "data": {
      "text/plain": [
       "<matplotlib.axes._subplots.AxesSubplot at 0x20366858b08>"
      ]
     },
     "execution_count": 70,
     "metadata": {},
     "output_type": "execute_result"
    },
    {
     "data": {
      "image/png": "[encoded data removed]",
      "text/plain": [
       "<Figure size 432x288 with 1 Axes>"
      ]
     },
     "metadata": {
      "needs_background": "light"
     },
     "output_type": "display_data"
    }
   ],
   "source": [
    "# Visualize missing in heatmap\n",
    "sns.heatmap(data_df.isnull(), yticklabels=False, cbar=False, cmap='Blues')"
   ]
  },
  {
   "cell_type": "code",
   "execution_count": 71,
   "metadata": {},
   "outputs": [],
   "source": [
    "# Drop all NA \n",
    "data_df.dropna(inplace=True)"
   ]
  },
  {
   "cell_type": "code",
   "execution_count": 72,
   "metadata": {},
   "outputs": [
    {
     "data": {
      "text/html": [
       "<div>\n",
       "<style scoped>\n",
       "    .dataframe tbody tr th:only-of-type {\n",
       "        vertical-align: middle;\n",
       "    }\n",
       "\n",
       "    .dataframe tbody tr th {\n",
       "        vertical-align: top;\n",
       "    }\n",
       "\n",
       "    .dataframe thead th {\n",
       "        text-align: right;\n",
       "    }\n",
       "</style>\n",
       "<table border=\"1\" class=\"dataframe\">\n",
       "  <thead>\n",
       "    <tr style=\"text-align: right;\">\n",
       "      <th></th>\n",
       "      <th>_id</th>\n",
       "      <th>originName</th>\n",
       "      <th>totalWeightSum</th>\n",
       "      <th>districtName</th>\n",
       "      <th>season</th>\n",
       "      <th>transmode</th>\n",
       "      <th>impExpFlag</th>\n",
       "      <th>commodity</th>\n",
       "      <th>organic</th>\n",
       "      <th>reportDate</th>\n",
       "      <th>checksum_sha256</th>\n",
       "      <th>crawl_date</th>\n",
       "      <th>carVanCount</th>\n",
       "    </tr>\n",
       "  </thead>\n",
       "  <tbody>\n",
       "    <tr>\n",
       "      <th>0</th>\n",
       "      <td>5f18a1cb04c6e61a674d0f3e</td>\n",
       "      <td>MEXICO</td>\n",
       "      <td>129879</td>\n",
       "      <td>MEXICO CROSSINGS THROUGH PHARR, TX</td>\n",
       "      <td>2019</td>\n",
       "      <td>Truck</td>\n",
       "      <td>I</td>\n",
       "      <td>Oranges</td>\n",
       "      <td>False</td>\n",
       "      <td>2020-07-21</td>\n",
       "      <td>817b27568f96b109613271186bb15ba5f1cf7681c52e32...</td>\n",
       "      <td>2020-07-22 13:30:03.840</td>\n",
       "      <td>3.0</td>\n",
       "    </tr>\n",
       "  </tbody>\n",
       "</table>\n",
       "</div>"
      ],
      "text/plain": [
       "                        _id originName  totalWeightSum  \\\n",
       "0  5f18a1cb04c6e61a674d0f3e     MEXICO          129879   \n",
       "\n",
       "                         districtName  season transmode impExpFlag commodity  \\\n",
       "0  MEXICO CROSSINGS THROUGH PHARR, TX    2019     Truck          I   Oranges   \n",
       "\n",
       "   organic reportDate                                    checksum_sha256  \\\n",
       "0    False 2020-07-21  817b27568f96b109613271186bb15ba5f1cf7681c52e32...   \n",
       "\n",
       "               crawl_date  carVanCount  \n",
       "0 2020-07-22 13:30:03.840          3.0  "
      ]
     },
     "execution_count": 72,
     "metadata": {},
     "output_type": "execute_result"
    }
   ],
   "source": [
    "data_df.head(1)"
   ]
  },
  {
   "cell_type": "code",
   "execution_count": 73,
   "metadata": {},
   "outputs": [
    {
     "data": {
      "text/plain": [
       "_id                0\n",
       "originName         0\n",
       "totalWeightSum     0\n",
       "districtName       0\n",
       "season             0\n",
       "transmode          0\n",
       "impExpFlag         0\n",
       "commodity          0\n",
       "organic            0\n",
       "reportDate         0\n",
       "checksum_sha256    0\n",
       "crawl_date         0\n",
       "carVanCount        0\n",
       "dtype: int64"
      ]
     },
     "execution_count": 73,
     "metadata": {},
     "output_type": "execute_result"
    }
   ],
   "source": [
    "data_df.isnull().sum()"
   ]
  },
  {
   "cell_type": "code",
   "execution_count": 74,
   "metadata": {},
   "outputs": [
    {
     "data": {
      "text/plain": [
       "<matplotlib.axes._subplots.AxesSubplot at 0x20366a44088>"
      ]
     },
     "execution_count": 74,
     "metadata": {},
     "output_type": "execute_result"
    },
    {
     "data": {
      "image/png": "[encoded data removed]",
      "text/plain": [
       "<Figure size 432x288 with 1 Axes>"
      ]
     },
     "metadata": {
      "needs_background": "light"
     },
     "output_type": "display_data"
    }
   ],
   "source": [
    "sns.heatmap(data_df.isnull(), yticklabels=False, cbar=False, cmap='Blues')"
   ]
  },
  {
   "cell_type": "code",
   "execution_count": 75,
   "metadata": {},
   "outputs": [],
   "source": [
    "# CONVERT OBJECT TO DATE FORMAT\n",
    "data_df['start_time_datetime'] = pd.to_datetime(data_df['crawl_date'])\n",
    "data_df['start_time_day_name']=data_df.crawl_date.dt.day_name()\n",
    "data_df['start_time_hour']=data_df.start_time_datetime.dt.hour\n",
    "data_df['duration_second']=data_df.crawl_date.dt.second\n",
    "data_df['start_time_month']=data_df.crawl_date.dt.month"
   ]
  },
  {
   "cell_type": "code",
   "execution_count": 76,
   "metadata": {},
   "outputs": [
    {
     "data": {
      "text/html": [
       "<div>\n",
       "<style scoped>\n",
       "    .dataframe tbody tr th:only-of-type {\n",
       "        vertical-align: middle;\n",
       "    }\n",
       "\n",
       "    .dataframe tbody tr th {\n",
       "        vertical-align: top;\n",
       "    }\n",
       "\n",
       "    .dataframe thead th {\n",
       "        text-align: right;\n",
       "    }\n",
       "</style>\n",
       "<table border=\"1\" class=\"dataframe\">\n",
       "  <thead>\n",
       "    <tr style=\"text-align: right;\">\n",
       "      <th></th>\n",
       "      <th>totalWeightSum</th>\n",
       "      <th>season</th>\n",
       "      <th>carVanCount</th>\n",
       "      <th>start_time_hour</th>\n",
       "      <th>duration_second</th>\n",
       "      <th>start_time_month</th>\n",
       "    </tr>\n",
       "  </thead>\n",
       "  <tbody>\n",
       "    <tr>\n",
       "      <th>count</th>\n",
       "      <td>2.000000</td>\n",
       "      <td>2.0</td>\n",
       "      <td>2.0</td>\n",
       "      <td>2.000000</td>\n",
       "      <td>2.000000</td>\n",
       "      <td>2.0</td>\n",
       "    </tr>\n",
       "    <tr>\n",
       "      <th>mean</th>\n",
       "      <td>132439.500000</td>\n",
       "      <td>2019.0</td>\n",
       "      <td>3.0</td>\n",
       "      <td>8.500000</td>\n",
       "      <td>2.500000</td>\n",
       "      <td>7.0</td>\n",
       "    </tr>\n",
       "    <tr>\n",
       "      <th>std</th>\n",
       "      <td>3621.093826</td>\n",
       "      <td>0.0</td>\n",
       "      <td>0.0</td>\n",
       "      <td>6.363961</td>\n",
       "      <td>0.707107</td>\n",
       "      <td>0.0</td>\n",
       "    </tr>\n",
       "    <tr>\n",
       "      <th>min</th>\n",
       "      <td>129879.000000</td>\n",
       "      <td>2019.0</td>\n",
       "      <td>3.0</td>\n",
       "      <td>4.000000</td>\n",
       "      <td>2.000000</td>\n",
       "      <td>7.0</td>\n",
       "    </tr>\n",
       "    <tr>\n",
       "      <th>25%</th>\n",
       "      <td>131159.250000</td>\n",
       "      <td>2019.0</td>\n",
       "      <td>3.0</td>\n",
       "      <td>6.250000</td>\n",
       "      <td>2.250000</td>\n",
       "      <td>7.0</td>\n",
       "    </tr>\n",
       "    <tr>\n",
       "      <th>50%</th>\n",
       "      <td>132439.500000</td>\n",
       "      <td>2019.0</td>\n",
       "      <td>3.0</td>\n",
       "      <td>8.500000</td>\n",
       "      <td>2.500000</td>\n",
       "      <td>7.0</td>\n",
       "    </tr>\n",
       "    <tr>\n",
       "      <th>75%</th>\n",
       "      <td>133719.750000</td>\n",
       "      <td>2019.0</td>\n",
       "      <td>3.0</td>\n",
       "      <td>10.750000</td>\n",
       "      <td>2.750000</td>\n",
       "      <td>7.0</td>\n",
       "    </tr>\n",
       "    <tr>\n",
       "      <th>max</th>\n",
       "      <td>135000.000000</td>\n",
       "      <td>2019.0</td>\n",
       "      <td>3.0</td>\n",
       "      <td>13.000000</td>\n",
       "      <td>3.000000</td>\n",
       "      <td>7.0</td>\n",
       "    </tr>\n",
       "  </tbody>\n",
       "</table>\n",
       "</div>"
      ],
      "text/plain": [
       "       totalWeightSum  season  carVanCount  start_time_hour  duration_second  \\\n",
       "count        2.000000     2.0          2.0         2.000000         2.000000   \n",
       "mean    132439.500000  2019.0          3.0         8.500000         2.500000   \n",
       "std       3621.093826     0.0          0.0         6.363961         0.707107   \n",
       "min     129879.000000  2019.0          3.0         4.000000         2.000000   \n",
       "25%     131159.250000  2019.0          3.0         6.250000         2.250000   \n",
       "50%     132439.500000  2019.0          3.0         8.500000         2.500000   \n",
       "75%     133719.750000  2019.0          3.0        10.750000         2.750000   \n",
       "max     135000.000000  2019.0          3.0        13.000000         3.000000   \n",
       "\n",
       "       start_time_month  \n",
       "count               2.0  \n",
       "mean                7.0  \n",
       "std                 0.0  \n",
       "min                 7.0  \n",
       "25%                 7.0  \n",
       "50%                 7.0  \n",
       "75%                 7.0  \n",
       "max                 7.0  "
      ]
     },
     "execution_count": 76,
     "metadata": {},
     "output_type": "execute_result"
    }
   ],
   "source": [
    "# Statistic\n",
    "data_df.describe()"
   ]
  },
  {
   "cell_type": "code",
   "execution_count": 77,
   "metadata": {},
   "outputs": [],
   "source": [
    "data_stat=data_df[['totalWeightSum','start_time_hour','duration_second','start_time_month']]"
   ]
  },
  {
   "cell_type": "code",
   "execution_count": 78,
   "metadata": {},
   "outputs": [
    {
     "data": {
      "text/html": [
       "<div>\n",
       "<style scoped>\n",
       "    .dataframe tbody tr th:only-of-type {\n",
       "        vertical-align: middle;\n",
       "    }\n",
       "\n",
       "    .dataframe tbody tr th {\n",
       "        vertical-align: top;\n",
       "    }\n",
       "\n",
       "    .dataframe thead th {\n",
       "        text-align: right;\n",
       "    }\n",
       "</style>\n",
       "<table border=\"1\" class=\"dataframe\">\n",
       "  <thead>\n",
       "    <tr style=\"text-align: right;\">\n",
       "      <th></th>\n",
       "      <th>totalWeightSum</th>\n",
       "      <th>start_time_hour</th>\n",
       "      <th>duration_second</th>\n",
       "      <th>start_time_month</th>\n",
       "    </tr>\n",
       "  </thead>\n",
       "  <tbody>\n",
       "    <tr>\n",
       "      <th>0</th>\n",
       "      <td>129879</td>\n",
       "      <td>13</td>\n",
       "      <td>3</td>\n",
       "      <td>7</td>\n",
       "    </tr>\n",
       "    <tr>\n",
       "      <th>1</th>\n",
       "      <td>135000</td>\n",
       "      <td>4</td>\n",
       "      <td>2</td>\n",
       "      <td>7</td>\n",
       "    </tr>\n",
       "  </tbody>\n",
       "</table>\n",
       "</div>"
      ],
      "text/plain": [
       "   totalWeightSum  start_time_hour  duration_second  start_time_month\n",
       "0          129879               13                3                 7\n",
       "1          135000                4                2                 7"
      ]
     },
     "execution_count": 78,
     "metadata": {},
     "output_type": "execute_result"
    }
   ],
   "source": [
    "data_stat"
   ]
  },
  {
   "cell_type": "code",
   "execution_count": 79,
   "metadata": {},
   "outputs": [],
   "source": [
    "# Correlaction- Association- Relatio\n",
    "corr=data_stat.corr()"
   ]
  },
  {
   "cell_type": "code",
   "execution_count": 80,
   "metadata": {},
   "outputs": [
    {
     "data": {
      "text/html": [
       "<div>\n",
       "<style scoped>\n",
       "    .dataframe tbody tr th:only-of-type {\n",
       "        vertical-align: middle;\n",
       "    }\n",
       "\n",
       "    .dataframe tbody tr th {\n",
       "        vertical-align: top;\n",
       "    }\n",
       "\n",
       "    .dataframe thead th {\n",
       "        text-align: right;\n",
       "    }\n",
       "</style>\n",
       "<table border=\"1\" class=\"dataframe\">\n",
       "  <thead>\n",
       "    <tr style=\"text-align: right;\">\n",
       "      <th></th>\n",
       "      <th>totalWeightSum</th>\n",
       "      <th>start_time_hour</th>\n",
       "      <th>duration_second</th>\n",
       "      <th>start_time_month</th>\n",
       "    </tr>\n",
       "  </thead>\n",
       "  <tbody>\n",
       "    <tr>\n",
       "      <th>totalWeightSum</th>\n",
       "      <td>1.0</td>\n",
       "      <td>-1.0</td>\n",
       "      <td>-1.0</td>\n",
       "      <td>NaN</td>\n",
       "    </tr>\n",
       "    <tr>\n",
       "      <th>start_time_hour</th>\n",
       "      <td>-1.0</td>\n",
       "      <td>1.0</td>\n",
       "      <td>1.0</td>\n",
       "      <td>NaN</td>\n",
       "    </tr>\n",
       "    <tr>\n",
       "      <th>duration_second</th>\n",
       "      <td>-1.0</td>\n",
       "      <td>1.0</td>\n",
       "      <td>1.0</td>\n",
       "      <td>NaN</td>\n",
       "    </tr>\n",
       "    <tr>\n",
       "      <th>start_time_month</th>\n",
       "      <td>NaN</td>\n",
       "      <td>NaN</td>\n",
       "      <td>NaN</td>\n",
       "      <td>NaN</td>\n",
       "    </tr>\n",
       "  </tbody>\n",
       "</table>\n",
       "</div>"
      ],
      "text/plain": [
       "                  totalWeightSum  start_time_hour  duration_second  \\\n",
       "totalWeightSum               1.0             -1.0             -1.0   \n",
       "start_time_hour             -1.0              1.0              1.0   \n",
       "duration_second             -1.0              1.0              1.0   \n",
       "start_time_month             NaN              NaN              NaN   \n",
       "\n",
       "                  start_time_month  \n",
       "totalWeightSum                 NaN  \n",
       "start_time_hour                NaN  \n",
       "duration_second                NaN  \n",
       "start_time_month               NaN  "
      ]
     },
     "execution_count": 80,
     "metadata": {},
     "output_type": "execute_result"
    }
   ],
   "source": [
    "corr"
   ]
  },
  {
   "cell_type": "code",
   "execution_count": 81,
   "metadata": {},
   "outputs": [
    {
     "data": {
      "text/plain": [
       "<matplotlib.axes._subplots.AxesSubplot at 0x20366a7c2c8>"
      ]
     },
     "execution_count": 81,
     "metadata": {},
     "output_type": "execute_result"
    },
    {
     "data": {
      "image/png": "[encoded data removed]",
      "text/plain": [
       "<Figure size 432x288 with 1 Axes>"
      ]
     },
     "metadata": {
      "needs_background": "light"
     },
     "output_type": "display_data"
    }
   ],
   "source": [
    "data_df['totalWeightSum'].plot.hist(bins=5)"
   ]
  },
  {
   "cell_type": "code",
   "execution_count": 82,
   "metadata": {},
   "outputs": [
    {
     "data": {
      "text/plain": [
       "start_time_hour    -1.0\n",
       "duration_second    -1.0\n",
       "totalWeightSum      1.0\n",
       "season              NaN\n",
       "organic             NaN\n",
       "carVanCount         NaN\n",
       "start_time_month    NaN\n",
       "Name: totalWeightSum, dtype: float64"
      ]
     },
     "execution_count": 82,
     "metadata": {},
     "output_type": "execute_result"
    }
   ],
   "source": [
    "data_df.corr().loc['totalWeightSum',:].sort_values(ascending=True)"
   ]
  },
  {
   "cell_type": "code",
   "execution_count": 83,
   "metadata": {},
   "outputs": [],
   "source": [
    "import matplotlib.pyplot as plt"
   ]
  },
  {
   "cell_type": "code",
   "execution_count": 84,
   "metadata": {},
   "outputs": [
    {
     "data": {
      "text/plain": [
       "<matplotlib.axes._subplots.AxesSubplot at 0x20366b0b5c8>"
      ]
     },
     "execution_count": 84,
     "metadata": {},
     "output_type": "execute_result"
    },
    {
     "data": {
      "image/png": "[encoded data removed]",
      "text/plain": [
       "<Figure size 720x720 with 2 Axes>"
      ]
     },
     "metadata": {
      "needs_background": "light"
     },
     "output_type": "display_data"
    }
   ],
   "source": [
    "f,ax=plt.subplots(figsize=(10,10))\n",
    "sns.heatmap(corr,annot=True)"
   ]
  },
  {
   "cell_type": "code",
   "execution_count": 95,
   "metadata": {},
   "outputs": [],
   "source": [
    "phase_1=data_df.groupby(['start_time_month','start_time_hour']).count()"
   ]
  },
  {
   "cell_type": "code",
   "execution_count": 96,
   "metadata": {},
   "outputs": [
    {
     "data": {
      "text/html": [
       "<div>\n",
       "<style scoped>\n",
       "    .dataframe tbody tr th:only-of-type {\n",
       "        vertical-align: middle;\n",
       "    }\n",
       "\n",
       "    .dataframe tbody tr th {\n",
       "        vertical-align: top;\n",
       "    }\n",
       "\n",
       "    .dataframe thead th {\n",
       "        text-align: right;\n",
       "    }\n",
       "</style>\n",
       "<table border=\"1\" class=\"dataframe\">\n",
       "  <thead>\n",
       "    <tr style=\"text-align: right;\">\n",
       "      <th></th>\n",
       "      <th></th>\n",
       "      <th>_id</th>\n",
       "      <th>originName</th>\n",
       "      <th>totalWeightSum</th>\n",
       "      <th>districtName</th>\n",
       "      <th>season</th>\n",
       "      <th>transmode</th>\n",
       "      <th>impExpFlag</th>\n",
       "      <th>commodity</th>\n",
       "      <th>organic</th>\n",
       "      <th>reportDate</th>\n",
       "      <th>checksum_sha256</th>\n",
       "      <th>crawl_date</th>\n",
       "      <th>carVanCount</th>\n",
       "      <th>start_time_datetime</th>\n",
       "      <th>start_time_day_name</th>\n",
       "      <th>duration_second</th>\n",
       "    </tr>\n",
       "    <tr>\n",
       "      <th>start_time_month</th>\n",
       "      <th>start_time_hour</th>\n",
       "      <th></th>\n",
       "      <th></th>\n",
       "      <th></th>\n",
       "      <th></th>\n",
       "      <th></th>\n",
       "      <th></th>\n",
       "      <th></th>\n",
       "      <th></th>\n",
       "      <th></th>\n",
       "      <th></th>\n",
       "      <th></th>\n",
       "      <th></th>\n",
       "      <th></th>\n",
       "      <th></th>\n",
       "      <th></th>\n",
       "      <th></th>\n",
       "    </tr>\n",
       "  </thead>\n",
       "  <tbody>\n",
       "    <tr>\n",
       "      <th rowspan=\"2\" valign=\"top\">7</th>\n",
       "      <th>4</th>\n",
       "      <td>1</td>\n",
       "      <td>1</td>\n",
       "      <td>1</td>\n",
       "      <td>1</td>\n",
       "      <td>1</td>\n",
       "      <td>1</td>\n",
       "      <td>1</td>\n",
       "      <td>1</td>\n",
       "      <td>1</td>\n",
       "      <td>1</td>\n",
       "      <td>1</td>\n",
       "      <td>1</td>\n",
       "      <td>1</td>\n",
       "      <td>1</td>\n",
       "      <td>1</td>\n",
       "      <td>1</td>\n",
       "    </tr>\n",
       "    <tr>\n",
       "      <th>13</th>\n",
       "      <td>1</td>\n",
       "      <td>1</td>\n",
       "      <td>1</td>\n",
       "      <td>1</td>\n",
       "      <td>1</td>\n",
       "      <td>1</td>\n",
       "      <td>1</td>\n",
       "      <td>1</td>\n",
       "      <td>1</td>\n",
       "      <td>1</td>\n",
       "      <td>1</td>\n",
       "      <td>1</td>\n",
       "      <td>1</td>\n",
       "      <td>1</td>\n",
       "      <td>1</td>\n",
       "      <td>1</td>\n",
       "    </tr>\n",
       "  </tbody>\n",
       "</table>\n",
       "</div>"
      ],
      "text/plain": [
       "                                  _id  originName  totalWeightSum  \\\n",
       "start_time_month start_time_hour                                    \n",
       "7                4                  1           1               1   \n",
       "                 13                 1           1               1   \n",
       "\n",
       "                                  districtName  season  transmode  impExpFlag  \\\n",
       "start_time_month start_time_hour                                                \n",
       "7                4                           1       1          1           1   \n",
       "                 13                          1       1          1           1   \n",
       "\n",
       "                                  commodity  organic  reportDate  \\\n",
       "start_time_month start_time_hour                                   \n",
       "7                4                        1        1           1   \n",
       "                 13                       1        1           1   \n",
       "\n",
       "                                  checksum_sha256  crawl_date  carVanCount  \\\n",
       "start_time_month start_time_hour                                             \n",
       "7                4                              1           1            1   \n",
       "                 13                             1           1            1   \n",
       "\n",
       "                                  start_time_datetime  start_time_day_name  \\\n",
       "start_time_month start_time_hour                                             \n",
       "7                4                                  1                    1   \n",
       "                 13                                 1                    1   \n",
       "\n",
       "                                  duration_second  \n",
       "start_time_month start_time_hour                   \n",
       "7                4                              1  \n",
       "                 13                             1  "
      ]
     },
     "execution_count": 96,
     "metadata": {},
     "output_type": "execute_result"
    }
   ],
   "source": [
    "phase_1.head(10)"
   ]
  },
  {
   "cell_type": "code",
   "execution_count": 97,
   "metadata": {},
   "outputs": [
    {
     "data": {
      "text/html": [
       "<div>\n",
       "<style scoped>\n",
       "    .dataframe tbody tr th:only-of-type {\n",
       "        vertical-align: middle;\n",
       "    }\n",
       "\n",
       "    .dataframe tbody tr th {\n",
       "        vertical-align: top;\n",
       "    }\n",
       "\n",
       "    .dataframe thead th {\n",
       "        text-align: right;\n",
       "    }\n",
       "</style>\n",
       "<table border=\"1\" class=\"dataframe\">\n",
       "  <thead>\n",
       "    <tr style=\"text-align: right;\">\n",
       "      <th></th>\n",
       "      <th>start_time_month</th>\n",
       "      <th>start_time_hour</th>\n",
       "      <th>_id</th>\n",
       "      <th>originName</th>\n",
       "      <th>totalWeightSum</th>\n",
       "      <th>districtName</th>\n",
       "      <th>season</th>\n",
       "      <th>transmode</th>\n",
       "      <th>impExpFlag</th>\n",
       "      <th>commodity</th>\n",
       "      <th>organic</th>\n",
       "      <th>reportDate</th>\n",
       "      <th>checksum_sha256</th>\n",
       "      <th>crawl_date</th>\n",
       "      <th>carVanCount</th>\n",
       "      <th>start_time_datetime</th>\n",
       "      <th>start_time_day_name</th>\n",
       "      <th>duration_second</th>\n",
       "    </tr>\n",
       "  </thead>\n",
       "  <tbody>\n",
       "    <tr>\n",
       "      <th>0</th>\n",
       "      <td>7</td>\n",
       "      <td>4</td>\n",
       "      <td>1</td>\n",
       "      <td>1</td>\n",
       "      <td>1</td>\n",
       "      <td>1</td>\n",
       "      <td>1</td>\n",
       "      <td>1</td>\n",
       "      <td>1</td>\n",
       "      <td>1</td>\n",
       "      <td>1</td>\n",
       "      <td>1</td>\n",
       "      <td>1</td>\n",
       "      <td>1</td>\n",
       "      <td>1</td>\n",
       "      <td>1</td>\n",
       "      <td>1</td>\n",
       "      <td>1</td>\n",
       "    </tr>\n",
       "    <tr>\n",
       "      <th>1</th>\n",
       "      <td>7</td>\n",
       "      <td>13</td>\n",
       "      <td>1</td>\n",
       "      <td>1</td>\n",
       "      <td>1</td>\n",
       "      <td>1</td>\n",
       "      <td>1</td>\n",
       "      <td>1</td>\n",
       "      <td>1</td>\n",
       "      <td>1</td>\n",
       "      <td>1</td>\n",
       "      <td>1</td>\n",
       "      <td>1</td>\n",
       "      <td>1</td>\n",
       "      <td>1</td>\n",
       "      <td>1</td>\n",
       "      <td>1</td>\n",
       "      <td>1</td>\n",
       "    </tr>\n",
       "  </tbody>\n",
       "</table>\n",
       "</div>"
      ],
      "text/plain": [
       "   start_time_month  start_time_hour  _id  originName  totalWeightSum  \\\n",
       "0                 7                4    1           1               1   \n",
       "1                 7               13    1           1               1   \n",
       "\n",
       "   districtName  season  transmode  impExpFlag  commodity  organic  \\\n",
       "0             1       1          1           1          1        1   \n",
       "1             1       1          1           1          1        1   \n",
       "\n",
       "   reportDate  checksum_sha256  crawl_date  carVanCount  start_time_datetime  \\\n",
       "0           1                1           1            1                    1   \n",
       "1           1                1           1            1                    1   \n",
       "\n",
       "   start_time_day_name  duration_second  \n",
       "0                    1                1  \n",
       "1                    1                1  "
      ]
     },
     "execution_count": 97,
     "metadata": {},
     "output_type": "execute_result"
    }
   ],
   "source": [
    "phase_1=phase_1.reset_index()\n",
    "phase_1.head()"
   ]
  },
  {
   "cell_type": "code",
   "execution_count": 98,
   "metadata": {},
   "outputs": [
    {
     "data": {
      "text/html": [
       "<div>\n",
       "<style scoped>\n",
       "    .dataframe tbody tr th:only-of-type {\n",
       "        vertical-align: middle;\n",
       "    }\n",
       "\n",
       "    .dataframe tbody tr th {\n",
       "        vertical-align: top;\n",
       "    }\n",
       "\n",
       "    .dataframe thead th {\n",
       "        text-align: right;\n",
       "    }\n",
       "</style>\n",
       "<table border=\"1\" class=\"dataframe\">\n",
       "  <thead>\n",
       "    <tr style=\"text-align: right;\">\n",
       "      <th>start_time_hour</th>\n",
       "      <th>4</th>\n",
       "      <th>13</th>\n",
       "    </tr>\n",
       "    <tr>\n",
       "      <th>start_time_month</th>\n",
       "      <th></th>\n",
       "      <th></th>\n",
       "    </tr>\n",
       "  </thead>\n",
       "  <tbody>\n",
       "    <tr>\n",
       "      <th>7</th>\n",
       "      <td>1</td>\n",
       "      <td>1</td>\n",
       "    </tr>\n",
       "  </tbody>\n",
       "</table>\n",
       "</div>"
      ],
      "text/plain": [
       "start_time_hour   4   13\n",
       "start_time_month        \n",
       "7                  1   1"
      ]
     },
     "execution_count": 98,
     "metadata": {},
     "output_type": "execute_result"
    }
   ],
   "source": [
    "phase_1.pivot('start_time_month','start_time_hour','totalWeightSum').head()"
   ]
  },
  {
   "cell_type": "code",
   "execution_count": 99,
   "metadata": {},
   "outputs": [
    {
     "data": {
      "text/plain": [
       "<matplotlib.axes._subplots.AxesSubplot at 0x20366d49f08>"
      ]
     },
     "execution_count": 99,
     "metadata": {},
     "output_type": "execute_result"
    },
    {
     "data": {
      "image/png": "[encoded data removed]",
      "text/plain": [
       "<Figure size 720x720 with 2 Axes>"
      ]
     },
     "metadata": {
      "needs_background": "light"
     },
     "output_type": "display_data"
    }
   ],
   "source": [
    "plt.figure(figsize=(10,10))\n",
    "pivot_table=phase_1.pivot('start_time_month','start_time_hour','totalWeightSum')\n",
    "plt.xlabel('start_time_hour', size=15)\n",
    "plt.ylabel('start_time_month', size=15)\n",
    "plt.title('total weight per hour and second', size=15)\n",
    "sns.heatmap(pivot_table, annot=True, fmt='.1f', linewidths=1, square=True, cmap='summer')"
   ]
  },
  {
   "cell_type": "code",
   "execution_count": 100,
   "metadata": {},
   "outputs": [],
   "source": [
    "df1=data_df[['commodity','totalWeightSum','start_time_hour','duration_second']]"
   ]
  },
  {
   "cell_type": "code",
   "execution_count": 101,
   "metadata": {},
   "outputs": [
    {
     "data": {
      "text/html": [
       "<div>\n",
       "<style scoped>\n",
       "    .dataframe tbody tr th:only-of-type {\n",
       "        vertical-align: middle;\n",
       "    }\n",
       "\n",
       "    .dataframe tbody tr th {\n",
       "        vertical-align: top;\n",
       "    }\n",
       "\n",
       "    .dataframe thead th {\n",
       "        text-align: right;\n",
       "    }\n",
       "</style>\n",
       "<table border=\"1\" class=\"dataframe\">\n",
       "  <thead>\n",
       "    <tr style=\"text-align: right;\">\n",
       "      <th></th>\n",
       "      <th>commodity</th>\n",
       "      <th>totalWeightSum</th>\n",
       "      <th>start_time_hour</th>\n",
       "      <th>duration_second</th>\n",
       "    </tr>\n",
       "  </thead>\n",
       "  <tbody>\n",
       "    <tr>\n",
       "      <th>0</th>\n",
       "      <td>Oranges</td>\n",
       "      <td>129879</td>\n",
       "      <td>13</td>\n",
       "      <td>3</td>\n",
       "    </tr>\n",
       "    <tr>\n",
       "      <th>1</th>\n",
       "      <td>Oranges</td>\n",
       "      <td>135000</td>\n",
       "      <td>4</td>\n",
       "      <td>2</td>\n",
       "    </tr>\n",
       "  </tbody>\n",
       "</table>\n",
       "</div>"
      ],
      "text/plain": [
       "  commodity  totalWeightSum  start_time_hour  duration_second\n",
       "0   Oranges          129879               13                3\n",
       "1   Oranges          135000                4                2"
      ]
     },
     "execution_count": 101,
     "metadata": {},
     "output_type": "execute_result"
    }
   ],
   "source": [
    "df1.head(3)"
   ]
  },
  {
   "cell_type": "code",
   "execution_count": 102,
   "metadata": {},
   "outputs": [],
   "source": [
    "heatmap_data = pd.pivot_table(df1, values='totalWeightSum', \n",
    "                     index=['commodity'], \n",
    "                     columns=['start_time_hour'])"
   ]
  },
  {
   "cell_type": "code",
   "execution_count": 103,
   "metadata": {},
   "outputs": [
    {
     "data": {
      "text/plain": [
       "<matplotlib.axes._subplots.AxesSubplot at 0x20366f938c8>"
      ]
     },
     "execution_count": 103,
     "metadata": {},
     "output_type": "execute_result"
    },
    {
     "data": {
      "image/png": "[encoded data removed]",
      "text/plain": [
       "<Figure size 432x288 with 2 Axes>"
      ]
     },
     "metadata": {
      "needs_background": "light"
     },
     "output_type": "display_data"
    }
   ],
   "source": [
    "sns.heatmap(heatmap_data, cmap=\"YlGnBu\",fmt='.1f', linewidths=1)"
   ]
  },
  {
   "cell_type": "code",
   "execution_count": 104,
   "metadata": {},
   "outputs": [
    {
     "data": {
      "text/plain": [
       "<matplotlib.axes._subplots.AxesSubplot at 0x20366f7ee88>"
      ]
     },
     "execution_count": 104,
     "metadata": {},
     "output_type": "execute_result"
    },
    {
     "data": {
      "image/png": "[encoded data removed]",
      "text/plain": [
       "<Figure size 432x288 with 2 Axes>"
      ]
     },
     "metadata": {
      "needs_background": "light"
     },
     "output_type": "display_data"
    }
   ],
   "source": [
    "sns.heatmap(heatmap_data, vmin=0, vmax=2)"
   ]
  },
  {
   "cell_type": "code",
   "execution_count": 210,
   "metadata": {},
   "outputs": [],
   "source": [
    "data_df.to_csv('C:/Users/bruno/Desktop/Data science for Business/production_blueberries.csv')"
   ]
  },
  {
   "cell_type": "code",
   "execution_count": null,
   "metadata": {},
   "outputs": [],
   "source": []
  }
 ],
 "metadata": {
  "kernelspec": {
   "display_name": "Python 3",
   "language": "python",
   "name": "python3"
  },
  "language_info": {
   "codemirror_mode": {
    "name": "ipython",
    "version": 3
   },
   "file_extension": ".py",
   "mimetype": "text/x-python",
   "name": "python",
   "nbconvert_exporter": "python",
   "pygments_lexer": "ipython3",
   "version": "3.7.6"
  }
 },
 "nbformat": 4,
 "nbformat_minor": 4
}
