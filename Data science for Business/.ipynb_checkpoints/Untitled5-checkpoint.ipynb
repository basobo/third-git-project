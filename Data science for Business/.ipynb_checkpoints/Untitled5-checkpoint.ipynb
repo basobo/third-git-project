{
 "cells": [
  {
   "cell_type": "markdown",
   "metadata": {},
   "source": [
    "- id\n",
    "- originName\n",
    "- "
   ]
  },
  {
   "cell_type": "code",
   "execution_count": 1,
   "metadata": {},
   "outputs": [],
   "source": [
    "# IMPORT DATASETS\n",
    "import pprint as pp\n",
    "import sys\n",
    "import os\n",
    "import pymongo\n",
    "from pymongo import MongoClient\n",
    "from datetime import datetime\n",
    "import ast\n",
    "import pandas as pd"
   ]
  },
  {
   "cell_type": "code",
   "execution_count": 2,
   "metadata": {},
   "outputs": [],
   "source": [
    "import pandas as pd\n",
    "import seaborn as sns\n",
    "import numpy as np\n",
    "from matplotlib import pyplot as plt\n",
    "%matplotlib inline"
   ]
  },
  {
   "cell_type": "code",
   "execution_count": 3,
   "metadata": {},
   "outputs": [],
   "source": [
    "# Connect Dataset to Jupyter\n",
    "class Database:\n",
    "    def __init__(self):\n",
    "        # Read credentials from environment file.\n",
    "        self.conn = MongoClient(\n",
    "            host='my.ag.tools:27222',\n",
    "            username='prod-r7',\n",
    "            password='dfs2#sw!5wn3Tdks!',\n",
    "            authSource='dbagtoolsplus'\n",
    "        )\n",
    "\n",
    "\n",
    "\n",
    "    def collection_volume_commodities(self):\n",
    "        return self.conn.dbagtoolsplus.volume_commodities"
   ]
  },
  {
   "cell_type": "code",
   "execution_count": 7,
   "metadata": {},
   "outputs": [
    {
     "name": "stdout",
     "output_type": "stream",
     "text": [
      "[]\n"
     ]
    }
   ],
   "source": [
    "def collection_volume_commodities(self):\n",
    "        return self.conn.dbagtoolsplus.volume_commodities\n",
    "db = Database()\n",
    "conn = db.collection_volume_commodities()\n",
    "\n",
    "query = [\n",
    "    {\n",
    "        '$match': {'commodity': 'broccoli', 'reportDate': datetime(2020, 7, 22)}\n",
    "    }\n",
    "]\n",
    "\n",
    "response = list(conn.aggregate(query))\n",
    "pp.pprint(response)\n"
   ]
  },
  {
   "cell_type": "code",
   "execution_count": 8,
   "metadata": {},
   "outputs": [
    {
     "name": "stdout",
     "output_type": "stream",
     "text": [
      "[]\n"
     ]
    }
   ],
   "source": [
    "db = Database()\n",
    "conn = db.collection_volume_commodities()\n",
    "\n",
    "query = [\n",
    "    {\n",
    "        '$match': {\n",
    "            'commodity': 'broccoli', \n",
    "            'crawl_date': {'$gte': datetime(2020, 7, 22)}\n",
    "        }\n",
    "    }\n",
    "]\n",
    "\n",
    "response = list(conn.aggregate(query))\n",
    "pp.pprint(response)"
   ]
  },
  {
   "cell_type": "code",
   "execution_count": 6,
   "metadata": {},
   "outputs": [
    {
     "name": "stdout",
     "output_type": "stream",
     "text": [
      "[]\n"
     ]
    }
   ],
   "source": [
    "db = Database()\n",
    "conn = db.collection_volume_commodities()\n",
    "\n",
    "commodity_list_query = [\n",
    "    {\n",
    "        '$group': {\n",
    "            '_id': '$commodity'\n",
    "        }\n",
    "    },\n",
    "    {'$sort': {'_id': 1}}\n",
    "]\n",
    "\n",
    "response = list(conn.aggregate(query))\n",
    "pp.pprint(response)"
   ]
  },
  {
   "cell_type": "code",
   "execution_count": null,
   "metadata": {},
   "outputs": [],
   "source": []
  }
 ],
 "metadata": {
  "kernelspec": {
   "display_name": "Python 3",
   "language": "python",
   "name": "python3"
  },
  "language_info": {
   "codemirror_mode": {
    "name": "ipython",
    "version": 3
   },
   "file_extension": ".py",
   "mimetype": "text/x-python",
   "name": "python",
   "nbconvert_exporter": "python",
   "pygments_lexer": "ipython3",
   "version": "3.7.6"
  }
 },
 "nbformat": 4,
 "nbformat_minor": 4
}
