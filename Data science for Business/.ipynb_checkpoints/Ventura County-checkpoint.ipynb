{
 "cells": [
  {
   "cell_type": "code",
   "execution_count": 18,
   "metadata": {},
   "outputs": [],
   "source": [
    "# import library\n",
    "import numpy as np\n",
    "import pandas as pd\n",
    "import matplotlib.pyplot as plt\n",
    "from sklearn.preprocessing import StandardScaler, normalize\n",
    "from sklearn.cluster import KMeans\n",
    "import seaborn as sns\n",
    "from sklearn.decomposition import PCA"
   ]
  },
  {
   "cell_type": "code",
   "execution_count": 35,
   "metadata": {},
   "outputs": [],
   "source": [
    "# load the dataset\n",
    "ventura_df=pd.read_excel('Ventura.xlsx')"
   ]
  },
  {
   "cell_type": "code",
   "execution_count": 20,
   "metadata": {},
   "outputs": [
    {
     "data": {
      "text/html": [
       "<div>\n",
       "<style scoped>\n",
       "    .dataframe tbody tr th:only-of-type {\n",
       "        vertical-align: middle;\n",
       "    }\n",
       "\n",
       "    .dataframe tbody tr th {\n",
       "        vertical-align: top;\n",
       "    }\n",
       "\n",
       "    .dataframe thead th {\n",
       "        text-align: right;\n",
       "    }\n",
       "</style>\n",
       "<table border=\"1\" class=\"dataframe\">\n",
       "  <thead>\n",
       "    <tr style=\"text-align: right;\">\n",
       "      <th></th>\n",
       "      <th>Permit #</th>\n",
       "      <th>Permitee</th>\n",
       "      <th>Site ID</th>\n",
       "      <th>Site Location</th>\n",
       "      <th>Meridian</th>\n",
       "      <th>Township</th>\n",
       "      <th>Range</th>\n",
       "      <th>Section</th>\n",
       "      <th>Application Date</th>\n",
       "      <th>Application Time</th>\n",
       "      <th>Commodity</th>\n",
       "      <th>Planted Amount</th>\n",
       "      <th>EPA Reg No</th>\n",
       "      <th>Product Name</th>\n",
       "      <th>Quantity Used</th>\n",
       "      <th>Quantity Units</th>\n",
       "      <th>Treated Amount</th>\n",
       "      <th>Treated Units</th>\n",
       "      <th>Appl. Method</th>\n",
       "    </tr>\n",
       "  </thead>\n",
       "  <tbody>\n",
       "    <tr>\n",
       "      <th>0</th>\n",
       "      <td>56P0101</td>\n",
       "      <td>23rd AVE PROPERTIES LLC</td>\n",
       "      <td>01</td>\n",
       "      <td>1011 GRAND AVE</td>\n",
       "      <td>S</td>\n",
       "      <td>04N</td>\n",
       "      <td>23W</td>\n",
       "      <td>1.0</td>\n",
       "      <td>2015-12-18</td>\n",
       "      <td>11:08:00</td>\n",
       "      <td>LEMON</td>\n",
       "      <td>0.5</td>\n",
       "      <td>34704-1028-AA</td>\n",
       "      <td>LEAF LIFE GAVICIDE GREEN 415</td>\n",
       "      <td>0.13</td>\n",
       "      <td>Gallon</td>\n",
       "      <td>0.5</td>\n",
       "      <td>ACRES</td>\n",
       "      <td>Ground</td>\n",
       "    </tr>\n",
       "    <tr>\n",
       "      <th>1</th>\n",
       "      <td>56P0101</td>\n",
       "      <td>23rd AVE PROPERTIES LLC</td>\n",
       "      <td>01</td>\n",
       "      <td>1011 GRAND AVE</td>\n",
       "      <td>S</td>\n",
       "      <td>04N</td>\n",
       "      <td>23W</td>\n",
       "      <td>1.0</td>\n",
       "      <td>2015-12-18</td>\n",
       "      <td>11:08:00</td>\n",
       "      <td>LEMON</td>\n",
       "      <td>0.5</td>\n",
       "      <td>1021-1772-AA</td>\n",
       "      <td>PYGANIC CROP PROTECTION EC 5.0 II</td>\n",
       "      <td>0.06</td>\n",
       "      <td>Gallon</td>\n",
       "      <td>0.5</td>\n",
       "      <td>ACRES</td>\n",
       "      <td>Ground</td>\n",
       "    </tr>\n",
       "    <tr>\n",
       "      <th>2</th>\n",
       "      <td>56P0101</td>\n",
       "      <td>23rd AVE PROPERTIES LLC</td>\n",
       "      <td>01</td>\n",
       "      <td>1011 GRAND AVE</td>\n",
       "      <td>S</td>\n",
       "      <td>04N</td>\n",
       "      <td>23W</td>\n",
       "      <td>1.0</td>\n",
       "      <td>2015-12-28</td>\n",
       "      <td>08:37:00</td>\n",
       "      <td>LEMON</td>\n",
       "      <td>0.5</td>\n",
       "      <td>34704-1028-AA</td>\n",
       "      <td>LEAF LIFE GAVICIDE GREEN 415</td>\n",
       "      <td>0.13</td>\n",
       "      <td>Gallon</td>\n",
       "      <td>0.5</td>\n",
       "      <td>ACRES</td>\n",
       "      <td>Ground</td>\n",
       "    </tr>\n",
       "    <tr>\n",
       "      <th>3</th>\n",
       "      <td>56P0101</td>\n",
       "      <td>23rd AVE PROPERTIES LLC</td>\n",
       "      <td>01</td>\n",
       "      <td>1011 GRAND AVE</td>\n",
       "      <td>S</td>\n",
       "      <td>04N</td>\n",
       "      <td>23W</td>\n",
       "      <td>1.0</td>\n",
       "      <td>2015-12-28</td>\n",
       "      <td>08:37:00</td>\n",
       "      <td>LEMON</td>\n",
       "      <td>0.5</td>\n",
       "      <td>1021-1772-AA</td>\n",
       "      <td>PYGANIC CROP PROTECTION EC 5.0 II</td>\n",
       "      <td>0.06</td>\n",
       "      <td>Gallon</td>\n",
       "      <td>0.5</td>\n",
       "      <td>ACRES</td>\n",
       "      <td>Ground</td>\n",
       "    </tr>\n",
       "    <tr>\n",
       "      <th>4</th>\n",
       "      <td>56P0101</td>\n",
       "      <td>23rd AVE PROPERTIES LLC</td>\n",
       "      <td>01</td>\n",
       "      <td>1011 GRAND AVE</td>\n",
       "      <td>S</td>\n",
       "      <td>04N</td>\n",
       "      <td>23W</td>\n",
       "      <td>1.0</td>\n",
       "      <td>2015-11-30</td>\n",
       "      <td>14:30:00</td>\n",
       "      <td>LEMON</td>\n",
       "      <td>0.5</td>\n",
       "      <td>1021-1772-AA</td>\n",
       "      <td>PYGANIC CROP PROTECTION EC 5.0 II</td>\n",
       "      <td>0.06</td>\n",
       "      <td>Gallon</td>\n",
       "      <td>0.5</td>\n",
       "      <td>ACRES</td>\n",
       "      <td>Ground</td>\n",
       "    </tr>\n",
       "  </tbody>\n",
       "</table>\n",
       "</div>"
      ],
      "text/plain": [
       "  Permit #                 Permitee Site ID   Site Location Meridian Township  \\\n",
       "0  56P0101  23rd AVE PROPERTIES LLC      01  1011 GRAND AVE        S      04N   \n",
       "1  56P0101  23rd AVE PROPERTIES LLC      01  1011 GRAND AVE        S      04N   \n",
       "2  56P0101  23rd AVE PROPERTIES LLC      01  1011 GRAND AVE        S      04N   \n",
       "3  56P0101  23rd AVE PROPERTIES LLC      01  1011 GRAND AVE        S      04N   \n",
       "4  56P0101  23rd AVE PROPERTIES LLC      01  1011 GRAND AVE        S      04N   \n",
       "\n",
       "  Range  Section Application Date Application Time Commodity  Planted Amount  \\\n",
       "0   23W      1.0       2015-12-18         11:08:00     LEMON             0.5   \n",
       "1   23W      1.0       2015-12-18         11:08:00     LEMON             0.5   \n",
       "2   23W      1.0       2015-12-28         08:37:00     LEMON             0.5   \n",
       "3   23W      1.0       2015-12-28         08:37:00     LEMON             0.5   \n",
       "4   23W      1.0       2015-11-30         14:30:00     LEMON             0.5   \n",
       "\n",
       "      EPA Reg No                       Product Name  Quantity Used  \\\n",
       "0  34704-1028-AA       LEAF LIFE GAVICIDE GREEN 415           0.13   \n",
       "1   1021-1772-AA  PYGANIC CROP PROTECTION EC 5.0 II           0.06   \n",
       "2  34704-1028-AA       LEAF LIFE GAVICIDE GREEN 415           0.13   \n",
       "3   1021-1772-AA  PYGANIC CROP PROTECTION EC 5.0 II           0.06   \n",
       "4   1021-1772-AA  PYGANIC CROP PROTECTION EC 5.0 II           0.06   \n",
       "\n",
       "  Quantity Units  Treated Amount Treated Units Appl. Method  \n",
       "0         Gallon             0.5         ACRES       Ground  \n",
       "1         Gallon             0.5         ACRES       Ground  \n",
       "2         Gallon             0.5         ACRES       Ground  \n",
       "3         Gallon             0.5         ACRES       Ground  \n",
       "4         Gallon             0.5         ACRES       Ground  "
      ]
     },
     "execution_count": 20,
     "metadata": {},
     "output_type": "execute_result"
    }
   ],
   "source": [
    "ventura_df.head()"
   ]
  },
  {
   "cell_type": "code",
   "execution_count": 21,
   "metadata": {},
   "outputs": [
    {
     "data": {
      "text/plain": [
       "(130215, 19)"
      ]
     },
     "execution_count": 21,
     "metadata": {},
     "output_type": "execute_result"
    }
   ],
   "source": [
    "ventura_df.shape"
   ]
  },
  {
   "cell_type": "code",
   "execution_count": 22,
   "metadata": {},
   "outputs": [
    {
     "name": "stdout",
     "output_type": "stream",
     "text": [
      "<class 'pandas.core.frame.DataFrame'>\n",
      "RangeIndex: 130215 entries, 0 to 130214\n",
      "Data columns (total 19 columns):\n",
      " #   Column            Non-Null Count   Dtype         \n",
      "---  ------            --------------   -----         \n",
      " 0   Permit #          130215 non-null  object        \n",
      " 1   Permitee          130215 non-null  object        \n",
      " 2   Site ID           130215 non-null  object        \n",
      " 3   Site Location     130013 non-null  object        \n",
      " 4   Meridian          130193 non-null  object        \n",
      " 5   Township          130193 non-null  object        \n",
      " 6   Range             130193 non-null  object        \n",
      " 7   Section           130193 non-null  float64       \n",
      " 8   Application Date  130215 non-null  datetime64[ns]\n",
      " 9   Application Time  130215 non-null  object        \n",
      " 10  Commodity         130210 non-null  object        \n",
      " 11  Planted Amount    130166 non-null  float64       \n",
      " 12  EPA Reg No        130190 non-null  object        \n",
      " 13  Product Name      130215 non-null  object        \n",
      " 14  Quantity Used     130215 non-null  float64       \n",
      " 15  Quantity Units    130200 non-null  object        \n",
      " 16  Treated Amount    130212 non-null  float64       \n",
      " 17  Treated Units     130215 non-null  object        \n",
      " 18  Appl. Method      130214 non-null  object        \n",
      "dtypes: datetime64[ns](1), float64(4), object(14)\n",
      "memory usage: 18.9+ MB\n"
     ]
    }
   ],
   "source": [
    "ventura_df.info()"
   ]
  },
  {
   "cell_type": "code",
   "execution_count": 23,
   "metadata": {},
   "outputs": [
    {
     "data": {
      "text/html": [
       "<div>\n",
       "<style scoped>\n",
       "    .dataframe tbody tr th:only-of-type {\n",
       "        vertical-align: middle;\n",
       "    }\n",
       "\n",
       "    .dataframe tbody tr th {\n",
       "        vertical-align: top;\n",
       "    }\n",
       "\n",
       "    .dataframe thead th {\n",
       "        text-align: right;\n",
       "    }\n",
       "</style>\n",
       "<table border=\"1\" class=\"dataframe\">\n",
       "  <thead>\n",
       "    <tr style=\"text-align: right;\">\n",
       "      <th></th>\n",
       "      <th>Section</th>\n",
       "      <th>Planted Amount</th>\n",
       "      <th>Quantity Used</th>\n",
       "      <th>Treated Amount</th>\n",
       "    </tr>\n",
       "  </thead>\n",
       "  <tbody>\n",
       "    <tr>\n",
       "      <th>count</th>\n",
       "      <td>130193.000000</td>\n",
       "      <td>130166.000000</td>\n",
       "      <td>1.302150e+05</td>\n",
       "      <td>130212.000000</td>\n",
       "    </tr>\n",
       "    <tr>\n",
       "      <th>mean</th>\n",
       "      <td>17.379575</td>\n",
       "      <td>601.173559</td>\n",
       "      <td>9.693970e+01</td>\n",
       "      <td>695.575991</td>\n",
       "    </tr>\n",
       "    <tr>\n",
       "      <th>std</th>\n",
       "      <td>10.070669</td>\n",
       "      <td>12931.631158</td>\n",
       "      <td>5.644757e+03</td>\n",
       "      <td>6942.460181</td>\n",
       "    </tr>\n",
       "    <tr>\n",
       "      <th>min</th>\n",
       "      <td>1.000000</td>\n",
       "      <td>0.100000</td>\n",
       "      <td>0.000000e+00</td>\n",
       "      <td>0.000000</td>\n",
       "    </tr>\n",
       "    <tr>\n",
       "      <th>25%</th>\n",
       "      <td>9.000000</td>\n",
       "      <td>25.000000</td>\n",
       "      <td>1.270000e+00</td>\n",
       "      <td>2.750000</td>\n",
       "    </tr>\n",
       "    <tr>\n",
       "      <th>50%</th>\n",
       "      <td>17.000000</td>\n",
       "      <td>57.000000</td>\n",
       "      <td>6.000000e+00</td>\n",
       "      <td>8.050000</td>\n",
       "    </tr>\n",
       "    <tr>\n",
       "      <th>75%</th>\n",
       "      <td>26.000000</td>\n",
       "      <td>125.000000</td>\n",
       "      <td>3.200000e+01</td>\n",
       "      <td>21.750000</td>\n",
       "    </tr>\n",
       "    <tr>\n",
       "      <th>max</th>\n",
       "      <td>36.000000</td>\n",
       "      <td>375000.000000</td>\n",
       "      <td>2.018041e+06</td>\n",
       "      <td>600000.000000</td>\n",
       "    </tr>\n",
       "  </tbody>\n",
       "</table>\n",
       "</div>"
      ],
      "text/plain": [
       "             Section  Planted Amount  Quantity Used  Treated Amount\n",
       "count  130193.000000   130166.000000   1.302150e+05   130212.000000\n",
       "mean       17.379575      601.173559   9.693970e+01      695.575991\n",
       "std        10.070669    12931.631158   5.644757e+03     6942.460181\n",
       "min         1.000000        0.100000   0.000000e+00        0.000000\n",
       "25%         9.000000       25.000000   1.270000e+00        2.750000\n",
       "50%        17.000000       57.000000   6.000000e+00        8.050000\n",
       "75%        26.000000      125.000000   3.200000e+01       21.750000\n",
       "max        36.000000   375000.000000   2.018041e+06   600000.000000"
      ]
     },
     "execution_count": 23,
     "metadata": {},
     "output_type": "execute_result"
    }
   ],
   "source": [
    "# stastitics summary\n",
    "ventura_df.describe()"
   ]
  },
  {
   "cell_type": "code",
   "execution_count": 24,
   "metadata": {},
   "outputs": [
    {
     "data": {
      "text/html": [
       "<div>\n",
       "<style scoped>\n",
       "    .dataframe tbody tr th:only-of-type {\n",
       "        vertical-align: middle;\n",
       "    }\n",
       "\n",
       "    .dataframe tbody tr th {\n",
       "        vertical-align: top;\n",
       "    }\n",
       "\n",
       "    .dataframe thead th {\n",
       "        text-align: right;\n",
       "    }\n",
       "</style>\n",
       "<table border=\"1\" class=\"dataframe\">\n",
       "  <thead>\n",
       "    <tr style=\"text-align: right;\">\n",
       "      <th></th>\n",
       "      <th>Section</th>\n",
       "      <th>Planted Amount</th>\n",
       "      <th>Quantity Used</th>\n",
       "      <th>Treated Amount</th>\n",
       "    </tr>\n",
       "  </thead>\n",
       "  <tbody>\n",
       "    <tr>\n",
       "      <th>0</th>\n",
       "      <td>1.0</td>\n",
       "      <td>0.5</td>\n",
       "      <td>0.13</td>\n",
       "      <td>0.5</td>\n",
       "    </tr>\n",
       "    <tr>\n",
       "      <th>1</th>\n",
       "      <td>1.0</td>\n",
       "      <td>0.5</td>\n",
       "      <td>0.06</td>\n",
       "      <td>0.5</td>\n",
       "    </tr>\n",
       "  </tbody>\n",
       "</table>\n",
       "</div>"
      ],
      "text/plain": [
       "   Section  Planted Amount  Quantity Used  Treated Amount\n",
       "0      1.0             0.5           0.13             0.5\n",
       "1      1.0             0.5           0.06             0.5"
      ]
     },
     "execution_count": 24,
     "metadata": {},
     "output_type": "execute_result"
    }
   ],
   "source": [
    "ventura_df[['Section','Planted Amount','Quantity Used','Treated Amount']].head(2)"
   ]
  },
  {
   "cell_type": "code",
   "execution_count": 26,
   "metadata": {},
   "outputs": [
    {
     "data": {
      "text/plain": [
       "<matplotlib.axes._subplots.AxesSubplot at 0x2b1eaca1148>"
      ]
     },
     "execution_count": 26,
     "metadata": {},
     "output_type": "execute_result"
    },
    {
     "data": {
      "image/png": "[encoded data removed]",
      "text/plain": [
       "<Figure size 432x288 with 1 Axes>"
      ]
     },
     "metadata": {
      "needs_background": "light"
     },
     "output_type": "display_data"
    }
   ],
   "source": [
    "# How to find missing data\n",
    "sns.heatmap(ventura_df.isnull(),yticklabels=False, cbar=False,cmap='Blues')"
   ]
  },
  {
   "cell_type": "code",
   "execution_count": 27,
   "metadata": {},
   "outputs": [
    {
     "data": {
      "text/plain": [
       "Permit #              0\n",
       "Permitee              0\n",
       "Site ID               0\n",
       "Site Location       202\n",
       "Meridian             22\n",
       "Township             22\n",
       "Range                22\n",
       "Section              22\n",
       "Application Date      0\n",
       "Application Time      0\n",
       "Commodity             5\n",
       "Planted Amount       49\n",
       "EPA Reg No           25\n",
       "Product Name          0\n",
       "Quantity Used         0\n",
       "Quantity Units       15\n",
       "Treated Amount        3\n",
       "Treated Units         0\n",
       "Appl. Method          1\n",
       "dtype: int64"
      ]
     },
     "execution_count": 27,
     "metadata": {},
     "output_type": "execute_result"
    }
   ],
   "source": [
    "ventura_df.isnull().sum()"
   ]
  },
  {
   "cell_type": "code",
   "execution_count": 28,
   "metadata": {},
   "outputs": [
    {
     "data": {
      "text/plain": [
       "214"
      ]
     },
     "execution_count": 28,
     "metadata": {},
     "output_type": "execute_result"
    }
   ],
   "source": [
    "# let see if there is any duplicated data\n",
    "ventura_df.duplicated().sum()"
   ]
  },
  {
   "cell_type": "code",
   "execution_count": 30,
   "metadata": {},
   "outputs": [
    {
     "data": {
      "text/plain": [
       "<seaborn.axisgrid.PairGrid at 0x2b1ea02ab08>"
      ]
     },
     "execution_count": 30,
     "metadata": {},
     "output_type": "execute_result"
    },
    {
     "data": {
      "image/png": "[encoded data removed]",
      "text/plain": [
       "<Figure size 720x720 with 20 Axes>"
      ]
     },
     "metadata": {
      "needs_background": "light"
     },
     "output_type": "display_data"
    }
   ],
   "source": [
    "sns.pairplot(ventura_df)"
   ]
  },
  {
   "cell_type": "code",
   "execution_count": 31,
   "metadata": {},
   "outputs": [],
   "source": [
    "correlations=ventura_df.corr()"
   ]
  },
  {
   "cell_type": "code",
   "execution_count": 32,
   "metadata": {},
   "outputs": [
    {
     "data": {
      "text/html": [
       "<div>\n",
       "<style scoped>\n",
       "    .dataframe tbody tr th:only-of-type {\n",
       "        vertical-align: middle;\n",
       "    }\n",
       "\n",
       "    .dataframe tbody tr th {\n",
       "        vertical-align: top;\n",
       "    }\n",
       "\n",
       "    .dataframe thead th {\n",
       "        text-align: right;\n",
       "    }\n",
       "</style>\n",
       "<table border=\"1\" class=\"dataframe\">\n",
       "  <thead>\n",
       "    <tr style=\"text-align: right;\">\n",
       "      <th></th>\n",
       "      <th>Section</th>\n",
       "      <th>Planted Amount</th>\n",
       "      <th>Quantity Used</th>\n",
       "      <th>Treated Amount</th>\n",
       "    </tr>\n",
       "  </thead>\n",
       "  <tbody>\n",
       "    <tr>\n",
       "      <th>Section</th>\n",
       "      <td>1.000000</td>\n",
       "      <td>0.065371</td>\n",
       "      <td>-0.003648</td>\n",
       "      <td>0.094390</td>\n",
       "    </tr>\n",
       "    <tr>\n",
       "      <th>Planted Amount</th>\n",
       "      <td>0.065371</td>\n",
       "      <td>1.000000</td>\n",
       "      <td>-0.000278</td>\n",
       "      <td>0.332932</td>\n",
       "    </tr>\n",
       "    <tr>\n",
       "      <th>Quantity Used</th>\n",
       "      <td>-0.003648</td>\n",
       "      <td>-0.000278</td>\n",
       "      <td>1.000000</td>\n",
       "      <td>-0.000847</td>\n",
       "    </tr>\n",
       "    <tr>\n",
       "      <th>Treated Amount</th>\n",
       "      <td>0.094390</td>\n",
       "      <td>0.332932</td>\n",
       "      <td>-0.000847</td>\n",
       "      <td>1.000000</td>\n",
       "    </tr>\n",
       "  </tbody>\n",
       "</table>\n",
       "</div>"
      ],
      "text/plain": [
       "                 Section  Planted Amount  Quantity Used  Treated Amount\n",
       "Section         1.000000        0.065371      -0.003648        0.094390\n",
       "Planted Amount  0.065371        1.000000      -0.000278        0.332932\n",
       "Quantity Used  -0.003648       -0.000278       1.000000       -0.000847\n",
       "Treated Amount  0.094390        0.332932      -0.000847        1.000000"
      ]
     },
     "execution_count": 32,
     "metadata": {},
     "output_type": "execute_result"
    }
   ],
   "source": [
    "correlations"
   ]
  },
  {
   "cell_type": "code",
   "execution_count": 33,
   "metadata": {},
   "outputs": [
    {
     "data": {
      "text/plain": [
       "<matplotlib.axes._subplots.AxesSubplot at 0x2b1e3a24e48>"
      ]
     },
     "execution_count": 33,
     "metadata": {},
     "output_type": "execute_result"
    },
    {
     "data": {
      "image/png": "[encoded data removed]",
      "text/plain": [
       "<Figure size 1440x1440 with 2 Axes>"
      ]
     },
     "metadata": {
      "needs_background": "light"
     },
     "output_type": "display_data"
    }
   ],
   "source": [
    "f,ax=plt.subplots(figsize=(20,20))\n",
    "sns.heatmap(correlations, annot=True)"
   ]
  },
  {
   "cell_type": "code",
   "execution_count": null,
   "metadata": {},
   "outputs": [],
   "source": []
  },
  {
   "cell_type": "code",
   "execution_count": null,
   "metadata": {},
   "outputs": [],
   "source": []
  }
 ],
 "metadata": {
  "kernelspec": {
   "display_name": "Python 3",
   "language": "python",
   "name": "python3"
  },
  "language_info": {
   "codemirror_mode": {
    "name": "ipython",
    "version": 3
   },
   "file_extension": ".py",
   "mimetype": "text/x-python",
   "name": "python",
   "nbconvert_exporter": "python",
   "pygments_lexer": "ipython3",
   "version": "3.7.6"
  }
 },
 "nbformat": 4,
 "nbformat_minor": 4
}
